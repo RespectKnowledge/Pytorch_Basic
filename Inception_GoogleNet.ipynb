{
  "nbformat": 4,
  "nbformat_minor": 0,
  "metadata": {
    "colab": {
      "name": "Inception_GoogleNet.ipynb",
      "provenance": [],
      "collapsed_sections": []
    },
    "kernelspec": {
      "name": "python3",
      "display_name": "Python 3"
    },
    "accelerator": "GPU"
  },
  "cells": [
    {
      "cell_type": "code",
      "metadata": {
        "colab": {
          "base_uri": "https://localhost:8080/",
          "height": 346
        },
        "id": "LdhHcp3WZWUx",
        "outputId": "6107265e-703f-4f69-fe55-86a87757a46b"
      },
      "source": [
        "import torch\r\n",
        "import torch.nn as nn\r\n",
        "class conv_block(nn.Module):\r\n",
        "  def __init__(self,in_channels,out_channels,**kwargs):\r\n",
        "    super(conv_block,self).__init__()\r\n",
        "    self.relu=nn.ReLU()\r\n",
        "    self.conv1=nn.Conv2d(in_channels,out_channels,**kwargs)\r\n",
        "    self.bn1=nn.BatchNorm2d(out_channels)\r\n",
        "\r\n",
        "  def forward(self,x):\r\n",
        "    return self.relu(self.bn1(self.conv1(x)))\r\n",
        "\r\n",
        "x=torch.rand(1,3,224,224)\r\n",
        "layer=conv_block(3,10)\r\n",
        "out=layer(x)\r\n",
        "print(out.shape)\r\n"
      ],
      "execution_count": null,
      "outputs": [
        {
          "output_type": "error",
          "ename": "TypeError",
          "evalue": "ignored",
          "traceback": [
            "\u001b[0;31m---------------------------------------------------------------------------\u001b[0m",
            "\u001b[0;31mTypeError\u001b[0m                                 Traceback (most recent call last)",
            "\u001b[0;32m<ipython-input-8-3099431dabfe>\u001b[0m in \u001b[0;36m<module>\u001b[0;34m()\u001b[0m\n\u001b[1;32m     12\u001b[0m \u001b[0;34m\u001b[0m\u001b[0m\n\u001b[1;32m     13\u001b[0m \u001b[0mx\u001b[0m\u001b[0;34m=\u001b[0m\u001b[0mtorch\u001b[0m\u001b[0;34m.\u001b[0m\u001b[0mrand\u001b[0m\u001b[0;34m(\u001b[0m\u001b[0;36m1\u001b[0m\u001b[0;34m,\u001b[0m\u001b[0;36m3\u001b[0m\u001b[0;34m,\u001b[0m\u001b[0;36m224\u001b[0m\u001b[0;34m,\u001b[0m\u001b[0;36m224\u001b[0m\u001b[0;34m)\u001b[0m\u001b[0;34m\u001b[0m\u001b[0;34m\u001b[0m\u001b[0m\n\u001b[0;32m---> 14\u001b[0;31m \u001b[0mlayer\u001b[0m\u001b[0;34m=\u001b[0m\u001b[0mconv_block\u001b[0m\u001b[0;34m(\u001b[0m\u001b[0;36m3\u001b[0m\u001b[0;34m,\u001b[0m\u001b[0;36m10\u001b[0m\u001b[0;34m)\u001b[0m\u001b[0;34m\u001b[0m\u001b[0;34m\u001b[0m\u001b[0m\n\u001b[0m\u001b[1;32m     15\u001b[0m \u001b[0mout\u001b[0m\u001b[0;34m=\u001b[0m\u001b[0mlayer\u001b[0m\u001b[0;34m(\u001b[0m\u001b[0mx\u001b[0m\u001b[0;34m)\u001b[0m\u001b[0;34m\u001b[0m\u001b[0;34m\u001b[0m\u001b[0m\n\u001b[1;32m     16\u001b[0m \u001b[0mprint\u001b[0m\u001b[0;34m(\u001b[0m\u001b[0mout\u001b[0m\u001b[0;34m.\u001b[0m\u001b[0mshape\u001b[0m\u001b[0;34m)\u001b[0m\u001b[0;34m\u001b[0m\u001b[0;34m\u001b[0m\u001b[0m\n",
            "\u001b[0;32m<ipython-input-8-3099431dabfe>\u001b[0m in \u001b[0;36m__init__\u001b[0;34m(self, in_channels, out_channels, **kwargs)\u001b[0m\n\u001b[1;32m      5\u001b[0m     \u001b[0msuper\u001b[0m\u001b[0;34m(\u001b[0m\u001b[0mconv_block\u001b[0m\u001b[0;34m,\u001b[0m\u001b[0mself\u001b[0m\u001b[0;34m)\u001b[0m\u001b[0;34m.\u001b[0m\u001b[0m__init__\u001b[0m\u001b[0;34m(\u001b[0m\u001b[0;34m)\u001b[0m\u001b[0;34m\u001b[0m\u001b[0;34m\u001b[0m\u001b[0m\n\u001b[1;32m      6\u001b[0m     \u001b[0mself\u001b[0m\u001b[0;34m.\u001b[0m\u001b[0mrelu\u001b[0m\u001b[0;34m=\u001b[0m\u001b[0mnn\u001b[0m\u001b[0;34m.\u001b[0m\u001b[0mReLU\u001b[0m\u001b[0;34m(\u001b[0m\u001b[0;34m)\u001b[0m\u001b[0;34m\u001b[0m\u001b[0;34m\u001b[0m\u001b[0m\n\u001b[0;32m----> 7\u001b[0;31m     \u001b[0mself\u001b[0m\u001b[0;34m.\u001b[0m\u001b[0mconv1\u001b[0m\u001b[0;34m=\u001b[0m\u001b[0mnn\u001b[0m\u001b[0;34m.\u001b[0m\u001b[0mConv2d\u001b[0m\u001b[0;34m(\u001b[0m\u001b[0min_channels\u001b[0m\u001b[0;34m,\u001b[0m\u001b[0mout_channels\u001b[0m\u001b[0;34m,\u001b[0m\u001b[0;34m**\u001b[0m\u001b[0mkwargs\u001b[0m\u001b[0;34m)\u001b[0m\u001b[0;34m\u001b[0m\u001b[0;34m\u001b[0m\u001b[0m\n\u001b[0m\u001b[1;32m      8\u001b[0m     \u001b[0mself\u001b[0m\u001b[0;34m.\u001b[0m\u001b[0mbn1\u001b[0m\u001b[0;34m=\u001b[0m\u001b[0mnn\u001b[0m\u001b[0;34m.\u001b[0m\u001b[0mBatchNorm2d\u001b[0m\u001b[0;34m(\u001b[0m\u001b[0mout_channels\u001b[0m\u001b[0;34m)\u001b[0m\u001b[0;34m\u001b[0m\u001b[0;34m\u001b[0m\u001b[0m\n\u001b[1;32m      9\u001b[0m \u001b[0;34m\u001b[0m\u001b[0m\n",
            "\u001b[0;31mTypeError\u001b[0m: __init__() missing 1 required positional argument: 'kernel_size'"
          ]
        }
      ]
    },
    {
      "cell_type": "code",
      "metadata": {
        "id": "_L4Lubo0g5Jj"
      },
      "source": [
        "import torch\r\n",
        "import torch.nn as nn\r\n",
        "class conv_block(nn.Module):\r\n",
        "  def __init__(self,in_channels,out_channels,**kwargs):\r\n",
        "    super(conv_block,self).__init__()\r\n",
        "    self.relu=nn.ReLU()\r\n",
        "    self.conv1=nn.Conv2d(in_channels,out_channels,**kwargs)\r\n",
        "    self.bn1=nn.BatchNorm2d(out_channels)\r\n",
        "\r\n",
        "  def forward(self,x):\r\n",
        "    return self.relu(self.bn1(self.conv1(x)))\r\n"
      ],
      "execution_count": null,
      "outputs": []
    },
    {
      "cell_type": "code",
      "metadata": {
        "colab": {
          "base_uri": "https://localhost:8080/"
        },
        "id": "XOnIdJv7bABS",
        "outputId": "c564c133-bb01-405a-eb87-feb02c0815ca"
      },
      "source": [
        "class Inceptionblock(nn.Module):\r\n",
        "  def __init__(self,in_channels,out_1x1,red_3x3,out_3x3,red_5x5,out_5x5,out_1x1pool):\r\n",
        "    super(Inceptionblock,self).__init__()\r\n",
        "    self.branch1=conv_block(in_channels,out_1x1,kernel_size=1)\r\n",
        "    \r\n",
        "    self.branch2=nn.Sequential(conv_block(in_channels,red_3x3,kernel_size=1),\r\n",
        "                               conv_block(red_3x3,out_3x3,kernel_size=3,padding=1))\r\n",
        "    \r\n",
        "    self.branch3=nn.Sequential(conv_block(in_channels,red_5x5,kernel_size=1),\r\n",
        "                              conv_block(red_5x5,out_5x5,kernel_size=5,padding=2))\r\n",
        "    \r\n",
        "    self.branch4=nn.Sequential(nn.MaxPool2d(kernel_size=3,stride=1,padding=1),\r\n",
        "                               conv_block(in_channels,out_1x1,kernel_size=1))\r\n",
        "    \r\n",
        "  def forward(self,x):\r\n",
        "    return torch.cat([self.branch1(x),self.branch2(x),self.branch3(x),self.branch4(x)],1)\r\n",
        "layerI=Inceptionblock(192,64,96,128,16,32,32)\r\n",
        "x=torch.rand(1,192,224,224)\r\n",
        "out=layerI(x)\r\n",
        "print(out.shape)"
      ],
      "execution_count": null,
      "outputs": [
        {
          "output_type": "stream",
          "text": [
            "torch.Size([1, 288, 224, 224])\n"
          ],
          "name": "stdout"
        }
      ]
    },
    {
      "cell_type": "code",
      "metadata": {
        "colab": {
          "base_uri": "https://localhost:8080/",
          "height": 370
        },
        "id": "Ymnq-U3YfX3r",
        "outputId": "48e91777-0b70-4598-f368-af129a7f3974"
      },
      "source": [
        "class GoogleNet(nn.Module):\r\n",
        "  def __init__(self, in_channels,n_classes):\r\n",
        "    super(GoogleNet,self).__init__()\r\n",
        "    self.conv1=conv_block(in_channels,64,kernel_size=(7,7),stride=(2,2),padding=(3,3))\r\n",
        "    self.maxpool1=nn.MaxPool2d(kernel_size=3,stride=2,padding=1)\r\n",
        "    self.conv2=conv_block(64,192,kernel_size=3,stride=1,padding=1)\r\n",
        "    self.maxpool2=nn.MaxPool2d(kernel_size=3,stride=2,padding=1)\r\n",
        "  \r\n",
        "    self.inception3a=Inceptionblock(192,64,96,128,16,32,32)\r\n",
        "    self.inception3b=Inceptionblock(256,128,128,192,32,96,64)\r\n",
        "    self.maxpool3=nn.MaxPool2d(kernel_size=3,stride=2,padding=1)\r\n",
        "    self.inception4a=Inceptionblock(480,192,96,208,16,48,64)\r\n",
        "    self.inception4b=Inceptionblock(512,160,112,224,24,64,64)\r\n",
        "    self.inception4c=Inceptionblock(512,128,128,256,24,64,64)\r\n",
        "    self.inception4d=Inceptionblock(512,112,144,288,32,64,64)\r\n",
        "    self.inception4e=Inceptionblock(528,256,160,320,32,128,128)\r\n",
        "    self.maxpool4=nn.MaxPool2d(kernel_size=3,stride=2,padding=1)\r\n",
        "\r\n",
        "    self.inception5a=Inceptionblock(832,256,160,320,32,128,128)\r\n",
        "    self.inception5b=Inceptionblock(832,384,192,384,48,128,128)\r\n",
        "    self.maxpool5=nn.AvgPool2d(kernel_size=7,stride=1)\r\n",
        "    self.drpoout=nn.Dropout2d(p=.5)\r\n",
        "    self.fc=nn.Linear(1024,n_classes)\r\n",
        "  def forward(self,x):\r\n",
        "    x=self.conv1(x)\r\n",
        "    x=self.maxpool1(x)\r\n",
        "    x=self.conv2(x)\r\n",
        "    x=self.maxpool2(x)\r\n",
        "    x=self.inception3a(x)\r\n",
        "    print(x.shape)\r\n",
        "    x=self.inception3b(x)\r\n",
        "    x=self.maxpool3(x)\r\n",
        "    x=self.inception4a(x)\r\n",
        "    x=self.inception4b(x)\r\n",
        "    x=self.inception4c(x)\r\n",
        "    x=self.inception4d(x)\r\n",
        "    x=self.inception4e(x)\r\n",
        "    x=self.maxpool4(x)\r\n",
        "    x=self.inception5a(x)\r\n",
        "    x=self.inception5b(x)\r\n",
        "    x=self.maxpool5(x)\r\n",
        "    x=self.drpoout(x)\r\n",
        "    x=x.reshape(x.shape[0],-1)\r\n",
        "    x=self.fc(x)\r\n",
        "    return x\r\n",
        "    \r\n",
        "model=GoogleNet(3,1000)\r\n",
        "\r\n",
        "x=torch.rand(1,3,224,224)\r\n",
        "out=model(x)\r\n",
        "print(out.shape)\r\n"
      ],
      "execution_count": null,
      "outputs": [
        {
          "output_type": "stream",
          "text": [
            "torch.Size([1, 288, 28, 28])\n"
          ],
          "name": "stdout"
        },
        {
          "output_type": "error",
          "ename": "RuntimeError",
          "evalue": "ignored",
          "traceback": [
            "\u001b[0;31m---------------------------------------------------------------------------\u001b[0m",
            "\u001b[0;31mRuntimeError\u001b[0m                              Traceback (most recent call last)",
            "\u001b[0;32m<ipython-input-28-8b73e5855f7d>\u001b[0m in \u001b[0;36m<module>\u001b[0;34m()\u001b[0m\n\u001b[1;32m     48\u001b[0m \u001b[0;34m\u001b[0m\u001b[0m\n\u001b[1;32m     49\u001b[0m \u001b[0mx\u001b[0m\u001b[0;34m=\u001b[0m\u001b[0mtorch\u001b[0m\u001b[0;34m.\u001b[0m\u001b[0mrand\u001b[0m\u001b[0;34m(\u001b[0m\u001b[0;36m1\u001b[0m\u001b[0;34m,\u001b[0m\u001b[0;36m3\u001b[0m\u001b[0;34m,\u001b[0m\u001b[0;36m224\u001b[0m\u001b[0;34m,\u001b[0m\u001b[0;36m224\u001b[0m\u001b[0;34m)\u001b[0m\u001b[0;34m\u001b[0m\u001b[0;34m\u001b[0m\u001b[0m\n\u001b[0;32m---> 50\u001b[0;31m \u001b[0mout\u001b[0m\u001b[0;34m=\u001b[0m\u001b[0mmodel\u001b[0m\u001b[0;34m(\u001b[0m\u001b[0mx\u001b[0m\u001b[0;34m)\u001b[0m\u001b[0;34m\u001b[0m\u001b[0;34m\u001b[0m\u001b[0m\n\u001b[0m\u001b[1;32m     51\u001b[0m \u001b[0mprint\u001b[0m\u001b[0;34m(\u001b[0m\u001b[0mout\u001b[0m\u001b[0;34m.\u001b[0m\u001b[0mshape\u001b[0m\u001b[0;34m)\u001b[0m\u001b[0;34m\u001b[0m\u001b[0;34m\u001b[0m\u001b[0m\n",
            "\u001b[0;32m/usr/local/lib/python3.6/dist-packages/torch/nn/modules/module.py\u001b[0m in \u001b[0;36m_call_impl\u001b[0;34m(self, *input, **kwargs)\u001b[0m\n\u001b[1;32m    725\u001b[0m             \u001b[0mresult\u001b[0m \u001b[0;34m=\u001b[0m \u001b[0mself\u001b[0m\u001b[0;34m.\u001b[0m\u001b[0m_slow_forward\u001b[0m\u001b[0;34m(\u001b[0m\u001b[0;34m*\u001b[0m\u001b[0minput\u001b[0m\u001b[0;34m,\u001b[0m \u001b[0;34m**\u001b[0m\u001b[0mkwargs\u001b[0m\u001b[0;34m)\u001b[0m\u001b[0;34m\u001b[0m\u001b[0;34m\u001b[0m\u001b[0m\n\u001b[1;32m    726\u001b[0m         \u001b[0;32melse\u001b[0m\u001b[0;34m:\u001b[0m\u001b[0;34m\u001b[0m\u001b[0;34m\u001b[0m\u001b[0m\n\u001b[0;32m--> 727\u001b[0;31m             \u001b[0mresult\u001b[0m \u001b[0;34m=\u001b[0m \u001b[0mself\u001b[0m\u001b[0;34m.\u001b[0m\u001b[0mforward\u001b[0m\u001b[0;34m(\u001b[0m\u001b[0;34m*\u001b[0m\u001b[0minput\u001b[0m\u001b[0;34m,\u001b[0m \u001b[0;34m**\u001b[0m\u001b[0mkwargs\u001b[0m\u001b[0;34m)\u001b[0m\u001b[0;34m\u001b[0m\u001b[0;34m\u001b[0m\u001b[0m\n\u001b[0m\u001b[1;32m    728\u001b[0m         for hook in itertools.chain(\n\u001b[1;32m    729\u001b[0m                 \u001b[0m_global_forward_hooks\u001b[0m\u001b[0;34m.\u001b[0m\u001b[0mvalues\u001b[0m\u001b[0;34m(\u001b[0m\u001b[0;34m)\u001b[0m\u001b[0;34m,\u001b[0m\u001b[0;34m\u001b[0m\u001b[0;34m\u001b[0m\u001b[0m\n",
            "\u001b[0;32m<ipython-input-28-8b73e5855f7d>\u001b[0m in \u001b[0;36mforward\u001b[0;34m(self, x)\u001b[0m\n\u001b[1;32m     29\u001b[0m     \u001b[0mx\u001b[0m\u001b[0;34m=\u001b[0m\u001b[0mself\u001b[0m\u001b[0;34m.\u001b[0m\u001b[0minception3a\u001b[0m\u001b[0;34m(\u001b[0m\u001b[0mx\u001b[0m\u001b[0;34m)\u001b[0m\u001b[0;34m\u001b[0m\u001b[0;34m\u001b[0m\u001b[0m\n\u001b[1;32m     30\u001b[0m     \u001b[0mprint\u001b[0m\u001b[0;34m(\u001b[0m\u001b[0mx\u001b[0m\u001b[0;34m.\u001b[0m\u001b[0mshape\u001b[0m\u001b[0;34m)\u001b[0m\u001b[0;34m\u001b[0m\u001b[0;34m\u001b[0m\u001b[0m\n\u001b[0;32m---> 31\u001b[0;31m     \u001b[0mx\u001b[0m\u001b[0;34m=\u001b[0m\u001b[0mself\u001b[0m\u001b[0;34m.\u001b[0m\u001b[0minception3b\u001b[0m\u001b[0;34m(\u001b[0m\u001b[0mx\u001b[0m\u001b[0;34m)\u001b[0m\u001b[0;34m\u001b[0m\u001b[0;34m\u001b[0m\u001b[0m\n\u001b[0m\u001b[1;32m     32\u001b[0m     \u001b[0mx\u001b[0m\u001b[0;34m=\u001b[0m\u001b[0mself\u001b[0m\u001b[0;34m.\u001b[0m\u001b[0mmaxpool3\u001b[0m\u001b[0;34m(\u001b[0m\u001b[0mx\u001b[0m\u001b[0;34m)\u001b[0m\u001b[0;34m\u001b[0m\u001b[0;34m\u001b[0m\u001b[0m\n\u001b[1;32m     33\u001b[0m     \u001b[0mx\u001b[0m\u001b[0;34m=\u001b[0m\u001b[0mself\u001b[0m\u001b[0;34m.\u001b[0m\u001b[0minception4a\u001b[0m\u001b[0;34m(\u001b[0m\u001b[0mx\u001b[0m\u001b[0;34m)\u001b[0m\u001b[0;34m\u001b[0m\u001b[0;34m\u001b[0m\u001b[0m\n",
            "\u001b[0;32m/usr/local/lib/python3.6/dist-packages/torch/nn/modules/module.py\u001b[0m in \u001b[0;36m_call_impl\u001b[0;34m(self, *input, **kwargs)\u001b[0m\n\u001b[1;32m    725\u001b[0m             \u001b[0mresult\u001b[0m \u001b[0;34m=\u001b[0m \u001b[0mself\u001b[0m\u001b[0;34m.\u001b[0m\u001b[0m_slow_forward\u001b[0m\u001b[0;34m(\u001b[0m\u001b[0;34m*\u001b[0m\u001b[0minput\u001b[0m\u001b[0;34m,\u001b[0m \u001b[0;34m**\u001b[0m\u001b[0mkwargs\u001b[0m\u001b[0;34m)\u001b[0m\u001b[0;34m\u001b[0m\u001b[0;34m\u001b[0m\u001b[0m\n\u001b[1;32m    726\u001b[0m         \u001b[0;32melse\u001b[0m\u001b[0;34m:\u001b[0m\u001b[0;34m\u001b[0m\u001b[0;34m\u001b[0m\u001b[0m\n\u001b[0;32m--> 727\u001b[0;31m             \u001b[0mresult\u001b[0m \u001b[0;34m=\u001b[0m \u001b[0mself\u001b[0m\u001b[0;34m.\u001b[0m\u001b[0mforward\u001b[0m\u001b[0;34m(\u001b[0m\u001b[0;34m*\u001b[0m\u001b[0minput\u001b[0m\u001b[0;34m,\u001b[0m \u001b[0;34m**\u001b[0m\u001b[0mkwargs\u001b[0m\u001b[0;34m)\u001b[0m\u001b[0;34m\u001b[0m\u001b[0;34m\u001b[0m\u001b[0m\n\u001b[0m\u001b[1;32m    728\u001b[0m         for hook in itertools.chain(\n\u001b[1;32m    729\u001b[0m                 \u001b[0m_global_forward_hooks\u001b[0m\u001b[0;34m.\u001b[0m\u001b[0mvalues\u001b[0m\u001b[0;34m(\u001b[0m\u001b[0;34m)\u001b[0m\u001b[0;34m,\u001b[0m\u001b[0;34m\u001b[0m\u001b[0;34m\u001b[0m\u001b[0m\n",
            "\u001b[0;32m<ipython-input-27-6b831ce79a57>\u001b[0m in \u001b[0;36mforward\u001b[0;34m(self, x)\u001b[0m\n\u001b[1;32m     11\u001b[0m \u001b[0;34m\u001b[0m\u001b[0m\n\u001b[1;32m     12\u001b[0m   \u001b[0;32mdef\u001b[0m \u001b[0mforward\u001b[0m\u001b[0;34m(\u001b[0m\u001b[0mself\u001b[0m\u001b[0;34m,\u001b[0m\u001b[0mx\u001b[0m\u001b[0;34m)\u001b[0m\u001b[0;34m:\u001b[0m\u001b[0;34m\u001b[0m\u001b[0;34m\u001b[0m\u001b[0m\n\u001b[0;32m---> 13\u001b[0;31m     \u001b[0;32mreturn\u001b[0m \u001b[0mtorch\u001b[0m\u001b[0;34m.\u001b[0m\u001b[0mcat\u001b[0m\u001b[0;34m(\u001b[0m\u001b[0;34m[\u001b[0m\u001b[0mself\u001b[0m\u001b[0;34m.\u001b[0m\u001b[0mbranch1\u001b[0m\u001b[0;34m(\u001b[0m\u001b[0mx\u001b[0m\u001b[0;34m)\u001b[0m\u001b[0;34m,\u001b[0m\u001b[0mself\u001b[0m\u001b[0;34m.\u001b[0m\u001b[0mbranch2\u001b[0m\u001b[0;34m(\u001b[0m\u001b[0mx\u001b[0m\u001b[0;34m)\u001b[0m\u001b[0;34m,\u001b[0m\u001b[0mself\u001b[0m\u001b[0;34m.\u001b[0m\u001b[0mbranch3\u001b[0m\u001b[0;34m(\u001b[0m\u001b[0mx\u001b[0m\u001b[0;34m)\u001b[0m\u001b[0;34m,\u001b[0m\u001b[0mself\u001b[0m\u001b[0;34m.\u001b[0m\u001b[0mbranch4\u001b[0m\u001b[0;34m(\u001b[0m\u001b[0mx\u001b[0m\u001b[0;34m)\u001b[0m\u001b[0;34m]\u001b[0m\u001b[0;34m,\u001b[0m\u001b[0;36m1\u001b[0m\u001b[0;34m)\u001b[0m\u001b[0;34m\u001b[0m\u001b[0;34m\u001b[0m\u001b[0m\n\u001b[0m\u001b[1;32m     14\u001b[0m \u001b[0mlayerI\u001b[0m\u001b[0;34m=\u001b[0m\u001b[0mInceptionblock\u001b[0m\u001b[0;34m(\u001b[0m\u001b[0;36m192\u001b[0m\u001b[0;34m,\u001b[0m\u001b[0;36m64\u001b[0m\u001b[0;34m,\u001b[0m\u001b[0;36m96\u001b[0m\u001b[0;34m,\u001b[0m\u001b[0;36m128\u001b[0m\u001b[0;34m,\u001b[0m\u001b[0;36m16\u001b[0m\u001b[0;34m,\u001b[0m\u001b[0;36m32\u001b[0m\u001b[0;34m,\u001b[0m\u001b[0;36m32\u001b[0m\u001b[0;34m)\u001b[0m\u001b[0;34m\u001b[0m\u001b[0;34m\u001b[0m\u001b[0m\n\u001b[1;32m     15\u001b[0m \u001b[0mx\u001b[0m\u001b[0;34m=\u001b[0m\u001b[0mtorch\u001b[0m\u001b[0;34m.\u001b[0m\u001b[0mrand\u001b[0m\u001b[0;34m(\u001b[0m\u001b[0;36m1\u001b[0m\u001b[0;34m,\u001b[0m\u001b[0;36m192\u001b[0m\u001b[0;34m,\u001b[0m\u001b[0;36m224\u001b[0m\u001b[0;34m,\u001b[0m\u001b[0;36m224\u001b[0m\u001b[0;34m)\u001b[0m\u001b[0;34m\u001b[0m\u001b[0;34m\u001b[0m\u001b[0m\n",
            "\u001b[0;32m/usr/local/lib/python3.6/dist-packages/torch/nn/modules/module.py\u001b[0m in \u001b[0;36m_call_impl\u001b[0;34m(self, *input, **kwargs)\u001b[0m\n\u001b[1;32m    725\u001b[0m             \u001b[0mresult\u001b[0m \u001b[0;34m=\u001b[0m \u001b[0mself\u001b[0m\u001b[0;34m.\u001b[0m\u001b[0m_slow_forward\u001b[0m\u001b[0;34m(\u001b[0m\u001b[0;34m*\u001b[0m\u001b[0minput\u001b[0m\u001b[0;34m,\u001b[0m \u001b[0;34m**\u001b[0m\u001b[0mkwargs\u001b[0m\u001b[0;34m)\u001b[0m\u001b[0;34m\u001b[0m\u001b[0;34m\u001b[0m\u001b[0m\n\u001b[1;32m    726\u001b[0m         \u001b[0;32melse\u001b[0m\u001b[0;34m:\u001b[0m\u001b[0;34m\u001b[0m\u001b[0;34m\u001b[0m\u001b[0m\n\u001b[0;32m--> 727\u001b[0;31m             \u001b[0mresult\u001b[0m \u001b[0;34m=\u001b[0m \u001b[0mself\u001b[0m\u001b[0;34m.\u001b[0m\u001b[0mforward\u001b[0m\u001b[0;34m(\u001b[0m\u001b[0;34m*\u001b[0m\u001b[0minput\u001b[0m\u001b[0;34m,\u001b[0m \u001b[0;34m**\u001b[0m\u001b[0mkwargs\u001b[0m\u001b[0;34m)\u001b[0m\u001b[0;34m\u001b[0m\u001b[0;34m\u001b[0m\u001b[0m\n\u001b[0m\u001b[1;32m    728\u001b[0m         for hook in itertools.chain(\n\u001b[1;32m    729\u001b[0m                 \u001b[0m_global_forward_hooks\u001b[0m\u001b[0;34m.\u001b[0m\u001b[0mvalues\u001b[0m\u001b[0;34m(\u001b[0m\u001b[0;34m)\u001b[0m\u001b[0;34m,\u001b[0m\u001b[0;34m\u001b[0m\u001b[0;34m\u001b[0m\u001b[0m\n",
            "\u001b[0;32m<ipython-input-9-8851acdc70c5>\u001b[0m in \u001b[0;36mforward\u001b[0;34m(self, x)\u001b[0m\n\u001b[1;32m      9\u001b[0m \u001b[0;34m\u001b[0m\u001b[0m\n\u001b[1;32m     10\u001b[0m   \u001b[0;32mdef\u001b[0m \u001b[0mforward\u001b[0m\u001b[0;34m(\u001b[0m\u001b[0mself\u001b[0m\u001b[0;34m,\u001b[0m\u001b[0mx\u001b[0m\u001b[0;34m)\u001b[0m\u001b[0;34m:\u001b[0m\u001b[0;34m\u001b[0m\u001b[0;34m\u001b[0m\u001b[0m\n\u001b[0;32m---> 11\u001b[0;31m     \u001b[0;32mreturn\u001b[0m \u001b[0mself\u001b[0m\u001b[0;34m.\u001b[0m\u001b[0mrelu\u001b[0m\u001b[0;34m(\u001b[0m\u001b[0mself\u001b[0m\u001b[0;34m.\u001b[0m\u001b[0mbn1\u001b[0m\u001b[0;34m(\u001b[0m\u001b[0mself\u001b[0m\u001b[0;34m.\u001b[0m\u001b[0mconv1\u001b[0m\u001b[0;34m(\u001b[0m\u001b[0mx\u001b[0m\u001b[0;34m)\u001b[0m\u001b[0;34m)\u001b[0m\u001b[0;34m)\u001b[0m\u001b[0;34m\u001b[0m\u001b[0;34m\u001b[0m\u001b[0m\n\u001b[0m",
            "\u001b[0;32m/usr/local/lib/python3.6/dist-packages/torch/nn/modules/module.py\u001b[0m in \u001b[0;36m_call_impl\u001b[0;34m(self, *input, **kwargs)\u001b[0m\n\u001b[1;32m    725\u001b[0m             \u001b[0mresult\u001b[0m \u001b[0;34m=\u001b[0m \u001b[0mself\u001b[0m\u001b[0;34m.\u001b[0m\u001b[0m_slow_forward\u001b[0m\u001b[0;34m(\u001b[0m\u001b[0;34m*\u001b[0m\u001b[0minput\u001b[0m\u001b[0;34m,\u001b[0m \u001b[0;34m**\u001b[0m\u001b[0mkwargs\u001b[0m\u001b[0;34m)\u001b[0m\u001b[0;34m\u001b[0m\u001b[0;34m\u001b[0m\u001b[0m\n\u001b[1;32m    726\u001b[0m         \u001b[0;32melse\u001b[0m\u001b[0;34m:\u001b[0m\u001b[0;34m\u001b[0m\u001b[0;34m\u001b[0m\u001b[0m\n\u001b[0;32m--> 727\u001b[0;31m             \u001b[0mresult\u001b[0m \u001b[0;34m=\u001b[0m \u001b[0mself\u001b[0m\u001b[0;34m.\u001b[0m\u001b[0mforward\u001b[0m\u001b[0;34m(\u001b[0m\u001b[0;34m*\u001b[0m\u001b[0minput\u001b[0m\u001b[0;34m,\u001b[0m \u001b[0;34m**\u001b[0m\u001b[0mkwargs\u001b[0m\u001b[0;34m)\u001b[0m\u001b[0;34m\u001b[0m\u001b[0;34m\u001b[0m\u001b[0m\n\u001b[0m\u001b[1;32m    728\u001b[0m         for hook in itertools.chain(\n\u001b[1;32m    729\u001b[0m                 \u001b[0m_global_forward_hooks\u001b[0m\u001b[0;34m.\u001b[0m\u001b[0mvalues\u001b[0m\u001b[0;34m(\u001b[0m\u001b[0;34m)\u001b[0m\u001b[0;34m,\u001b[0m\u001b[0;34m\u001b[0m\u001b[0;34m\u001b[0m\u001b[0m\n",
            "\u001b[0;32m/usr/local/lib/python3.6/dist-packages/torch/nn/modules/conv.py\u001b[0m in \u001b[0;36mforward\u001b[0;34m(self, input)\u001b[0m\n\u001b[1;32m    421\u001b[0m \u001b[0;34m\u001b[0m\u001b[0m\n\u001b[1;32m    422\u001b[0m     \u001b[0;32mdef\u001b[0m \u001b[0mforward\u001b[0m\u001b[0;34m(\u001b[0m\u001b[0mself\u001b[0m\u001b[0;34m,\u001b[0m \u001b[0minput\u001b[0m\u001b[0;34m:\u001b[0m \u001b[0mTensor\u001b[0m\u001b[0;34m)\u001b[0m \u001b[0;34m->\u001b[0m \u001b[0mTensor\u001b[0m\u001b[0;34m:\u001b[0m\u001b[0;34m\u001b[0m\u001b[0;34m\u001b[0m\u001b[0m\n\u001b[0;32m--> 423\u001b[0;31m         \u001b[0;32mreturn\u001b[0m \u001b[0mself\u001b[0m\u001b[0;34m.\u001b[0m\u001b[0m_conv_forward\u001b[0m\u001b[0;34m(\u001b[0m\u001b[0minput\u001b[0m\u001b[0;34m,\u001b[0m \u001b[0mself\u001b[0m\u001b[0;34m.\u001b[0m\u001b[0mweight\u001b[0m\u001b[0;34m)\u001b[0m\u001b[0;34m\u001b[0m\u001b[0;34m\u001b[0m\u001b[0m\n\u001b[0m\u001b[1;32m    424\u001b[0m \u001b[0;34m\u001b[0m\u001b[0m\n\u001b[1;32m    425\u001b[0m \u001b[0;32mclass\u001b[0m \u001b[0mConv3d\u001b[0m\u001b[0;34m(\u001b[0m\u001b[0m_ConvNd\u001b[0m\u001b[0;34m)\u001b[0m\u001b[0;34m:\u001b[0m\u001b[0;34m\u001b[0m\u001b[0;34m\u001b[0m\u001b[0m\n",
            "\u001b[0;32m/usr/local/lib/python3.6/dist-packages/torch/nn/modules/conv.py\u001b[0m in \u001b[0;36m_conv_forward\u001b[0;34m(self, input, weight)\u001b[0m\n\u001b[1;32m    418\u001b[0m                             _pair(0), self.dilation, self.groups)\n\u001b[1;32m    419\u001b[0m         return F.conv2d(input, weight, self.bias, self.stride,\n\u001b[0;32m--> 420\u001b[0;31m                         self.padding, self.dilation, self.groups)\n\u001b[0m\u001b[1;32m    421\u001b[0m \u001b[0;34m\u001b[0m\u001b[0m\n\u001b[1;32m    422\u001b[0m     \u001b[0;32mdef\u001b[0m \u001b[0mforward\u001b[0m\u001b[0;34m(\u001b[0m\u001b[0mself\u001b[0m\u001b[0;34m,\u001b[0m \u001b[0minput\u001b[0m\u001b[0;34m:\u001b[0m \u001b[0mTensor\u001b[0m\u001b[0;34m)\u001b[0m \u001b[0;34m->\u001b[0m \u001b[0mTensor\u001b[0m\u001b[0;34m:\u001b[0m\u001b[0;34m\u001b[0m\u001b[0;34m\u001b[0m\u001b[0m\n",
            "\u001b[0;31mRuntimeError\u001b[0m: Given groups=1, weight of size [128, 256, 1, 1], expected input[1, 288, 28, 28] to have 256 channels, but got 288 channels instead"
          ]
        }
      ]
    },
    {
      "cell_type": "code",
      "metadata": {
        "colab": {
          "base_uri": "https://localhost:8080/"
        },
        "id": "1jB26k6g-Y_4",
        "outputId": "8c5ee085-be4d-476a-c6c9-f018653f4017"
      },
      "source": [
        "# navie Inception module\r\n",
        "import torch\r\n",
        "import torch.nn as nn\r\n",
        "class inception_navie(nn.Module):\r\n",
        "  def __init__(self,in_channels,out_1x1,out_3x3,out_5x5):\r\n",
        "    super(inception_navie,self).__init__()\r\n",
        "    self.branch1=nn.Conv2d(in_channels,out_1x1,kernel_size=1)\r\n",
        "    self.branch2=nn.Conv2d(in_channels,out_3x3,kernel_size=3,stride=1,padding=1)\r\n",
        "    self.branch3=nn.Conv2d(in_channels,out_5x5,kernel_size=5,stride=1,padding=2)\r\n",
        "    self.branch4=nn.MaxPool2d(kernel_size=3,stride=1,padding=1)\r\n",
        "  def forward(self,x):\r\n",
        "    return torch.cat([self.branch1(x),self.branch2(x),self.branch3(x),self.branch4(x)],1)\r\n",
        "\r\n",
        "model=inception_navie(20,20,20,20)\r\n",
        "inp=torch.rand(1,20,30,30)\r\n",
        "out=model(inp)\r\n",
        "print(out.shape)\r\n",
        "#print(model)\r\n"
      ],
      "execution_count": null,
      "outputs": [
        {
          "output_type": "stream",
          "text": [
            "torch.Size([1, 80, 30, 30])\n"
          ],
          "name": "stdout"
        }
      ]
    },
    {
      "cell_type": "code",
      "metadata": {
        "colab": {
          "base_uri": "https://localhost:8080/"
        },
        "id": "LVpSroOjA1I4",
        "outputId": "f52bc9e6-b6ad-4b36-8c3e-1a0703d3eb88"
      },
      "source": [
        "# modified Inception module insert 1x1 conv at each block\r\n",
        "import torch\r\n",
        "import torch.nn as nn\r\n",
        "class inception_navie(nn.Module):\r\n",
        "  def __init__(self,in_channels,out_1x1,out_3x3r,out_3x3,out_5x5r,out_5x5):\r\n",
        "    super(inception_navie,self).__init__()\r\n",
        "    self.branch1=nn.Conv2d(in_channels,out_1x1,kernel_size=1)\r\n",
        "    self.branch2=nn.Sequential(nn.Conv2d(in_channels,out_3x3r,kernel_size=1),\r\n",
        "                               nn.Conv2d(out_3x3r,out_3x3,kernel_size=3,stride=1,padding=1))\r\n",
        "    \r\n",
        "    self.branch3=nn.Sequential(nn.Conv2d(in_channels,out_5x5r,kernel_size=1),\r\n",
        "                               nn.Conv2d(out_5x5r,out_5x5,kernel_size=5,stride=1,padding=2))\r\n",
        "    \r\n",
        "    self.branch4=nn.Sequential(nn.MaxPool2d(kernel_size=3,stride=1,padding=1),\r\n",
        "                               nn.Conv2d(in_channels,out_1x1,kernel_size=1))\r\n",
        "  def forward(self,x):\r\n",
        "    return torch.cat([self.branch1(x),self.branch2(x),self.branch3(x),self.branch4(x)],1)\r\n",
        "\r\n",
        "model=inception_navie(20,20,60,40,50,50)\r\n",
        "inp=torch.rand(1,20,30,30)\r\n",
        "out=model(inp)\r\n",
        "print(out.shape)\r\n",
        "#print(model)"
      ],
      "execution_count": null,
      "outputs": [
        {
          "output_type": "stream",
          "text": [
            "torch.Size([1, 130, 30, 30])\n"
          ],
          "name": "stdout"
        }
      ]
    },
    {
      "cell_type": "code",
      "metadata": {
        "colab": {
          "base_uri": "https://localhost:8080/"
        },
        "id": "3kcE_A6WCoC5",
        "outputId": "4b1f58ba-bffc-4c94-b5d8-f5e1fad890de"
      },
      "source": [
        "# Inception A module\r\n",
        "import torch\r\n",
        "import torch.nn as nn\r\n",
        "class inception_navie(nn.Module):\r\n",
        "  def __init__(self,in_channels,out_1x1,out_3x3r,out_3x3,out_5x5r,out_5x5):\r\n",
        "    super(inception_navie,self).__init__()\r\n",
        "    self.branch1=nn.Conv2d(in_channels,out_1x1,kernel_size=1)\r\n",
        "    self.branch2=nn.Sequential(nn.Conv2d(in_channels,out_3x3r,kernel_size=1),\r\n",
        "                               nn.Conv2d(out_3x3r,out_3x3,kernel_size=3,stride=1,padding=1))\r\n",
        "    \r\n",
        "    self.branch3=nn.Sequential(nn.Conv2d(in_channels,out_3x3r,kernel_size=1),\r\n",
        "                               nn.Conv2d(out_3x3r,out_3x3r,kernel_size=3,stride=1,padding=1),\r\n",
        "                               nn.Conv2d(out_3x3r,out_3x3,kernel_size=3,stride=1,padding=1))\r\n",
        "    \r\n",
        "    self.branch4=nn.Sequential(nn.MaxPool2d(kernel_size=3,stride=1,padding=1),\r\n",
        "                               nn.Conv2d(in_channels,out_1x1,kernel_size=1))\r\n",
        "  def forward(self,x):\r\n",
        "    return torch.cat([self.branch1(x),self.branch2(x),self.branch3(x),self.branch4(x)],1)\r\n",
        "\r\n",
        "model=inception_navie(20,20,60,40,50,50)\r\n",
        "inp=torch.rand(1,20,30,30)\r\n",
        "out=model(inp)\r\n",
        "print(out.shape)\r\n",
        "#print(model)"
      ],
      "execution_count": null,
      "outputs": [
        {
          "output_type": "stream",
          "text": [
            "torch.Size([1, 120, 30, 30])\n"
          ],
          "name": "stdout"
        }
      ]
    },
    {
      "cell_type": "code",
      "metadata": {
        "colab": {
          "base_uri": "https://localhost:8080/"
        },
        "id": "kD6KBXEtDDfA",
        "outputId": "54ded37a-99f3-4b48-f27a-087e88d2a71c"
      },
      "source": [
        "# Inception B module\r\n",
        "import torch\r\n",
        "import torch.nn as nn\r\n",
        "class inception_navie(nn.Module):\r\n",
        "  def __init__(self,in_channels,out_1x1,out_3x3r,out_3x3,out_5x5r,out_5x5):\r\n",
        "    super(inception_navie,self).__init__()\r\n",
        "    self.branch1=nn.Conv2d(in_channels,out_1x1,kernel_size=1)\r\n",
        "    self.branch2=nn.Sequential(nn.Conv2d(in_channels,out_3x3r,kernel_size=1),\r\n",
        "                               nn.Conv2d(out_3x3r,out_3x3r,kernel_size=(1,3),stride=1,padding=(0,1)),\r\n",
        "                               nn.Conv2d(out_3x3r,out_3x3,kernel_size=(3,1),stride=1,padding=(1,0)))\r\n",
        "    \r\n",
        "    self.branch3=nn.Sequential(nn.Conv2d(in_channels,out_3x3r,kernel_size=1),\r\n",
        "                               nn.Conv2d(out_3x3r,out_3x3r,kernel_size=3,stride=1,padding=1),\r\n",
        "                               nn.Conv2d(out_3x3r,out_3x3r,kernel_size=(1,3),stride=1,padding=(0,1)),\r\n",
        "                               nn.Conv2d(out_3x3r,out_3x3,kernel_size=(3,1),stride=1,padding=(1,0)))\r\n",
        "    \r\n",
        "    self.branch4=nn.Sequential(nn.MaxPool2d(kernel_size=3,stride=1,padding=1),\r\n",
        "                               nn.Conv2d(in_channels,out_1x1,kernel_size=1))\r\n",
        "  def forward(self,x):\r\n",
        "    return torch.cat([self.branch1(x),self.branch2(x),self.branch3(x),self.branch4(x)],1)\r\n",
        "\r\n",
        "model=inception_navie(20,20,60,40,50,50)\r\n",
        "inp=torch.rand(1,20,30,30)\r\n",
        "out=model(inp)\r\n",
        "print(out.shape)\r\n",
        "#print(model)"
      ],
      "execution_count": null,
      "outputs": [
        {
          "output_type": "stream",
          "text": [
            "torch.Size([1, 120, 30, 30])\n"
          ],
          "name": "stdout"
        }
      ]
    },
    {
      "cell_type": "code",
      "metadata": {
        "colab": {
          "base_uri": "https://localhost:8080/"
        },
        "id": "W9HPEcDCHYlo",
        "outputId": "21a6e367-59d7-4d4f-f1db-9964b7eb9393"
      },
      "source": [
        "# Inception C module\r\n",
        "import torch\r\n",
        "import torch.nn as nn\r\n",
        "class inception_navie(nn.Module):\r\n",
        "  def __init__(self,in_channels,out_1x1,out_3x3r,out_3x3,out_5x5r,out_5x5):\r\n",
        "    super(inception_navie,self).__init__()\r\n",
        "    self.branch1=nn.Conv2d(in_channels,out_1x1,kernel_size=1)\r\n",
        "    self.branch2=nn.Sequential(nn.AvgPool2d(kernel_size=3,stride=1,padding=1),\r\n",
        "                               nn.Conv2d(in_channels,out_1x1,kernel_size=1))\r\n",
        "    \r\n",
        "    self.branch3=nn.Sequential(nn.Conv2d(in_channels,out_3x3r,kernel_size=1),\r\n",
        "                               nn.Conv2d(out_3x3r,out_3x3r,kernel_size=(1,7),stride=1,padding=(1,2)),\r\n",
        "                               nn.Conv2d(out_3x3r,out_3x3,kernel_size=(7,1),stride=1,padding=(2,1)))\r\n",
        "    \r\n",
        "    self.branch4=nn.Sequential(nn.Conv2d(in_channels,out_3x3r,kernel_size=1),\r\n",
        "                               nn.Conv2d(out_3x3r,out_3x3r,kernel_size=(1,7),stride=1,padding=(1,2)),\r\n",
        "                               nn.Conv2d(out_3x3r,out_3x3r,kernel_size=(7,1),stride=1,padding=(2,1)),\r\n",
        "                               nn.Conv2d(out_3x3r,out_3x3r,kernel_size=(1,7),stride=1,padding=(1,2)),\r\n",
        "                               nn.Conv2d(out_3x3r,out_3x3,kernel_size=(7,1),stride=1,padding=(2,1)))\r\n",
        "  def forward(self,x):\r\n",
        "    return torch.cat([self.branch1(x),self.branch2(x),self.branch3(x),self.branch4(x)],1)\r\n",
        "\r\n",
        "model=inception_navie(20,20,60,40,50,50)\r\n",
        "inp=torch.rand(1,20,30,30)\r\n",
        "out=model(inp)\r\n",
        "print(out.shape)\r\n",
        "#print(model)"
      ],
      "execution_count": null,
      "outputs": [
        {
          "output_type": "stream",
          "text": [
            "torch.Size([1, 120, 30, 30])\n"
          ],
          "name": "stdout"
        }
      ]
    },
    {
      "cell_type": "code",
      "metadata": {
        "colab": {
          "base_uri": "https://localhost:8080/"
        },
        "id": "_U3vsidVHv-4",
        "outputId": "0fe338ee-d52a-432c-8cc9-2a495fd65912"
      },
      "source": [
        " # pool of square window of size=3, stride=2\r\n",
        "m = nn.AvgPool2d(3, stride=1,padding=1)\r\n",
        "# pool of non-square window\r\n",
        "#m = nn.AvgPool2d((3, 2), stride=(2, 1))\r\n",
        "input = torch.randn(1, 20, 30, 30)\r\n",
        "output = m(input)\r\n",
        "print(output.shape)"
      ],
      "execution_count": null,
      "outputs": [
        {
          "output_type": "stream",
          "text": [
            "torch.Size([1, 20, 30, 30])\n"
          ],
          "name": "stdout"
        }
      ]
    },
    {
      "cell_type": "code",
      "metadata": {
        "colab": {
          "base_uri": "https://localhost:8080/"
        },
        "id": "N0zXfISiIvf4",
        "outputId": "08e042a4-0e35-4a2b-c9a7-f1d038341224"
      },
      "source": [
        "branch4=nn.Sequential(nn.Conv2d(in_channels,out_3x3r,kernel_size=1),\r\n",
        "                               nn.Conv2d(out_3x3r,out_3x3r,kernel_size=(1,7),stride=1,padding=(1,2)),\r\n",
        "                               nn.Conv2d(out_3x3r,out_3x3r,kernel_size=(7,1),stride=1,padding=(2,1)),\r\n",
        "                               nn.Conv2d(out_3x3r,out_3x3r,kernel_size=(1,7),stride=1,padding=(1,2)),\r\n",
        "                               nn.Conv2d(out_3x3r,out_3x3,kernel_size=(7,1),stride=1,padding=(2,1)))\r\n",
        "\r\n",
        "input = torch.randn(1, 20, 30, 30)\r\n",
        "output = branch4(input)\r\n",
        "print(output.shape)"
      ],
      "execution_count": null,
      "outputs": [
        {
          "output_type": "stream",
          "text": [
            "torch.Size([1, 40, 30, 30])\n"
          ],
          "name": "stdout"
        }
      ]
    },
    {
      "cell_type": "code",
      "metadata": {
        "colab": {
          "base_uri": "https://localhost:8080/"
        },
        "id": "qVNqsa0hJfYi",
        "outputId": "c141c9d2-1a00-413f-de80-85d1253fce76"
      },
      "source": [
        "branch3=nn.Sequential(nn.Conv2d(in_channels,out_3x3r,kernel_size=1),\r\n",
        "                               nn.Conv2d(out_3x3r,out_3x3r,kernel_size=(1,7),stride=1,padding=(1,2)),\r\n",
        "                               nn.Conv2d(out_3x3r,out_3x3,kernel_size=(7,1),stride=1,padding=(2,1)))\r\n",
        "\r\n",
        "input = torch.randn(1, 20, 30, 30)\r\n",
        "output = branch3(input)\r\n",
        "print(output.shape)"
      ],
      "execution_count": null,
      "outputs": [
        {
          "output_type": "stream",
          "text": [
            "torch.Size([1, 40, 30, 30])\n"
          ],
          "name": "stdout"
        }
      ]
    },
    {
      "cell_type": "code",
      "metadata": {
        "colab": {
          "base_uri": "https://localhost:8080/"
        },
        "id": "cxwchaQ0JvPi",
        "outputId": "a74753df-b866-48de-e520-6bda1ee45d97"
      },
      "source": [
        "out_1x1=20\r\n",
        "branch2=nn.Sequential(nn.AvgPool2d(kernel_size=3,stride=1,padding=1))\r\n",
        "\r\n",
        "input = torch.randn(1, 20, 30, 30)\r\n",
        "output = branch2(input)\r\n",
        "print(output.shape)"
      ],
      "execution_count": null,
      "outputs": [
        {
          "output_type": "stream",
          "text": [
            "torch.Size([1, 20, 30, 30])\n"
          ],
          "name": "stdout"
        }
      ]
    },
    {
      "cell_type": "code",
      "metadata": {
        "colab": {
          "base_uri": "https://localhost:8080/"
        },
        "id": "B-UdKBAxKbKh",
        "outputId": "0717ae56-2c52-4865-f3b9-fdd6909451d7"
      },
      "source": [
        "# Reduction block A\r\n",
        "import torch\r\n",
        "import torch.nn as nn\r\n",
        "class inception_navie(nn.Module):\r\n",
        "  def __init__(self,in_channels,out_1x1,out_3x3r,out_3x3,out_5x5r,out_5x5):\r\n",
        "    super(inception_navie,self).__init__()\r\n",
        "    self.branch1=nn.Sequential(nn.Conv2d(in_channels,out_3x3r,kernel_size=1),\r\n",
        "                               nn.Conv2d(out_3x3r,out_3x3r,kernel_size=3,stride=1,padding=1),\r\n",
        "                               nn.Conv2d(out_3x3r,out_3x3,kernel_size=3,stride=1,padding=1))\r\n",
        "    \r\n",
        "    self.branch2=nn.Conv2d(in_channels,out_3x3,kernel_size=3,stride=1,padding=1)\r\n",
        "    \r\n",
        "    self.branch3=nn.MaxPool2d(kernel_size=3,stride=1,padding=1)\r\n",
        "  def forward(self,x):\r\n",
        "    return torch.cat([self.branch1(x),self.branch2(x),self.branch3(x)],1)\r\n",
        "\r\n",
        "model=inception_navie(20,20,60,40,50,50)\r\n",
        "inp=torch.rand(1,20,30,30)\r\n",
        "out=model(inp)\r\n",
        "print(out.shape)\r\n",
        "#print(model)"
      ],
      "execution_count": null,
      "outputs": [
        {
          "output_type": "stream",
          "text": [
            "torch.Size([1, 100, 30, 30])\n"
          ],
          "name": "stdout"
        }
      ]
    },
    {
      "cell_type": "code",
      "metadata": {
        "colab": {
          "base_uri": "https://localhost:8080/"
        },
        "id": "Q711_DfmLkFy",
        "outputId": "4d179964-5fba-4dab-8800-20a69ad30d6b"
      },
      "source": [
        "# Reduction block B\r\n",
        "import torch\r\n",
        "import torch.nn as nn\r\n",
        "class inception_navie(nn.Module):\r\n",
        "  def __init__(self,in_channels,out_1x1,out_3x3r,out_3x3,out_5x5r,out_5x5):\r\n",
        "    super(inception_navie,self).__init__()\r\n",
        "    self.branch1=nn.Sequential(nn.Conv2d(in_channels,out_3x3r,kernel_size=1),\r\n",
        "                               nn.Conv2d(out_3x3r,out_3x3r,kernel_size=(1,7),stride=1,padding=(1,2)),\r\n",
        "                               nn.Conv2d(out_3x3r,out_3x3r,kernel_size=(7,1),stride=1,padding=(2,1)),\r\n",
        "                               nn.Conv2d(out_3x3r,out_3x3,kernel_size=3,stride=1,padding=1))\r\n",
        "    \r\n",
        "    self.branch2=nn.Sequential(nn.Conv2d(in_channels,out_1x1,kernel_size=1),\r\n",
        "                               nn.Conv2d(out_1x1,out_3x3,kernel_size=3,stride=1,padding=1))\r\n",
        "    \r\n",
        "    self.branch3=nn.MaxPool2d(kernel_size=3,stride=1,padding=1)\r\n",
        "  def forward(self,x):\r\n",
        "    return torch.cat([self.branch1(x),self.branch2(x),self.branch3(x)],1)\r\n",
        "\r\n",
        "model=inception_navie(20,20,60,40,50,50)\r\n",
        "inp=torch.rand(1,20,30,30)\r\n",
        "out=model(inp)\r\n",
        "print(out.shape)\r\n",
        "#print(model)"
      ],
      "execution_count": null,
      "outputs": [
        {
          "output_type": "stream",
          "text": [
            "torch.Size([1, 100, 30, 30])\n"
          ],
          "name": "stdout"
        }
      ]
    }
  ]
}