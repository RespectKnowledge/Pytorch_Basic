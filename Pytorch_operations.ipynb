{
  "nbformat": 4,
  "nbformat_minor": 0,
  "metadata": {
    "colab": {
      "name": "Pytorch_operations.ipynb",
      "provenance": [],
      "collapsed_sections": []
    },
    "kernelspec": {
      "name": "python3",
      "display_name": "Python 3"
    },
    "language_info": {
      "name": "python"
    }
  },
  "cells": [
    {
      "cell_type": "code",
      "metadata": {
        "id": "O-gX8Rr2KAor"
      },
      "source": [
        "import torch\n",
        "import torch.nn as nn\n",
        "a=torch.randn(4,3,28,28)"
      ],
      "execution_count": 1,
      "outputs": []
    },
    {
      "cell_type": "code",
      "metadata": {
        "colab": {
          "base_uri": "https://localhost:8080/"
        },
        "id": "YpBUwIV-KOPT",
        "outputId": "367c040c-1aab-42a9-f1df-493922bd4748"
      },
      "source": [
        "a[0].shape"
      ],
      "execution_count": 2,
      "outputs": [
        {
          "output_type": "execute_result",
          "data": {
            "text/plain": [
              "torch.Size([3, 28, 28])"
            ]
          },
          "metadata": {
            "tags": []
          },
          "execution_count": 2
        }
      ]
    },
    {
      "cell_type": "code",
      "metadata": {
        "colab": {
          "base_uri": "https://localhost:8080/"
        },
        "id": "FWpDqEP8KQWy",
        "outputId": "b60cf35f-707d-4c52-92e5-f398655530d6"
      },
      "source": [
        "a[0,0].shape"
      ],
      "execution_count": 3,
      "outputs": [
        {
          "output_type": "execute_result",
          "data": {
            "text/plain": [
              "torch.Size([28, 28])"
            ]
          },
          "metadata": {
            "tags": []
          },
          "execution_count": 3
        }
      ]
    },
    {
      "cell_type": "code",
      "metadata": {
        "colab": {
          "base_uri": "https://localhost:8080/"
        },
        "id": "CarQPvwOKUmi",
        "outputId": "11004b77-f2c1-4f63-8042-85904eaa77ea"
      },
      "source": [
        "a[0,0,2,4].shape"
      ],
      "execution_count": 4,
      "outputs": [
        {
          "output_type": "execute_result",
          "data": {
            "text/plain": [
              "torch.Size([])"
            ]
          },
          "metadata": {
            "tags": []
          },
          "execution_count": 4
        }
      ]
    },
    {
      "cell_type": "code",
      "metadata": {
        "colab": {
          "base_uri": "https://localhost:8080/"
        },
        "id": "kRECIgq4KeAK",
        "outputId": "18f3a5a5-1cf5-4981-f3d8-88d28033569a"
      },
      "source": [
        "a[:2].shape"
      ],
      "execution_count": 5,
      "outputs": [
        {
          "output_type": "execute_result",
          "data": {
            "text/plain": [
              "torch.Size([2, 3, 28, 28])"
            ]
          },
          "metadata": {
            "tags": []
          },
          "execution_count": 5
        }
      ]
    },
    {
      "cell_type": "code",
      "metadata": {
        "colab": {
          "base_uri": "https://localhost:8080/"
        },
        "id": "7OzED86XKicq",
        "outputId": "45b7a98b-7e21-4208-d895-7b3d30c1643e"
      },
      "source": [
        "a[:2,:1,:,:].shape"
      ],
      "execution_count": 6,
      "outputs": [
        {
          "output_type": "execute_result",
          "data": {
            "text/plain": [
              "torch.Size([2, 1, 28, 28])"
            ]
          },
          "metadata": {
            "tags": []
          },
          "execution_count": 6
        }
      ]
    },
    {
      "cell_type": "code",
      "metadata": {
        "colab": {
          "base_uri": "https://localhost:8080/"
        },
        "id": "X0eu6Sn_KplC",
        "outputId": "a85007df-597d-46a8-a84f-4e3f796e06e4"
      },
      "source": [
        "a[:2,-1:,:,:].shape"
      ],
      "execution_count": 7,
      "outputs": [
        {
          "output_type": "execute_result",
          "data": {
            "text/plain": [
              "torch.Size([2, 1, 28, 28])"
            ]
          },
          "metadata": {
            "tags": []
          },
          "execution_count": 7
        }
      ]
    },
    {
      "cell_type": "code",
      "metadata": {
        "colab": {
          "base_uri": "https://localhost:8080/"
        },
        "id": "760waGN4Kv3a",
        "outputId": "8a0b5f32-0433-4591-d1dc-8f1ecb11f120"
      },
      "source": [
        "a[:2,1:,:,:].shape"
      ],
      "execution_count": 8,
      "outputs": [
        {
          "output_type": "execute_result",
          "data": {
            "text/plain": [
              "torch.Size([2, 2, 28, 28])"
            ]
          },
          "metadata": {
            "tags": []
          },
          "execution_count": 8
        }
      ]
    },
    {
      "cell_type": "code",
      "metadata": {
        "colab": {
          "base_uri": "https://localhost:8080/"
        },
        "id": "tDvl78DmK-jB",
        "outputId": "ae85b1f5-abc8-4648-d5ed-bc72fc6ea475"
      },
      "source": [
        "a[:,:,0:28:2,0:28:2].shape"
      ],
      "execution_count": 9,
      "outputs": [
        {
          "output_type": "execute_result",
          "data": {
            "text/plain": [
              "torch.Size([4, 3, 14, 14])"
            ]
          },
          "metadata": {
            "tags": []
          },
          "execution_count": 9
        }
      ]
    },
    {
      "cell_type": "code",
      "metadata": {
        "colab": {
          "base_uri": "https://localhost:8080/"
        },
        "id": "hiP9tefXLG_q",
        "outputId": "fcbec45e-4302-42f0-f64c-a32679736ebc"
      },
      "source": [
        "a[:,:,::2,::2].shape"
      ],
      "execution_count": 10,
      "outputs": [
        {
          "output_type": "execute_result",
          "data": {
            "text/plain": [
              "torch.Size([4, 3, 14, 14])"
            ]
          },
          "metadata": {
            "tags": []
          },
          "execution_count": 10
        }
      ]
    },
    {
      "cell_type": "code",
      "metadata": {
        "colab": {
          "base_uri": "https://localhost:8080/"
        },
        "id": "YW93NDhCOCdC",
        "outputId": "2ddc34a2-dda6-4768-9812-1a92625962af"
      },
      "source": [
        "a[0,...].shape"
      ],
      "execution_count": 11,
      "outputs": [
        {
          "output_type": "execute_result",
          "data": {
            "text/plain": [
              "torch.Size([3, 28, 28])"
            ]
          },
          "metadata": {
            "tags": []
          },
          "execution_count": 11
        }
      ]
    },
    {
      "cell_type": "code",
      "metadata": {
        "colab": {
          "base_uri": "https://localhost:8080/"
        },
        "id": "uhbUYUXoOIPY",
        "outputId": "a216dfca-4aeb-43c4-d50b-fc349d81f5ff"
      },
      "source": [
        "a[...].shape"
      ],
      "execution_count": 12,
      "outputs": [
        {
          "output_type": "execute_result",
          "data": {
            "text/plain": [
              "torch.Size([4, 3, 28, 28])"
            ]
          },
          "metadata": {
            "tags": []
          },
          "execution_count": 12
        }
      ]
    },
    {
      "cell_type": "code",
      "metadata": {
        "colab": {
          "base_uri": "https://localhost:8080/"
        },
        "id": "J1lXzgtHOMj5",
        "outputId": "ea44975d-2afc-49e7-b647-0ccd5cbe06b1"
      },
      "source": [
        "a[:,1,...].shape"
      ],
      "execution_count": 13,
      "outputs": [
        {
          "output_type": "execute_result",
          "data": {
            "text/plain": [
              "torch.Size([4, 28, 28])"
            ]
          },
          "metadata": {
            "tags": []
          },
          "execution_count": 13
        }
      ]
    },
    {
      "cell_type": "code",
      "metadata": {
        "colab": {
          "base_uri": "https://localhost:8080/"
        },
        "id": "a6DQrmpSOUI7",
        "outputId": "880152ff-c0a2-4a3f-999c-9dc9bba1a697"
      },
      "source": [
        "a[...,:2].shape"
      ],
      "execution_count": 14,
      "outputs": [
        {
          "output_type": "execute_result",
          "data": {
            "text/plain": [
              "torch.Size([4, 3, 28, 2])"
            ]
          },
          "metadata": {
            "tags": []
          },
          "execution_count": 14
        }
      ]
    },
    {
      "cell_type": "code",
      "metadata": {
        "colab": {
          "base_uri": "https://localhost:8080/"
        },
        "id": "bk4QzAD3Ocb6",
        "outputId": "5d8c427d-49c8-45bb-ef7a-545b1bbc9ddb"
      },
      "source": [
        "a[0,...,::2].shape"
      ],
      "execution_count": 15,
      "outputs": [
        {
          "output_type": "execute_result",
          "data": {
            "text/plain": [
              "torch.Size([3, 28, 14])"
            ]
          },
          "metadata": {
            "tags": []
          },
          "execution_count": 15
        }
      ]
    },
    {
      "cell_type": "code",
      "metadata": {
        "colab": {
          "base_uri": "https://localhost:8080/"
        },
        "id": "iUTguy3VOivp",
        "outputId": "bf42d12b-9fe6-4d2c-e830-ddf1bca5779f"
      },
      "source": [
        "a[...,::2].shape"
      ],
      "execution_count": 16,
      "outputs": [
        {
          "output_type": "execute_result",
          "data": {
            "text/plain": [
              "torch.Size([4, 3, 28, 14])"
            ]
          },
          "metadata": {
            "tags": []
          },
          "execution_count": 16
        }
      ]
    },
    {
      "cell_type": "code",
      "metadata": {
        "colab": {
          "base_uri": "https://localhost:8080/"
        },
        "id": "_Xnoit2MOu7j",
        "outputId": "9f6788c5-846c-47f4-be48-5a1a0204c940"
      },
      "source": [
        "x=torch.rand(3,4)\n",
        "x"
      ],
      "execution_count": 19,
      "outputs": [
        {
          "output_type": "execute_result",
          "data": {
            "text/plain": [
              "tensor([[0.3427, 0.7481, 0.9730, 0.4735],\n",
              "        [0.1295, 0.1298, 0.6319, 0.5024],\n",
              "        [0.0191, 0.3588, 0.1325, 0.0357]])"
            ]
          },
          "metadata": {
            "tags": []
          },
          "execution_count": 19
        }
      ]
    },
    {
      "cell_type": "code",
      "metadata": {
        "colab": {
          "base_uri": "https://localhost:8080/"
        },
        "id": "TYqKufA0O1ky",
        "outputId": "0e89279e-1016-43fa-cc92-9930a8c31607"
      },
      "source": [
        "mask=x.ge(0.5)\n",
        "mask"
      ],
      "execution_count": 20,
      "outputs": [
        {
          "output_type": "execute_result",
          "data": {
            "text/plain": [
              "tensor([[False,  True,  True, False],\n",
              "        [False, False,  True,  True],\n",
              "        [False, False, False, False]])"
            ]
          },
          "metadata": {
            "tags": []
          },
          "execution_count": 20
        }
      ]
    },
    {
      "cell_type": "code",
      "metadata": {
        "colab": {
          "base_uri": "https://localhost:8080/"
        },
        "id": "46FX-WfBO_Ti",
        "outputId": "e6353b52-fcf1-47fd-a402-5a65d226be74"
      },
      "source": [
        "torch.masked_select(x,mask)"
      ],
      "execution_count": 21,
      "outputs": [
        {
          "output_type": "execute_result",
          "data": {
            "text/plain": [
              "tensor([0.7481, 0.9730, 0.6319, 0.5024])"
            ]
          },
          "metadata": {
            "tags": []
          },
          "execution_count": 21
        }
      ]
    },
    {
      "cell_type": "code",
      "metadata": {
        "colab": {
          "base_uri": "https://localhost:8080/"
        },
        "id": "FPO-Qt4HPSW6",
        "outputId": "957a7588-20ee-49c5-f130-11d12fffe7bf"
      },
      "source": [
        "b=torch.rand(4,1,28,28)\n",
        "b.shape"
      ],
      "execution_count": 23,
      "outputs": [
        {
          "output_type": "execute_result",
          "data": {
            "text/plain": [
              "torch.Size([4, 1, 28, 28])"
            ]
          },
          "metadata": {
            "tags": []
          },
          "execution_count": 23
        }
      ]
    },
    {
      "cell_type": "code",
      "metadata": {
        "colab": {
          "base_uri": "https://localhost:8080/"
        },
        "id": "SWfRyvqTPbhh",
        "outputId": "a743be1f-480c-4e56-f42b-3bb2385b0758"
      },
      "source": [
        "b.view(4,28*28).shape"
      ],
      "execution_count": 25,
      "outputs": [
        {
          "output_type": "execute_result",
          "data": {
            "text/plain": [
              "torch.Size([4, 784])"
            ]
          },
          "metadata": {
            "tags": []
          },
          "execution_count": 25
        }
      ]
    },
    {
      "cell_type": "code",
      "metadata": {
        "colab": {
          "base_uri": "https://localhost:8080/"
        },
        "id": "pJdxf1fOPkrJ",
        "outputId": "ec19604f-3b52-4606-f489-65389c84aff0"
      },
      "source": [
        "b.view(4*28,28).shape"
      ],
      "execution_count": 26,
      "outputs": [
        {
          "output_type": "execute_result",
          "data": {
            "text/plain": [
              "torch.Size([112, 28])"
            ]
          },
          "metadata": {
            "tags": []
          },
          "execution_count": 26
        }
      ]
    },
    {
      "cell_type": "code",
      "metadata": {
        "colab": {
          "base_uri": "https://localhost:8080/"
        },
        "id": "hjTmQz3FPrUS",
        "outputId": "a190985c-28b1-4ec1-ff71-359c90bdcd31"
      },
      "source": [
        "b.view(4*1,28,28).shape"
      ],
      "execution_count": 27,
      "outputs": [
        {
          "output_type": "execute_result",
          "data": {
            "text/plain": [
              "torch.Size([4, 28, 28])"
            ]
          },
          "metadata": {
            "tags": []
          },
          "execution_count": 27
        }
      ]
    },
    {
      "cell_type": "code",
      "metadata": {
        "colab": {
          "base_uri": "https://localhost:8080/"
        },
        "id": "KEH-eZPhPyrq",
        "outputId": "4e256410-1320-4236-b63f-70d43c78632c"
      },
      "source": [
        "c=b.view(4,784)\n",
        "c.shape"
      ],
      "execution_count": 29,
      "outputs": [
        {
          "output_type": "execute_result",
          "data": {
            "text/plain": [
              "torch.Size([4, 784])"
            ]
          },
          "metadata": {
            "tags": []
          },
          "execution_count": 29
        }
      ]
    },
    {
      "cell_type": "code",
      "metadata": {
        "colab": {
          "base_uri": "https://localhost:8080/"
        },
        "id": "inpc427wQbQK",
        "outputId": "59d4df00-a9be-4734-9229-d00f354c3279"
      },
      "source": [
        "b.shape"
      ],
      "execution_count": 31,
      "outputs": [
        {
          "output_type": "execute_result",
          "data": {
            "text/plain": [
              "torch.Size([4, 1, 28, 28])"
            ]
          },
          "metadata": {
            "tags": []
          },
          "execution_count": 31
        }
      ]
    },
    {
      "cell_type": "code",
      "metadata": {
        "colab": {
          "base_uri": "https://localhost:8080/"
        },
        "id": "KjbjxniRQgya",
        "outputId": "ce4d6233-af04-474a-c202-7c32ed6f4547"
      },
      "source": [
        "b.unsqueeze(0).shape"
      ],
      "execution_count": 32,
      "outputs": [
        {
          "output_type": "execute_result",
          "data": {
            "text/plain": [
              "torch.Size([1, 4, 1, 28, 28])"
            ]
          },
          "metadata": {
            "tags": []
          },
          "execution_count": 32
        }
      ]
    },
    {
      "cell_type": "code",
      "metadata": {
        "colab": {
          "base_uri": "https://localhost:8080/"
        },
        "id": "xsK6aBGjQkd8",
        "outputId": "32ad08c3-0f6d-4e01-f683-0f1fa96736b5"
      },
      "source": [
        "b.unsqueeze(-1).shape"
      ],
      "execution_count": 33,
      "outputs": [
        {
          "output_type": "execute_result",
          "data": {
            "text/plain": [
              "torch.Size([4, 1, 28, 28, 1])"
            ]
          },
          "metadata": {
            "tags": []
          },
          "execution_count": 33
        }
      ]
    },
    {
      "cell_type": "code",
      "metadata": {
        "colab": {
          "base_uri": "https://localhost:8080/"
        },
        "id": "dS1QIpUBQqUJ",
        "outputId": "0681be75-7e05-49b3-d4df-13437dda6f85"
      },
      "source": [
        "b.unsqueeze(4).shape"
      ],
      "execution_count": 34,
      "outputs": [
        {
          "output_type": "execute_result",
          "data": {
            "text/plain": [
              "torch.Size([4, 1, 28, 28, 1])"
            ]
          },
          "metadata": {
            "tags": []
          },
          "execution_count": 34
        }
      ]
    },
    {
      "cell_type": "code",
      "metadata": {
        "colab": {
          "base_uri": "https://localhost:8080/"
        },
        "id": "FOVwER4cQwG5",
        "outputId": "c092a1ce-a067-4027-b0aa-4de75b0869c5"
      },
      "source": [
        "b.unsqueeze(-4).shape"
      ],
      "execution_count": 35,
      "outputs": [
        {
          "output_type": "execute_result",
          "data": {
            "text/plain": [
              "torch.Size([4, 1, 1, 28, 28])"
            ]
          },
          "metadata": {
            "tags": []
          },
          "execution_count": 35
        }
      ]
    },
    {
      "cell_type": "code",
      "metadata": {
        "colab": {
          "base_uri": "https://localhost:8080/"
        },
        "id": "iXxAT6yBQ6Or",
        "outputId": "fb04b8fb-a100-4adf-9485-26a281fbbd77"
      },
      "source": [
        "b.unsqueeze(-5).shape"
      ],
      "execution_count": 36,
      "outputs": [
        {
          "output_type": "execute_result",
          "data": {
            "text/plain": [
              "torch.Size([1, 4, 1, 28, 28])"
            ]
          },
          "metadata": {
            "tags": []
          },
          "execution_count": 36
        }
      ]
    },
    {
      "cell_type": "code",
      "metadata": {
        "colab": {
          "base_uri": "https://localhost:8080/",
          "height": 162
        },
        "id": "iE-V74Z_RCti",
        "outputId": "7654f3d8-bda9-4319-84ee-6101b91e2ed2"
      },
      "source": [
        "b.unsqueeze(5).shape"
      ],
      "execution_count": 37,
      "outputs": [
        {
          "output_type": "error",
          "ename": "IndexError",
          "evalue": "ignored",
          "traceback": [
            "\u001b[0;31m---------------------------------------------------------------------------\u001b[0m",
            "\u001b[0;31mIndexError\u001b[0m                                Traceback (most recent call last)",
            "\u001b[0;32m<ipython-input-37-f9f44cb4e13c>\u001b[0m in \u001b[0;36m<module>\u001b[0;34m()\u001b[0m\n\u001b[0;32m----> 1\u001b[0;31m \u001b[0mb\u001b[0m\u001b[0;34m.\u001b[0m\u001b[0munsqueeze\u001b[0m\u001b[0;34m(\u001b[0m\u001b[0;36m5\u001b[0m\u001b[0;34m)\u001b[0m\u001b[0;34m.\u001b[0m\u001b[0mshape\u001b[0m\u001b[0;34m\u001b[0m\u001b[0;34m\u001b[0m\u001b[0m\n\u001b[0m",
            "\u001b[0;31mIndexError\u001b[0m: Dimension out of range (expected to be in range of [-5, 4], but got 5)"
          ]
        }
      ]
    },
    {
      "cell_type": "code",
      "metadata": {
        "colab": {
          "base_uri": "https://localhost:8080/"
        },
        "id": "IFNIIKFDRNly",
        "outputId": "6c60a357-bef6-4fd8-af45-74e760730231"
      },
      "source": [
        "a=torch.tensor([1.2,2.3])\n",
        "a.shape"
      ],
      "execution_count": 41,
      "outputs": [
        {
          "output_type": "execute_result",
          "data": {
            "text/plain": [
              "torch.Size([2])"
            ]
          },
          "metadata": {
            "tags": []
          },
          "execution_count": 41
        }
      ]
    },
    {
      "cell_type": "code",
      "metadata": {
        "colab": {
          "base_uri": "https://localhost:8080/"
        },
        "id": "-DB89ir-RW0b",
        "outputId": "b8064f51-53b4-45f5-9838-f322a2be41e1"
      },
      "source": [
        "a.unsqueeze(-1).shape"
      ],
      "execution_count": 42,
      "outputs": [
        {
          "output_type": "execute_result",
          "data": {
            "text/plain": [
              "torch.Size([2, 1])"
            ]
          },
          "metadata": {
            "tags": []
          },
          "execution_count": 42
        }
      ]
    },
    {
      "cell_type": "code",
      "metadata": {
        "colab": {
          "base_uri": "https://localhost:8080/"
        },
        "id": "H3UDmkFTRjR6",
        "outputId": "d030c602-a229-4b75-87e6-304d109e3e85"
      },
      "source": [
        "a.unsqueeze(0).shape"
      ],
      "execution_count": 43,
      "outputs": [
        {
          "output_type": "execute_result",
          "data": {
            "text/plain": [
              "torch.Size([1, 2])"
            ]
          },
          "metadata": {
            "tags": []
          },
          "execution_count": 43
        }
      ]
    },
    {
      "cell_type": "code",
      "metadata": {
        "id": "O1sUTDTxRud9"
      },
      "source": [
        "b=torch.rand(32)"
      ],
      "execution_count": 53,
      "outputs": []
    },
    {
      "cell_type": "code",
      "metadata": {
        "colab": {
          "base_uri": "https://localhost:8080/"
        },
        "id": "tdPgK6WaR_6C",
        "outputId": "eb1648d2-f08a-430a-f519-cc7cc7d2c54b"
      },
      "source": [
        "b.unsqueeze(1).shape"
      ],
      "execution_count": 54,
      "outputs": [
        {
          "output_type": "execute_result",
          "data": {
            "text/plain": [
              "torch.Size([32, 1])"
            ]
          },
          "metadata": {
            "tags": []
          },
          "execution_count": 54
        }
      ]
    },
    {
      "cell_type": "code",
      "metadata": {
        "colab": {
          "base_uri": "https://localhost:8080/"
        },
        "id": "RJhuDi02RyuC",
        "outputId": "1e49012c-e40a-475a-d213-05025b3dd38f"
      },
      "source": [
        "c=b.unsqueeze(1).unsqueeze(2).unsqueeze(0)\n",
        "c.shape"
      ],
      "execution_count": 56,
      "outputs": [
        {
          "output_type": "execute_result",
          "data": {
            "text/plain": [
              "torch.Size([1, 32, 1, 1])"
            ]
          },
          "metadata": {
            "tags": []
          },
          "execution_count": 56
        }
      ]
    },
    {
      "cell_type": "code",
      "metadata": {
        "id": "1kQv51nLSXGq"
      },
      "source": [
        "f=torch.rand(4,32,14,14)"
      ],
      "execution_count": 57,
      "outputs": []
    },
    {
      "cell_type": "code",
      "metadata": {
        "colab": {
          "base_uri": "https://localhost:8080/"
        },
        "id": "fP7i9MueSf5K",
        "outputId": "40751265-10dc-4d8e-9fc0-a2738ece4c8a"
      },
      "source": [
        "(c+f).shape"
      ],
      "execution_count": 60,
      "outputs": [
        {
          "output_type": "execute_result",
          "data": {
            "text/plain": [
              "torch.Size([4, 32, 14, 14])"
            ]
          },
          "metadata": {
            "tags": []
          },
          "execution_count": 60
        }
      ]
    },
    {
      "cell_type": "code",
      "metadata": {
        "colab": {
          "base_uri": "https://localhost:8080/"
        },
        "id": "ITuomJIrStUz",
        "outputId": "02b84ee4-e59e-47e4-ac4e-8c7f231341b7"
      },
      "source": [
        "c.squeeze().shape"
      ],
      "execution_count": 62,
      "outputs": [
        {
          "output_type": "execute_result",
          "data": {
            "text/plain": [
              "torch.Size([32])"
            ]
          },
          "metadata": {
            "tags": []
          },
          "execution_count": 62
        }
      ]
    },
    {
      "cell_type": "code",
      "metadata": {
        "colab": {
          "base_uri": "https://localhost:8080/"
        },
        "id": "CTJesKuiS3QF",
        "outputId": "ee0f9390-f7dd-4a5e-a7d3-9db0811d1ad5"
      },
      "source": [
        "c.squeeze(0).shape"
      ],
      "execution_count": 63,
      "outputs": [
        {
          "output_type": "execute_result",
          "data": {
            "text/plain": [
              "torch.Size([32, 1, 1])"
            ]
          },
          "metadata": {
            "tags": []
          },
          "execution_count": 63
        }
      ]
    },
    {
      "cell_type": "code",
      "metadata": {
        "colab": {
          "base_uri": "https://localhost:8080/"
        },
        "id": "aEBmLJMaS9T7",
        "outputId": "924b1330-4428-46b4-84d7-3524815453e7"
      },
      "source": [
        "c.squeeze(-1).shape"
      ],
      "execution_count": 64,
      "outputs": [
        {
          "output_type": "execute_result",
          "data": {
            "text/plain": [
              "torch.Size([1, 32, 1])"
            ]
          },
          "metadata": {
            "tags": []
          },
          "execution_count": 64
        }
      ]
    },
    {
      "cell_type": "code",
      "metadata": {
        "colab": {
          "base_uri": "https://localhost:8080/"
        },
        "id": "nrCC6-UTTGNS",
        "outputId": "3f8711eb-33c5-4f92-ead3-be99717cfae7"
      },
      "source": [
        "c.squeeze(1).shape"
      ],
      "execution_count": 65,
      "outputs": [
        {
          "output_type": "execute_result",
          "data": {
            "text/plain": [
              "torch.Size([1, 32, 1, 1])"
            ]
          },
          "metadata": {
            "tags": []
          },
          "execution_count": 65
        }
      ]
    },
    {
      "cell_type": "code",
      "metadata": {
        "colab": {
          "base_uri": "https://localhost:8080/"
        },
        "id": "35SpRe-yTIx0",
        "outputId": "6a63642f-5af5-4879-b910-b6e21dfbb357"
      },
      "source": [
        "c.squeeze(-4).shape"
      ],
      "execution_count": 66,
      "outputs": [
        {
          "output_type": "execute_result",
          "data": {
            "text/plain": [
              "torch.Size([32, 1, 1])"
            ]
          },
          "metadata": {
            "tags": []
          },
          "execution_count": 66
        }
      ]
    },
    {
      "cell_type": "code",
      "metadata": {
        "colab": {
          "base_uri": "https://localhost:8080/"
        },
        "id": "mwgg3B_xTkgr",
        "outputId": "eaa06459-23f6-448d-f18f-2c567171fab5"
      },
      "source": [
        "c.shape"
      ],
      "execution_count": 67,
      "outputs": [
        {
          "output_type": "execute_result",
          "data": {
            "text/plain": [
              "torch.Size([1, 32, 1, 1])"
            ]
          },
          "metadata": {
            "tags": []
          },
          "execution_count": 67
        }
      ]
    },
    {
      "cell_type": "code",
      "metadata": {
        "colab": {
          "base_uri": "https://localhost:8080/"
        },
        "id": "RCg-noGoTmYt",
        "outputId": "0d2adaa3-3dca-4e08-ee95-459bc4c8af11"
      },
      "source": [
        "c.expand(4,32,14,14).shape"
      ],
      "execution_count": 68,
      "outputs": [
        {
          "output_type": "execute_result",
          "data": {
            "text/plain": [
              "torch.Size([4, 32, 14, 14])"
            ]
          },
          "metadata": {
            "tags": []
          },
          "execution_count": 68
        }
      ]
    },
    {
      "cell_type": "code",
      "metadata": {
        "colab": {
          "base_uri": "https://localhost:8080/"
        },
        "id": "d8qHOAY0TtpM",
        "outputId": "b235d1fe-8f65-4f95-ff75-1226fca97399"
      },
      "source": [
        "c.expand(-1,32,-1,-1).shape"
      ],
      "execution_count": 70,
      "outputs": [
        {
          "output_type": "execute_result",
          "data": {
            "text/plain": [
              "torch.Size([1, 32, 1, 1])"
            ]
          },
          "metadata": {
            "tags": []
          },
          "execution_count": 70
        }
      ]
    },
    {
      "cell_type": "code",
      "metadata": {
        "colab": {
          "base_uri": "https://localhost:8080/"
        },
        "id": "ZFTJMd3_T5ZK",
        "outputId": "b512baf6-af6a-4909-eace-44c472230eda"
      },
      "source": [
        "c.expand(-1,32,-1,-4).shape"
      ],
      "execution_count": 71,
      "outputs": [
        {
          "output_type": "execute_result",
          "data": {
            "text/plain": [
              "torch.Size([1, 32, 1, -4])"
            ]
          },
          "metadata": {
            "tags": []
          },
          "execution_count": 71
        }
      ]
    },
    {
      "cell_type": "code",
      "metadata": {
        "colab": {
          "base_uri": "https://localhost:8080/"
        },
        "id": "I-5L-6HzUG6x",
        "outputId": "c397bc03-6903-4eec-f5bf-9baa9b1c2460"
      },
      "source": [
        "c.repeat(4,32,1,1).shape"
      ],
      "execution_count": 72,
      "outputs": [
        {
          "output_type": "execute_result",
          "data": {
            "text/plain": [
              "torch.Size([4, 1024, 1, 1])"
            ]
          },
          "metadata": {
            "tags": []
          },
          "execution_count": 72
        }
      ]
    },
    {
      "cell_type": "code",
      "metadata": {
        "colab": {
          "base_uri": "https://localhost:8080/"
        },
        "id": "0UYs2M2BUMrC",
        "outputId": "9a29971d-21da-4a0d-90be-5134bd908875"
      },
      "source": [
        "c.repeat(4,1,1,1).shape"
      ],
      "execution_count": 73,
      "outputs": [
        {
          "output_type": "execute_result",
          "data": {
            "text/plain": [
              "torch.Size([4, 32, 1, 1])"
            ]
          },
          "metadata": {
            "tags": []
          },
          "execution_count": 73
        }
      ]
    },
    {
      "cell_type": "code",
      "metadata": {
        "colab": {
          "base_uri": "https://localhost:8080/"
        },
        "id": "R-anTX5uUVKE",
        "outputId": "38fa1ca9-2271-44c9-b2a8-1c4f1d345574"
      },
      "source": [
        "c.repeat(4,32,32,32).shape"
      ],
      "execution_count": 74,
      "outputs": [
        {
          "output_type": "execute_result",
          "data": {
            "text/plain": [
              "torch.Size([4, 1024, 32, 32])"
            ]
          },
          "metadata": {
            "tags": []
          },
          "execution_count": 74
        }
      ]
    },
    {
      "cell_type": "code",
      "metadata": {
        "colab": {
          "base_uri": "https://localhost:8080/"
        },
        "id": "aZeS5YRLUa7K",
        "outputId": "17c96ada-535b-4861-ae94-25d2ef7824e8"
      },
      "source": [
        "c.repeat(4,1,32,32).shape"
      ],
      "execution_count": 75,
      "outputs": [
        {
          "output_type": "execute_result",
          "data": {
            "text/plain": [
              "torch.Size([4, 32, 32, 32])"
            ]
          },
          "metadata": {
            "tags": []
          },
          "execution_count": 75
        }
      ]
    },
    {
      "cell_type": "code",
      "metadata": {
        "colab": {
          "base_uri": "https://localhost:8080/",
          "height": 178
        },
        "id": "XmwEzPzvUyr1",
        "outputId": "6fb08d55-0002-4cba-eb37-29af8f365a76"
      },
      "source": [
        "a=torch.rand(4,3,28,28)\n",
        "a1=a.transpose(1,3).view(4,3*28*28).view(4,3,28,28)"
      ],
      "execution_count": 77,
      "outputs": [
        {
          "output_type": "error",
          "ename": "RuntimeError",
          "evalue": "ignored",
          "traceback": [
            "\u001b[0;31m---------------------------------------------------------------------------\u001b[0m",
            "\u001b[0;31mRuntimeError\u001b[0m                              Traceback (most recent call last)",
            "\u001b[0;32m<ipython-input-77-1a6212c9d49d>\u001b[0m in \u001b[0;36m<module>\u001b[0;34m()\u001b[0m\n\u001b[1;32m      1\u001b[0m \u001b[0ma\u001b[0m\u001b[0;34m=\u001b[0m\u001b[0mtorch\u001b[0m\u001b[0;34m.\u001b[0m\u001b[0mrand\u001b[0m\u001b[0;34m(\u001b[0m\u001b[0;36m4\u001b[0m\u001b[0;34m,\u001b[0m\u001b[0;36m3\u001b[0m\u001b[0;34m,\u001b[0m\u001b[0;36m28\u001b[0m\u001b[0;34m,\u001b[0m\u001b[0;36m28\u001b[0m\u001b[0;34m)\u001b[0m\u001b[0;34m\u001b[0m\u001b[0;34m\u001b[0m\u001b[0m\n\u001b[0;32m----> 2\u001b[0;31m \u001b[0ma1\u001b[0m\u001b[0;34m=\u001b[0m\u001b[0ma\u001b[0m\u001b[0;34m.\u001b[0m\u001b[0mtranspose\u001b[0m\u001b[0;34m(\u001b[0m\u001b[0;36m1\u001b[0m\u001b[0;34m,\u001b[0m\u001b[0;36m3\u001b[0m\u001b[0;34m)\u001b[0m\u001b[0;34m.\u001b[0m\u001b[0mview\u001b[0m\u001b[0;34m(\u001b[0m\u001b[0;36m4\u001b[0m\u001b[0;34m,\u001b[0m\u001b[0;36m3\u001b[0m\u001b[0;34m*\u001b[0m\u001b[0;36m28\u001b[0m\u001b[0;34m*\u001b[0m\u001b[0;36m28\u001b[0m\u001b[0;34m)\u001b[0m\u001b[0;34m.\u001b[0m\u001b[0mview\u001b[0m\u001b[0;34m(\u001b[0m\u001b[0;36m4\u001b[0m\u001b[0;34m,\u001b[0m\u001b[0;36m3\u001b[0m\u001b[0;34m,\u001b[0m\u001b[0;36m28\u001b[0m\u001b[0;34m,\u001b[0m\u001b[0;36m28\u001b[0m\u001b[0;34m)\u001b[0m\u001b[0;34m\u001b[0m\u001b[0;34m\u001b[0m\u001b[0m\n\u001b[0m",
            "\u001b[0;31mRuntimeError\u001b[0m: view size is not compatible with input tensor's size and stride (at least one dimension spans across two contiguous subspaces). Use .reshape(...) instead."
          ]
        }
      ]
    },
    {
      "cell_type": "code",
      "metadata": {
        "colab": {
          "base_uri": "https://localhost:8080/"
        },
        "id": "WcLLtF50VNOa",
        "outputId": "a91579ff-7c93-4180-a887-7562dc384b31"
      },
      "source": [
        "a1=a.transpose(1,3).contiguous().view(4,3*28*28).view(4,3,28,28)\n",
        "a1.shape"
      ],
      "execution_count": 80,
      "outputs": [
        {
          "output_type": "execute_result",
          "data": {
            "text/plain": [
              "torch.Size([4, 3, 28, 28])"
            ]
          },
          "metadata": {
            "tags": []
          },
          "execution_count": 80
        }
      ]
    },
    {
      "cell_type": "code",
      "metadata": {
        "colab": {
          "base_uri": "https://localhost:8080/"
        },
        "id": "p9RFjCvRVgHF",
        "outputId": "f3179769-b74d-4ae0-ac5b-e4d97026ca7c"
      },
      "source": [
        "a2=a.transpose(1,3).contiguous().view(4,3*28*28).view(4,28,28,3).transpose(1,3)\n",
        "a2.shape"
      ],
      "execution_count": 82,
      "outputs": [
        {
          "output_type": "execute_result",
          "data": {
            "text/plain": [
              "torch.Size([4, 3, 28, 28])"
            ]
          },
          "metadata": {
            "tags": []
          },
          "execution_count": 82
        }
      ]
    },
    {
      "cell_type": "code",
      "metadata": {
        "colab": {
          "base_uri": "https://localhost:8080/"
        },
        "id": "Dsl_x5hJWzDT",
        "outputId": "4af77cb2-6a16-4ca3-fff8-c70be4aabf6b"
      },
      "source": [
        "a=torch.randn(4,3,28,28)\n",
        "a.transpose(1,3).shape"
      ],
      "execution_count": 83,
      "outputs": [
        {
          "output_type": "execute_result",
          "data": {
            "text/plain": [
              "torch.Size([4, 28, 28, 3])"
            ]
          },
          "metadata": {
            "tags": []
          },
          "execution_count": 83
        }
      ]
    },
    {
      "cell_type": "code",
      "metadata": {
        "colab": {
          "base_uri": "https://localhost:8080/"
        },
        "id": "88MXfRCdW7ZL",
        "outputId": "1656b41b-c917-4d55-8e86-8c36cca28526"
      },
      "source": [
        "b=torch.randn(4,3,28,32)\n",
        "b.transpose(1,3).shape"
      ],
      "execution_count": 84,
      "outputs": [
        {
          "output_type": "execute_result",
          "data": {
            "text/plain": [
              "torch.Size([4, 32, 28, 3])"
            ]
          },
          "metadata": {
            "tags": []
          },
          "execution_count": 84
        }
      ]
    },
    {
      "cell_type": "code",
      "metadata": {
        "colab": {
          "base_uri": "https://localhost:8080/"
        },
        "id": "pdYGQMx8XQeK",
        "outputId": "3518bf8e-32d7-410f-c566-0f88d009724c"
      },
      "source": [
        "b.shape"
      ],
      "execution_count": 86,
      "outputs": [
        {
          "output_type": "execute_result",
          "data": {
            "text/plain": [
              "torch.Size([4, 3, 28, 32])"
            ]
          },
          "metadata": {
            "tags": []
          },
          "execution_count": 86
        }
      ]
    },
    {
      "cell_type": "code",
      "metadata": {
        "colab": {
          "base_uri": "https://localhost:8080/"
        },
        "id": "i_KrmzZ_VEva",
        "outputId": "7b814ba1-232b-4ce0-8fa7-9b4400348e60"
      },
      "source": [
        "b.transpose(1,3).transpose(1,2).shape"
      ],
      "execution_count": 85,
      "outputs": [
        {
          "output_type": "execute_result",
          "data": {
            "text/plain": [
              "torch.Size([4, 28, 32, 3])"
            ]
          },
          "metadata": {
            "tags": []
          },
          "execution_count": 85
        }
      ]
    },
    {
      "cell_type": "code",
      "metadata": {
        "colab": {
          "base_uri": "https://localhost:8080/"
        },
        "id": "vU4CyufpXZVD",
        "outputId": "9ad39cc3-126d-4e50-e40f-069035e34b3b"
      },
      "source": [
        "b.permute(0,2,3,1).shape"
      ],
      "execution_count": 87,
      "outputs": [
        {
          "output_type": "execute_result",
          "data": {
            "text/plain": [
              "torch.Size([4, 28, 32, 3])"
            ]
          },
          "metadata": {
            "tags": []
          },
          "execution_count": 87
        }
      ]
    },
    {
      "cell_type": "code",
      "metadata": {
        "colab": {
          "base_uri": "https://localhost:8080/"
        },
        "id": "TUFTIZHKXzmM",
        "outputId": "ef1e8b7d-20ac-44d7-ba6d-cd4b2dc7f17e"
      },
      "source": [
        "a=torch.rand(5,8,3)\n",
        "b=torch.rand(4,8,3)\n",
        "c=torch.cat([a,b],dim=0)\n",
        "c.shape"
      ],
      "execution_count": 91,
      "outputs": [
        {
          "output_type": "execute_result",
          "data": {
            "text/plain": [
              "torch.Size([9, 8, 3])"
            ]
          },
          "metadata": {
            "tags": []
          },
          "execution_count": 91
        }
      ]
    },
    {
      "cell_type": "code",
      "metadata": {
        "colab": {
          "base_uri": "https://localhost:8080/"
        },
        "id": "8YihAKbPYX8D",
        "outputId": "8d7d568e-b244-4f30-be2d-c8fb0c8c7f69"
      },
      "source": [
        "a1=torch.rand(4,3,32,32)\n",
        "a2=torch.rand(5,3,32,32)\n",
        "c=torch.cat([a1,a2],dim=0)\n",
        "c.shape"
      ],
      "execution_count": 92,
      "outputs": [
        {
          "output_type": "execute_result",
          "data": {
            "text/plain": [
              "torch.Size([9, 3, 32, 32])"
            ]
          },
          "metadata": {
            "tags": []
          },
          "execution_count": 92
        }
      ]
    },
    {
      "cell_type": "code",
      "metadata": {
        "colab": {
          "base_uri": "https://localhost:8080/"
        },
        "id": "ZY-u6JVhYoyK",
        "outputId": "b0d8dff8-0c81-425d-c455-e6da38a2b7ce"
      },
      "source": [
        "a1=torch.rand(4,3,32,32)\n",
        "a2=torch.rand(4,6,32,32)\n",
        "c=torch.cat([a1,a2],dim=1)\n",
        "c.shape"
      ],
      "execution_count": 93,
      "outputs": [
        {
          "output_type": "execute_result",
          "data": {
            "text/plain": [
              "torch.Size([4, 9, 32, 32])"
            ]
          },
          "metadata": {
            "tags": []
          },
          "execution_count": 93
        }
      ]
    },
    {
      "cell_type": "code",
      "metadata": {
        "colab": {
          "base_uri": "https://localhost:8080/"
        },
        "id": "5t7GfFbZYtHD",
        "outputId": "7a01bcfd-ee1a-47eb-d8c9-f724c9d0718f"
      },
      "source": [
        "a1=torch.rand(4,3,32,16)\n",
        "a2=torch.rand(4,3,32,16)\n",
        "c=torch.cat([a1,a2],dim=3)\n",
        "c.shape"
      ],
      "execution_count": 94,
      "outputs": [
        {
          "output_type": "execute_result",
          "data": {
            "text/plain": [
              "torch.Size([4, 3, 32, 32])"
            ]
          },
          "metadata": {
            "tags": []
          },
          "execution_count": 94
        }
      ]
    },
    {
      "cell_type": "code",
      "metadata": {
        "colab": {
          "base_uri": "https://localhost:8080/"
        },
        "id": "AJk2TnJqZQ4y",
        "outputId": "b56b7ff6-661f-4f02-f2ff-8d5fbbbb6a39"
      },
      "source": [
        "a1=torch.rand(4,3,32,16)\n",
        "a2=torch.rand(4,3,32,16)\n",
        "c=torch.stack([a1,a2],dim=0)\n",
        "c.shape"
      ],
      "execution_count": 102,
      "outputs": [
        {
          "output_type": "execute_result",
          "data": {
            "text/plain": [
              "torch.Size([2, 4, 3, 32, 16])"
            ]
          },
          "metadata": {
            "tags": []
          },
          "execution_count": 102
        }
      ]
    },
    {
      "cell_type": "code",
      "metadata": {
        "colab": {
          "base_uri": "https://localhost:8080/"
        },
        "id": "MJUq35HZZh5N",
        "outputId": "456dea48-c6cb-480a-cd9f-54c00bca0340"
      },
      "source": [
        "a1=torch.rand(4,3,32,16)\n",
        "a2=torch.rand(4,3,32,16)\n",
        "c=torch.stack([a1,a2],dim=2)\n",
        "c.shape"
      ],
      "execution_count": 103,
      "outputs": [
        {
          "output_type": "execute_result",
          "data": {
            "text/plain": [
              "torch.Size([4, 3, 2, 32, 16])"
            ]
          },
          "metadata": {
            "tags": []
          },
          "execution_count": 103
        }
      ]
    },
    {
      "cell_type": "code",
      "metadata": {
        "colab": {
          "base_uri": "https://localhost:8080/"
        },
        "id": "Zp6Awtk4Y7kq",
        "outputId": "e1946095-ac63-4c90-cb82-dc9e81c4f745"
      },
      "source": [
        "a=torch.rand(3,32)\n",
        "b=torch.rand(3,32)\n",
        "d=torch.stack([a,b],dim=0)\n",
        "d.shape"
      ],
      "execution_count": 95,
      "outputs": [
        {
          "output_type": "execute_result",
          "data": {
            "text/plain": [
              "torch.Size([2, 3, 32])"
            ]
          },
          "metadata": {
            "tags": []
          },
          "execution_count": 95
        }
      ]
    },
    {
      "cell_type": "code",
      "metadata": {
        "colab": {
          "base_uri": "https://localhost:8080/"
        },
        "id": "2l9JxDzUZI_Z",
        "outputId": "7bd82ec8-ab71-46bd-af82-d5d31f506070"
      },
      "source": [
        "a=torch.rand(3,32)\n",
        "b=torch.rand(3,32)\n",
        "d=torch.stack([a,b],dim=1)\n",
        "d.shape"
      ],
      "execution_count": 96,
      "outputs": [
        {
          "output_type": "execute_result",
          "data": {
            "text/plain": [
              "torch.Size([3, 2, 32])"
            ]
          },
          "metadata": {
            "tags": []
          },
          "execution_count": 96
        }
      ]
    },
    {
      "cell_type": "code",
      "metadata": {
        "colab": {
          "base_uri": "https://localhost:8080/"
        },
        "id": "DPkKnyDyazpf",
        "outputId": "6555d839-279d-48dd-ddbe-17d736d71f85"
      },
      "source": [
        "a=torch.rand(4,8)\n",
        "a.argmax()"
      ],
      "execution_count": 104,
      "outputs": [
        {
          "output_type": "execute_result",
          "data": {
            "text/plain": [
              "tensor(28)"
            ]
          },
          "metadata": {
            "tags": []
          },
          "execution_count": 104
        }
      ]
    },
    {
      "cell_type": "code",
      "metadata": {
        "colab": {
          "base_uri": "https://localhost:8080/"
        },
        "id": "24wrUAzba-gS",
        "outputId": "54742240-b3c4-4125-a4ae-82ad02a496ff"
      },
      "source": [
        "a"
      ],
      "execution_count": 107,
      "outputs": [
        {
          "output_type": "execute_result",
          "data": {
            "text/plain": [
              "tensor([[0.1150, 0.2594, 0.8232, 0.8073, 0.6700, 0.2744, 0.4863, 0.8307],\n",
              "        [0.7616, 0.2781, 0.0663, 0.7333, 0.0791, 0.5736, 0.2623, 0.5132],\n",
              "        [0.7412, 0.8321, 0.5007, 0.7274, 0.4445, 0.6819, 0.2558, 0.2668],\n",
              "        [0.3597, 0.7817, 0.2116, 0.2919, 0.9565, 0.7037, 0.7985, 0.6197]])"
            ]
          },
          "metadata": {
            "tags": []
          },
          "execution_count": 107
        }
      ]
    },
    {
      "cell_type": "code",
      "metadata": {
        "colab": {
          "base_uri": "https://localhost:8080/"
        },
        "id": "kjr4LxVHa6U6",
        "outputId": "6e1d8e8b-5c5c-4346-f78c-2cddd4cc94ee"
      },
      "source": [
        "a.argmax(dim=1)"
      ],
      "execution_count": 106,
      "outputs": [
        {
          "output_type": "execute_result",
          "data": {
            "text/plain": [
              "tensor([7, 0, 1, 4])"
            ]
          },
          "metadata": {
            "tags": []
          },
          "execution_count": 106
        }
      ]
    },
    {
      "cell_type": "code",
      "metadata": {
        "colab": {
          "base_uri": "https://localhost:8080/"
        },
        "id": "BbouOSNNbFzq",
        "outputId": "673768dd-bd99-47e0-c3bb-39d688f2ec90"
      },
      "source": [
        "a.argmax(dim=0)"
      ],
      "execution_count": 108,
      "outputs": [
        {
          "output_type": "execute_result",
          "data": {
            "text/plain": [
              "tensor([1, 2, 0, 0, 3, 3, 3, 0])"
            ]
          },
          "metadata": {
            "tags": []
          },
          "execution_count": 108
        }
      ]
    },
    {
      "cell_type": "code",
      "metadata": {
        "colab": {
          "base_uri": "https://localhost:8080/"
        },
        "id": "hd4eF8obbcKt",
        "outputId": "45f95fb0-8c6a-418d-d46b-e29c6a816b56"
      },
      "source": [
        "a.max(dim=1)"
      ],
      "execution_count": 109,
      "outputs": [
        {
          "output_type": "execute_result",
          "data": {
            "text/plain": [
              "torch.return_types.max(values=tensor([0.8307, 0.7616, 0.8321, 0.9565]), indices=tensor([7, 0, 1, 4]))"
            ]
          },
          "metadata": {
            "tags": []
          },
          "execution_count": 109
        }
      ]
    },
    {
      "cell_type": "code",
      "metadata": {
        "colab": {
          "base_uri": "https://localhost:8080/"
        },
        "id": "Rxq471e-btjr",
        "outputId": "f31daa9b-4ddc-43b2-cb81-08ba1f4a5c50"
      },
      "source": [
        "a.max(dim=1,keepdim=True)"
      ],
      "execution_count": 110,
      "outputs": [
        {
          "output_type": "execute_result",
          "data": {
            "text/plain": [
              "torch.return_types.max(values=tensor([[0.8307],\n",
              "        [0.7616],\n",
              "        [0.8321],\n",
              "        [0.9565]]), indices=tensor([[7],\n",
              "        [0],\n",
              "        [1],\n",
              "        [4]]))"
            ]
          },
          "metadata": {
            "tags": []
          },
          "execution_count": 110
        }
      ]
    },
    {
      "cell_type": "code",
      "metadata": {
        "colab": {
          "base_uri": "https://localhost:8080/"
        },
        "id": "T2lZOk6Lb2y9",
        "outputId": "bacf146a-9111-4d00-974c-28943a9eaab2"
      },
      "source": [
        "a.argmax(dim=1,keepdim=True)"
      ],
      "execution_count": 111,
      "outputs": [
        {
          "output_type": "execute_result",
          "data": {
            "text/plain": [
              "tensor([[7],\n",
              "        [0],\n",
              "        [1],\n",
              "        [4]])"
            ]
          },
          "metadata": {
            "tags": []
          },
          "execution_count": 111
        }
      ]
    },
    {
      "cell_type": "code",
      "metadata": {
        "colab": {
          "base_uri": "https://localhost:8080/"
        },
        "id": "omUmEiqicM9E",
        "outputId": "95595c26-a050-4842-f943-4245a36501a9"
      },
      "source": [
        "a>0"
      ],
      "execution_count": 112,
      "outputs": [
        {
          "output_type": "execute_result",
          "data": {
            "text/plain": [
              "tensor([[True, True, True, True, True, True, True, True],\n",
              "        [True, True, True, True, True, True, True, True],\n",
              "        [True, True, True, True, True, True, True, True],\n",
              "        [True, True, True, True, True, True, True, True]])"
            ]
          },
          "metadata": {
            "tags": []
          },
          "execution_count": 112
        }
      ]
    },
    {
      "cell_type": "code",
      "metadata": {
        "colab": {
          "base_uri": "https://localhost:8080/"
        },
        "id": "hOHefBmscQdi",
        "outputId": "cea17acf-ef8e-4094-da10-7d74076239ed"
      },
      "source": [
        "torch.gt(a,0)"
      ],
      "execution_count": 113,
      "outputs": [
        {
          "output_type": "execute_result",
          "data": {
            "text/plain": [
              "tensor([[True, True, True, True, True, True, True, True],\n",
              "        [True, True, True, True, True, True, True, True],\n",
              "        [True, True, True, True, True, True, True, True],\n",
              "        [True, True, True, True, True, True, True, True]])"
            ]
          },
          "metadata": {
            "tags": []
          },
          "execution_count": 113
        }
      ]
    },
    {
      "cell_type": "code",
      "metadata": {
        "colab": {
          "base_uri": "https://localhost:8080/"
        },
        "id": "4SeQh47qcYUL",
        "outputId": "7eec57c8-224f-41e7-b21d-2b5cfd6356df"
      },
      "source": [
        "a!=0"
      ],
      "execution_count": 115,
      "outputs": [
        {
          "output_type": "execute_result",
          "data": {
            "text/plain": [
              "tensor([[True, True, True, True, True, True, True, True],\n",
              "        [True, True, True, True, True, True, True, True],\n",
              "        [True, True, True, True, True, True, True, True],\n",
              "        [True, True, True, True, True, True, True, True]])"
            ]
          },
          "metadata": {
            "tags": []
          },
          "execution_count": 115
        }
      ]
    }
  ]
}