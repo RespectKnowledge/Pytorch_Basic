{
  "nbformat": 4,
  "nbformat_minor": 0,
  "metadata": {
    "colab": {
      "name": "Pytorch_Basic_Operations.ipynb",
      "provenance": [],
      "collapsed_sections": []
    },
    "kernelspec": {
      "name": "python3",
      "display_name": "Python 3"
    },
    "accelerator": "GPU"
  },
  "cells": [
    {
      "cell_type": "code",
      "metadata": {
        "colab": {
          "base_uri": "https://localhost:8080/"
        },
        "id": "nuuaMiy8P6a9",
        "outputId": "1b79dc20-8531-4abd-ba0b-7a63add89112"
      },
      "source": [
        "# define data list of list\r\n",
        "data = [[1,2,7],[3, 4,6],[3,4,5]]\r\n",
        "# convert data into tensor\r\n",
        "x_data = torch.tensor(data)\r\n",
        "# check shape,dimension\r\n",
        "print(f\"tensor shape:{x_data.shape}\")\r\n",
        "print(f\"tensor diemsnoin type1:{x_data.ndim}\")\r\n",
        "print(f\"tensor diemnsion type2: {x_data.ndimension()}\")\r\n",
        "print(f\"Device tensor is stored on: {x_data.device}\")"
      ],
      "execution_count": null,
      "outputs": [
        {
          "output_type": "stream",
          "text": [
            "tensor shape:torch.Size([3, 3])\n",
            "tensor diemsnoin type1:2\n",
            "tensor diemnsion type2: 2\n",
            "Device tensor is stored on: cpu\n"
          ],
          "name": "stdout"
        }
      ]
    },
    {
      "cell_type": "code",
      "metadata": {
        "colab": {
          "base_uri": "https://localhost:8080/"
        },
        "id": "7QmCREmQQYLr",
        "outputId": "28566cf3-2b58-4f11-f8b5-f29a498876db"
      },
      "source": [
        "import numpy as np\r\n",
        "data_x=np.ones((100,100))\r\n",
        "print(data_x.dtype) # float64 nd array\r\n",
        "# numpy array to tensor\r\n",
        "data_xtorch=torch.tensor(data_x) # convert into tensor\r\n",
        "print(data_xtorch.shape)\r\n",
        "print(data_xtorch.dtype) # type tensor would be float64\r\n",
        "print(data_xtorch.type(torch.float).dtype) # convert tensor float64 to float32\r\n",
        "print(data_xtorch.ndim) # check diemsion"
      ],
      "execution_count": null,
      "outputs": [
        {
          "output_type": "stream",
          "text": [
            "float64\n",
            "torch.Size([100, 100])\n",
            "torch.float64\n",
            "torch.float32\n",
            "2\n"
          ],
          "name": "stdout"
        }
      ]
    },
    {
      "cell_type": "code",
      "metadata": {
        "colab": {
          "base_uri": "https://localhost:8080/"
        },
        "id": "Geko3kETP7G1",
        "outputId": "f7c92d2c-5bf7-4b3a-9041-83a6473b87d7"
      },
      "source": [
        "import torch\r\n",
        "x = torch.rand(3,4)\r\n",
        "print(x.dtype)  # bydefalut tensor type is float32\r\n",
        "if torch.cuda.is_available():\r\n",
        "  x=x.to('cuda')  # if cuda avalible then pass tensor to cuda\r\n",
        "print(x)"
      ],
      "execution_count": null,
      "outputs": [
        {
          "output_type": "stream",
          "text": [
            "torch.float32\n",
            "tensor([[0.0412, 0.2367, 0.0714, 0.1528],\n",
            "        [0.3248, 0.0675, 0.8382, 0.2060],\n",
            "        [0.0081, 0.9743, 0.7820, 0.0065]], device='cuda:0')\n"
          ],
          "name": "stdout"
        }
      ]
    },
    {
      "cell_type": "code",
      "metadata": {
        "id": "f103Pjs_S8Jt"
      },
      "source": [
        ""
      ],
      "execution_count": null,
      "outputs": []
    },
    {
      "cell_type": "code",
      "metadata": {
        "id": "xIlo-hvzS8n9"
      },
      "source": [
        ""
      ],
      "execution_count": null,
      "outputs": []
    },
    {
      "cell_type": "markdown",
      "metadata": {
        "id": "qi_VwpT8EJ7_"
      },
      "source": [
        "**torch.dtype**\r\n",
        "\r\n",
        "**CLASStorch.dtype **\r\n",
        "\r\n",
        "A torch.dtype is an object that represents the data type of a torch.Tensor. PyTorch has twelve different data types:\r\n",
        "\r\n",
        "**Data type**\r\n",
        "\r\n",
        "dtype 32-bit floating point,torch.float32 or torch.float, torch.*.FloatTensor, 64-bit floating point, torch.float64 or torch.double \r\n",
        "\r\n",
        "torch.*.DoubleTensor, 64-bit complex, torch.complex64 or torch.cfloat, 128-bit complex, torch.complex128 or torch.cdouble 16-bit floating point 1, torch.float16 or torch.half\r\n",
        "\r\n",
        "torch.*.HalfTensor, 16-bit floating point 2, torch.bfloat16 ,torch.*.BFloat16Tensor,8-bit integer (unsigned), torch.uint8\r\n",
        "\r\n",
        "torch.*.ByteTensor, 8-bit integer (signed), torch.int8, torch.*.CharTensor, 16-bit integer (signed), torch.int16 or torch.short\r\n",
        "torch.*.ShortTensor, 32-bit integer (signed), torch.int32 or torch.int, torch.*.IntTensor, 64-bit integer (signed), torch.int64 or torch.long, torch.*.LongTensor\r\n",
        "\r\n",
        "Boolean, torch.bool, torch.*.BoolTensor \r\n",
        "https://pytorch.org/docs/stable/tensor_attributes.html)"
      ]
    },
    {
      "cell_type": "code",
      "metadata": {
        "colab": {
          "base_uri": "https://localhost:8080/"
        },
        "id": "oAkTFYVmIpvo",
        "outputId": "33316ea9-21b5-4166-88e3-12f7872ed230"
      },
      "source": [
        "float_t=torch.randn(5,dtype=torch.float)\r\n",
        "print(float_t)\r\n",
        "print(float_t.dtype)"
      ],
      "execution_count": null,
      "outputs": [
        {
          "output_type": "stream",
          "text": [
            "tensor([-0.9173, -1.3762, -0.1147, -2.0637,  1.5621])\n",
            "torch.float32\n"
          ],
          "name": "stdout"
        }
      ]
    },
    {
      "cell_type": "code",
      "metadata": {
        "colab": {
          "base_uri": "https://localhost:8080/"
        },
        "id": "MAmgzYFEJBlq",
        "outputId": "be94a736-662d-4f29-8811-8f0db639aa33"
      },
      "source": [
        "double_t=torch.randn(5,dtype=torch.double)\r\n",
        "print(double_t)\r\n",
        "print(double_t.dtype)"
      ],
      "execution_count": null,
      "outputs": [
        {
          "output_type": "stream",
          "text": [
            "tensor([ 0.2981, -0.5040,  0.4718,  1.7251,  0.4887], dtype=torch.float64)\n",
            "torch.float64\n"
          ],
          "name": "stdout"
        }
      ]
    },
    {
      "cell_type": "code",
      "metadata": {
        "colab": {
          "base_uri": "https://localhost:8080/"
        },
        "id": "dDvWmeKsJclI",
        "outputId": "845db918-03be-47d3-db5e-010d2b53a58e"
      },
      "source": [
        "complex_double_t=torch.ones(5,dtype=torch.complex64)\r\n",
        "print(complex_double_t)\r\n",
        "print(complex_double_t.dtype)"
      ],
      "execution_count": null,
      "outputs": [
        {
          "output_type": "stream",
          "text": [
            "tensor([1.+0.j, 1.+0.j, 1.+0.j, 1.+0.j, 1.+0.j])\n",
            "torch.complex64\n"
          ],
          "name": "stdout"
        }
      ]
    },
    {
      "cell_type": "code",
      "metadata": {
        "colab": {
          "base_uri": "https://localhost:8080/"
        },
        "id": "xu_JOiWPJuce",
        "outputId": "061c5676-2fc8-41bc-f334-999bc00f0729"
      },
      "source": [
        "complex_double_t128=torch.ones(5,dtype=torch.complex128)\r\n",
        "print(complex_double_t128)\r\n",
        "print(complex_double_t128.dtype)"
      ],
      "execution_count": null,
      "outputs": [
        {
          "output_type": "stream",
          "text": [
            "tensor([1.+0.j, 1.+0.j, 1.+0.j, 1.+0.j, 1.+0.j], dtype=torch.complex128)\n",
            "torch.complex128\n"
          ],
          "name": "stdout"
        }
      ]
    },
    {
      "cell_type": "code",
      "metadata": {
        "colab": {
          "base_uri": "https://localhost:8080/"
        },
        "id": "8EKTwSzcKEso",
        "outputId": "a7ad5661-50a8-4e7e-8717-9c29901eeae0"
      },
      "source": [
        "int_t=torch.ones(5,dtype=torch.int)\r\n",
        "print(int_t)\r\n",
        "print(int_t.dtype)"
      ],
      "execution_count": null,
      "outputs": [
        {
          "output_type": "stream",
          "text": [
            "tensor([1, 1, 1, 1, 1], dtype=torch.int32)\n",
            "torch.int32\n"
          ],
          "name": "stdout"
        }
      ]
    },
    {
      "cell_type": "code",
      "metadata": {
        "colab": {
          "base_uri": "https://localhost:8080/"
        },
        "id": "BuMogXdwKUHA",
        "outputId": "e27ecfc9-be60-4901-8201-842596b3393b"
      },
      "source": [
        "long_t=torch.ones(5,dtype=torch.long)\r\n",
        "print(long_t)\r\n",
        "print(long_t.dtype)"
      ],
      "execution_count": null,
      "outputs": [
        {
          "output_type": "stream",
          "text": [
            "tensor([1, 1, 1, 1, 1])\n",
            "torch.int64\n"
          ],
          "name": "stdout"
        }
      ]
    },
    {
      "cell_type": "code",
      "metadata": {
        "colab": {
          "base_uri": "https://localhost:8080/"
        },
        "id": "aFC8cw6LKhGp",
        "outputId": "b462a73e-414e-4df1-d12a-982d307e0464"
      },
      "source": [
        "uint_t=torch.ones(5,dtype=torch.uint8)\r\n",
        "print(uint_t)\r\n",
        "print(uint_t.dtype)"
      ],
      "execution_count": null,
      "outputs": [
        {
          "output_type": "stream",
          "text": [
            "tensor([1, 1, 1, 1, 1], dtype=torch.uint8)\n",
            "torch.uint8\n"
          ],
          "name": "stdout"
        }
      ]
    },
    {
      "cell_type": "code",
      "metadata": {
        "colab": {
          "base_uri": "https://localhost:8080/"
        },
        "id": "0vhcymM2KvYR",
        "outputId": "83e9e830-8f7f-47cb-d2e3-ae3ce6914129"
      },
      "source": [
        "bool_t=torch.ones(5,dtype=torch.bool)\r\n",
        "print(bool_t)\r\n",
        "print(bool_t.dtype)"
      ],
      "execution_count": null,
      "outputs": [
        {
          "output_type": "stream",
          "text": [
            "tensor([True, True, True, True, True])\n",
            "torch.bool\n"
          ],
          "name": "stdout"
        }
      ]
    },
    {
      "cell_type": "code",
      "metadata": {
        "colab": {
          "base_uri": "https://localhost:8080/"
        },
        "id": "KXAcYJ3kK9ER",
        "outputId": "e06d1f7f-2865-4776-f065-e4f4402fa02d"
      },
      "source": [
        "double_t=torch.ones(5,dtype=torch.double)\r\n",
        "print(double_t)\r\n",
        "print(double_t.dtype)"
      ],
      "execution_count": null,
      "outputs": [
        {
          "output_type": "stream",
          "text": [
            "tensor([1., 1., 1., 1., 1.], dtype=torch.float64)\n",
            "torch.float64\n"
          ],
          "name": "stdout"
        }
      ]
    },
    {
      "cell_type": "code",
      "metadata": {
        "colab": {
          "base_uri": "https://localhost:8080/"
        },
        "id": "FuOH0714LnZo",
        "outputId": "5dbe11da-4efc-4989-9b72-7954983b69ee"
      },
      "source": [
        "# zero-dim tensors\r\n",
        "long_zerodim = torch.tensor(1, dtype=torch.long)\r\n",
        "int_zerodim = torch.tensor(1, dtype=torch.int)\r\n",
        "print(long_zerodim.dtype)\r\n",
        "print(int_zerodim.dtype)"
      ],
      "execution_count": null,
      "outputs": [
        {
          "output_type": "stream",
          "text": [
            "torch.int64\n",
            "torch.int32\n"
          ],
          "name": "stdout"
        }
      ]
    },
    {
      "cell_type": "code",
      "metadata": {
        "colab": {
          "base_uri": "https://localhost:8080/"
        },
        "id": "nh-e1O6HLLTb",
        "outputId": "eb87f2ab-5654-48a3-eb18-223fe7abf5b2"
      },
      "source": [
        "torch.add(5,5).dtype"
      ],
      "execution_count": null,
      "outputs": [
        {
          "output_type": "execute_result",
          "data": {
            "text/plain": [
              "torch.int64"
            ]
          },
          "metadata": {
            "tags": []
          },
          "execution_count": 26
        }
      ]
    },
    {
      "cell_type": "code",
      "metadata": {
        "colab": {
          "base_uri": "https://localhost:8080/"
        },
        "id": "ioDI43HJLVWS",
        "outputId": "76f44992-ee67-43f6-bfd5-72e4807c2b86"
      },
      "source": [
        "print(int_t.dtype)\r\n",
        "print((int_t+5).dtype)"
      ],
      "execution_count": null,
      "outputs": [
        {
          "output_type": "stream",
          "text": [
            "torch.int32\n",
            "torch.int32\n"
          ],
          "name": "stdout"
        }
      ]
    },
    {
      "cell_type": "code",
      "metadata": {
        "colab": {
          "base_uri": "https://localhost:8080/"
        },
        "id": "DBryy0CzLfCJ",
        "outputId": "58b2eac5-5063-4e66-960d-6c5b637920b3"
      },
      "source": [
        "print(int_t.dtype) # int32\r\n",
        "print(long_zerodim.dtype) # int64\r\n",
        "print((int_t+long_zerodim).dtype) # int32"
      ],
      "execution_count": null,
      "outputs": [
        {
          "output_type": "stream",
          "text": [
            "torch.int32\n",
            "torch.int64\n",
            "torch.int32\n"
          ],
          "name": "stdout"
        }
      ]
    },
    {
      "cell_type": "code",
      "metadata": {
        "colab": {
          "base_uri": "https://localhost:8080/"
        },
        "id": "dcK8q2R2MHwS",
        "outputId": "6a4996b9-e5c3-4548-9791-3840223091dc"
      },
      "source": [
        "print(long_t.dtype) # int64\r\n",
        "print(int_t.dtype)  # int32\r\n",
        "print((long_t + int_t).dtype) # int64"
      ],
      "execution_count": null,
      "outputs": [
        {
          "output_type": "stream",
          "text": [
            "torch.int64\n",
            "torch.int32\n",
            "torch.int64\n"
          ],
          "name": "stdout"
        }
      ]
    },
    {
      "cell_type": "code",
      "metadata": {
        "colab": {
          "base_uri": "https://localhost:8080/"
        },
        "id": "LM73roRhMUa5",
        "outputId": "71c3d045-2ee0-45b3-b807-061f9fe2316e"
      },
      "source": [
        "print(bool_t.dtype) # bool\r\n",
        "print(long_t.dtype) # int64\r\n",
        "print((bool_t + long_t).dtype) # int64"
      ],
      "execution_count": null,
      "outputs": [
        {
          "output_type": "stream",
          "text": [
            "torch.bool\n",
            "torch.int64\n",
            "torch.int64\n"
          ],
          "name": "stdout"
        }
      ]
    },
    {
      "cell_type": "code",
      "metadata": {
        "colab": {
          "base_uri": "https://localhost:8080/"
        },
        "id": "0fFku3j6MZoJ",
        "outputId": "1d835d7b-8605-4952-960d-cc58ec40cdf9"
      },
      "source": [
        "print(bool_t.dtype) # bool\r\n",
        "print(uint_t.dtype) # uint8\r\n",
        "print((bool_t + uint_t).dtype) #uint8"
      ],
      "execution_count": null,
      "outputs": [
        {
          "output_type": "stream",
          "text": [
            "torch.bool\n",
            "torch.uint8\n",
            "torch.uint8\n"
          ],
          "name": "stdout"
        }
      ]
    },
    {
      "cell_type": "code",
      "metadata": {
        "colab": {
          "base_uri": "https://localhost:8080/"
        },
        "id": "MeYMKzkHMg_W",
        "outputId": "c8c30897-ca78-400f-ef6e-451111311ac8"
      },
      "source": [
        "print(float_t.dtype) # float32\r\n",
        "print(double_t.dtype) # float64\r\n",
        "print((float_t + double_t).dtype) # float64"
      ],
      "execution_count": null,
      "outputs": [
        {
          "output_type": "stream",
          "text": [
            "torch.float32\n",
            "torch.float64\n",
            "torch.float64\n"
          ],
          "name": "stdout"
        }
      ]
    },
    {
      "cell_type": "code",
      "metadata": {
        "colab": {
          "base_uri": "https://localhost:8080/"
        },
        "id": "YIbGM9JIMm6E",
        "outputId": "20e1f586-391a-4289-9503-52ce8e6f1d93"
      },
      "source": [
        "print(bool_t.dtype) # bool\r\n",
        "print(int_t.dtype)  # int32\r\n",
        "print((bool_t + int_t).dtype) # int32"
      ],
      "execution_count": null,
      "outputs": [
        {
          "output_type": "stream",
          "text": [
            "torch.bool\n",
            "torch.int32\n",
            "torch.int32\n"
          ],
          "name": "stdout"
        }
      ]
    },
    {
      "cell_type": "code",
      "metadata": {
        "colab": {
          "base_uri": "https://localhost:8080/"
        },
        "id": "0-JNpMgmMyxk",
        "outputId": "9b166a57-61d0-45a8-91fc-5ef0dfac1da0"
      },
      "source": [
        "print(long_t.dtype) #int64\r\n",
        "print(float_t.dtype) #float32\r\n",
        "print(torch.add(long_t, float_t).dtype) #float32"
      ],
      "execution_count": null,
      "outputs": [
        {
          "output_type": "stream",
          "text": [
            "torch.int64\n",
            "torch.float32\n",
            "torch.float32\n"
          ],
          "name": "stdout"
        }
      ]
    },
    {
      "cell_type": "code",
      "metadata": {
        "id": "AyNz7kAOS-eM"
      },
      "source": [
        ""
      ],
      "execution_count": null,
      "outputs": []
    },
    {
      "cell_type": "code",
      "metadata": {
        "id": "Bfl75rM5S-ms"
      },
      "source": [
        ""
      ],
      "execution_count": null,
      "outputs": []
    },
    {
      "cell_type": "markdown",
      "metadata": {
        "id": "vkX-WKrISuTM"
      },
      "source": [
        "**Bridge with NumPy**\r\n",
        "\r\n",
        "Tensors on the CPU and NumPy arrays can share their underlying memory locations, and changing one will change the other."
      ]
    },
    {
      "cell_type": "code",
      "metadata": {
        "id": "jNFI4X5ASp2E"
      },
      "source": [
        "# tensor to numpy array\r\n",
        "x=torch.ones(5).numpy() # torch tensor to numpy \r\n",
        "print(x)\r\n",
        "print(x.dtype)"
      ],
      "execution_count": null,
      "outputs": []
    },
    {
      "cell_type": "code",
      "metadata": {
        "id": "gA4girYJS3y7"
      },
      "source": [
        "#NumPy array to Tensor\r\n",
        "import numpy as np\r\n",
        "an=np.ones(5)\r\n",
        "print(an)\r\n",
        "print(an.dtype)\r\n",
        "at=torch.from_numpy(a) # from numpy to torch tensor\r\n",
        "at=at.type(torch.float) # set the dtype of tensor as you wish\r\n",
        "print(at)\r\n",
        "print(at.dtype)"
      ],
      "execution_count": null,
      "outputs": []
    },
    {
      "cell_type": "code",
      "metadata": {
        "id": "QiV_autuS4wN"
      },
      "source": [
        ""
      ],
      "execution_count": null,
      "outputs": []
    },
    {
      "cell_type": "markdown",
      "metadata": {
        "id": "EciAfJIHGa8I"
      },
      "source": [
        "**torch.device**\r\n",
        "\r\n",
        "**CLASStorch.device **\r\n",
        "\r\n",
        "A torch.device is an object representing the device on which a torch.Tensor is or will be allocated.\r\n",
        "\r\n",
        "The torch.device contains a device type ('cpu' or 'cuda') and optional device ordinal for the device type. \r\n",
        "\r\n",
        "If the device ordinal is not present, this object will always represent the current device for the device type, even after torch.cuda.set_device() is called; e.g., a torch.Tensor constructed with device 'cuda' is equivalent to 'cuda:X' where X is the result of torch.cuda.current_device().\r\n",
        "\r\n",
        "A torch.Tensor’s device can be accessed via the Tensor.device property.\r\n",
        "\r\n",
        "A torch.device can be constructed via a string or via a string and device ordinal\r\n"
      ]
    },
    {
      "cell_type": "code",
      "metadata": {
        "colab": {
          "base_uri": "https://localhost:8080/"
        },
        "id": "jBY86zi6GojM",
        "outputId": "075afcf1-dd15-4c24-c910-bd406d846084"
      },
      "source": [
        "# intilaize the device for torch tensor\r\n",
        "torch.device('cuda:0')"
      ],
      "execution_count": null,
      "outputs": [
        {
          "output_type": "execute_result",
          "data": {
            "text/plain": [
              "device(type='cuda', index=0)"
            ]
          },
          "metadata": {
            "tags": []
          },
          "execution_count": 10
        }
      ]
    },
    {
      "cell_type": "code",
      "metadata": {
        "colab": {
          "base_uri": "https://localhost:8080/"
        },
        "id": "ZQAbHAwjG0E_",
        "outputId": "366a336f-7fcb-4c30-b9b3-6e450d36c563"
      },
      "source": [
        "torch.device('cpu')"
      ],
      "execution_count": null,
      "outputs": [
        {
          "output_type": "execute_result",
          "data": {
            "text/plain": [
              "device(type='cpu')"
            ]
          },
          "metadata": {
            "tags": []
          },
          "execution_count": 11
        }
      ]
    },
    {
      "cell_type": "code",
      "metadata": {
        "colab": {
          "base_uri": "https://localhost:8080/"
        },
        "id": "MckcmvKfG3TP",
        "outputId": "43a8f7c9-add6-4766-c77d-251b5f43775e"
      },
      "source": [
        "torch.device('cuda')\r\n",
        "torch.device('cuda', 0)\r\n",
        "torch.device('cpu', 0)"
      ],
      "execution_count": null,
      "outputs": [
        {
          "output_type": "execute_result",
          "data": {
            "text/plain": [
              "device(type='cpu', index=0)"
            ]
          },
          "metadata": {
            "tags": []
          },
          "execution_count": 23
        }
      ]
    },
    {
      "cell_type": "code",
      "metadata": {
        "id": "Q8pWYgmfG-_o"
      },
      "source": [
        ">>> # Example of a function that takes in a torch.device\r\n",
        ">>> cuda1 = torch.device('cuda:1')\r\n",
        ">>> torch.randn((2,3), device=cuda1)"
      ],
      "execution_count": null,
      "outputs": []
    },
    {
      "cell_type": "code",
      "metadata": {
        "colab": {
          "base_uri": "https://localhost:8080/"
        },
        "id": "60f9Q7TDHCUu",
        "outputId": "fa5821ca-a0de-4cb5-d2ef-5619212e9fce"
      },
      "source": [
        "import torch\r\n",
        "cuda1=torch.device('cuda:0')\r\n",
        "x=torch.randn((2,3),device=cuda1)\r\n",
        "print(x)"
      ],
      "execution_count": null,
      "outputs": [
        {
          "output_type": "stream",
          "text": [
            "tensor([[-1.3950,  1.5523, -0.3570],\n",
            "        [-1.2935,  0.5708, -0.0853]], device='cuda:0')\n"
          ],
          "name": "stdout"
        }
      ]
    },
    {
      "cell_type": "code",
      "metadata": {
        "colab": {
          "base_uri": "https://localhost:8080/"
        },
        "id": "cotLhRXVHnRA",
        "outputId": "87e3ed5f-8125-4b6f-cfd1-1ca2609157fe"
      },
      "source": [
        "print(torch.randn((2,3),device=torch.device('cuda:0')))\r\n",
        "print(torch.randn((2,3),device='cuda:0'))\r\n",
        "print(torch.randn((2,3),device=0))"
      ],
      "execution_count": null,
      "outputs": [
        {
          "output_type": "stream",
          "text": [
            "tensor([[ 0.6482,  0.4291, -1.0243],\n",
            "        [-0.5464, -0.0588,  1.0120]], device='cuda:0')\n",
            "tensor([[ 1.4443,  0.8270, -0.8968],\n",
            "        [ 0.8978,  0.0145, -1.5503]], device='cuda:0')\n",
            "tensor([[-2.0234, -0.2277, -0.4933],\n",
            "        [ 0.0834,  0.0623,  1.0968]], device='cuda:0')\n"
          ],
          "name": "stdout"
        }
      ]
    },
    {
      "cell_type": "code",
      "metadata": {
        "id": "Gvw9N-r8TAd8"
      },
      "source": [
        ""
      ],
      "execution_count": null,
      "outputs": []
    },
    {
      "cell_type": "code",
      "metadata": {
        "id": "TU9gijr5TAjR"
      },
      "source": [
        ""
      ],
      "execution_count": null,
      "outputs": []
    },
    {
      "cell_type": "markdown",
      "metadata": {
        "id": "ZkpBGLEg7tBx"
      },
      "source": [
        "**Baisc operations in pytorch**\r\n",
        "\r\n",
        "**zeros**\r\n",
        "Returns a tensor filled with the scalar value 0, with the shape defined by the variable argument size.\r\n",
        "\r\n",
        "**ones**\r\n",
        "\r\n",
        "Returns a tensor filled with the scalar value 1, with the shape defined by the variable argument size.\r\n",
        "\r\n",
        "**arange**\r\n",
        "\r\n",
        "Returns a 1-D tensor of size with values from the interval **⌈(end-start/step⌉** \r\n",
        "**[start, end)** taken with common difference **step** beginning from start.\r\n",
        "\r\n",
        "**range**\r\n",
        "\r\n",
        "Returns a 1-D tensor of size **⌊ end−start/step⌋+1** \r\n",
        "with **start** to **end** with **step**.\r\n",
        "\r\n",
        "(https://pytorch.org/docs/stable/torch.html#)"
      ]
    },
    {
      "cell_type": "code",
      "metadata": {
        "colab": {
          "base_uri": "https://localhost:8080/"
        },
        "id": "kV3GlK7w8MqL",
        "outputId": "14df4fc0-314e-4aed-9816-27d213da13a4"
      },
      "source": [
        "import torch\r\n",
        "num1d=torch.ones(5)\r\n",
        "#print(num1d)\r\n",
        "print(num1d.shape)\r\n",
        "print(num1d.ndimension())\r\n",
        "numb2d=torch.ones(5,5)\r\n",
        "#print(numb2d)\r\n",
        "print(numb2d.shape)\r\n",
        "print(numb2d.ndimension())\r\n",
        "numb3d=torch.ones(5,5,5)\r\n",
        "#print(numb3d)\r\n",
        "print(numb3d.shape)\r\n",
        "print(numb3d.ndimension())\r\n"
      ],
      "execution_count": null,
      "outputs": [
        {
          "output_type": "stream",
          "text": [
            "torch.Size([5])\n",
            "1\n",
            "torch.Size([5, 5])\n",
            "2\n",
            "torch.Size([5, 5, 5])\n",
            "3\n"
          ],
          "name": "stdout"
        }
      ]
    },
    {
      "cell_type": "code",
      "metadata": {
        "colab": {
          "base_uri": "https://localhost:8080/"
        },
        "id": "JAWfC4A-FuDm",
        "outputId": "2bee030d-5fd9-4582-f2f2-3e636739b581"
      },
      "source": [
        "import torch\r\n",
        "num1d=torch.zeros(5)\r\n",
        "print(num1d)\r\n",
        "print(torch.get_default_dtype()) # get deafult type of tensor\r\n",
        "print(num1d.shape)\r\n",
        "print(num1d.ndimension())\r\n",
        "numb2d=torch.zeros(5,5)\r\n",
        "#print(numb2d)\r\n",
        "print(numb2d.shape)\r\n",
        "print(numb2d.ndimension())\r\n",
        "numb3d=torch.zeros(5,5,5)\r\n",
        "#print(numb3d)\r\n",
        "print(numb3d.shape)\r\n",
        "print(numb3d.ndimension())\r\n"
      ],
      "execution_count": null,
      "outputs": [
        {
          "output_type": "stream",
          "text": [
            "tensor([0., 0., 0., 0., 0.])\n",
            "torch.float64\n",
            "torch.Size([5])\n",
            "1\n",
            "torch.Size([5, 5])\n",
            "2\n",
            "torch.Size([5, 5, 5])\n",
            "3\n"
          ],
          "name": "stdout"
        }
      ]
    },
    {
      "cell_type": "code",
      "metadata": {
        "colab": {
          "base_uri": "https://localhost:8080/"
        },
        "id": "cheiPEqUPAmj",
        "outputId": "5815d098-c8cd-4c65-a2a5-ba2099e7e56b"
      },
      "source": [
        "arangetensor=torch.arange(0,32) # 32 total numbers with start and zeros and end less than 1\r\n",
        "print(arangetensor)"
      ],
      "execution_count": null,
      "outputs": [
        {
          "output_type": "stream",
          "text": [
            "tensor([ 0,  1,  2,  3,  4,  5,  6,  7,  8,  9, 10, 11, 12, 13, 14, 15, 16, 17,\n",
            "        18, 19, 20, 21, 22, 23, 24, 25, 26, 27, 28, 29, 30, 31])\n"
          ],
          "name": "stdout"
        }
      ]
    },
    {
      "cell_type": "code",
      "metadata": {
        "colab": {
          "base_uri": "https://localhost:8080/"
        },
        "id": "mZKibV7tPPFS",
        "outputId": "fe32472a-0db7-4d98-c002-6c2172ea38b0"
      },
      "source": [
        "rangetnesnor=torch.range(0,32) # 33 total numbers\r\n",
        "rangetnesnor"
      ],
      "execution_count": null,
      "outputs": [
        {
          "output_type": "stream",
          "text": [
            "/usr/local/lib/python3.6/dist-packages/ipykernel_launcher.py:1: UserWarning: torch.range is deprecated and will be removed in a future release because its behavior is inconsistent with Python's range builtin. Instead, use torch.arange, which produces values in [start, end).\n",
            "  \"\"\"Entry point for launching an IPython kernel.\n"
          ],
          "name": "stderr"
        },
        {
          "output_type": "execute_result",
          "data": {
            "text/plain": [
              "tensor([ 0.,  1.,  2.,  3.,  4.,  5.,  6.,  7.,  8.,  9., 10., 11., 12., 13.,\n",
              "        14., 15., 16., 17., 18., 19., 20., 21., 22., 23., 24., 25., 26., 27.,\n",
              "        28., 29., 30., 31., 32.])"
            ]
          },
          "metadata": {
            "tags": []
          },
          "execution_count": 51
        }
      ]
    },
    {
      "cell_type": "code",
      "metadata": {
        "id": "y-dT4te6TB88"
      },
      "source": [
        ""
      ],
      "execution_count": null,
      "outputs": []
    },
    {
      "cell_type": "code",
      "metadata": {
        "id": "59_vdToyTCCX"
      },
      "source": [
        ""
      ],
      "execution_count": null,
      "outputs": []
    },
    {
      "cell_type": "markdown",
      "metadata": {
        "id": "pd2TFLSi5iPK"
      },
      "source": [
        "**Indexing, Slicing, Joining, Mutating Ops**\r\n",
        "\r\n",
        "\r\n",
        "**cat**\r\n",
        "\r\n",
        "Concatenates the given sequence of **seq** tensors in the given dimension.\r\n",
        "\r\n",
        "**movedim**\r\n",
        "\r\n",
        "Moves the dimension(s) of input at the position(s) in source to the position(s) in destination.\r\n",
        "\r\n",
        "**reshape**\r\n",
        "\r\n",
        "Returns a tensor with the same data and number of elements as input, but with the specified shape.\r\n",
        "\r\n",
        "**squeeze**\r\n",
        "\r\n",
        "Returns a tensor with all the dimensions of input of size 1 removed.\r\n",
        "\r\n",
        "**unsqueeze**\r\n",
        "\r\n",
        "Returns a new tensor with a dimension of size one inserted at the specified position.\r\n",
        "\r\n",
        "\r\n",
        "**t**\r\n",
        "\r\n",
        "Expects input to be <= 2-D tensor and transposes dimensions 0 and 1.\r\n",
        "\r\n",
        "**transpose**\r\n",
        "\r\n",
        "Returns a tensor that is a transposed version of input.\r\n",
        "\r\n",
        "\r\n",
        "**stack**\r\n",
        "\r\n",
        "Concatenates a sequence of tensors along a new dimension.\r\n",
        "\r\n",
        "**vstack**\r\n",
        "\r\n",
        "Stack tensors in sequence vertically (row wise).\r\n",
        "\r\n",
        "**hstack**\r\n",
        "\r\n",
        "Stack tensors in sequence horizontally (column wise).\r\n"
      ]
    },
    {
      "cell_type": "code",
      "metadata": {
        "id": "2Y6WWoZHAsL8",
        "colab": {
          "base_uri": "https://localhost:8080/"
        },
        "outputId": "fae550e0-d08d-4107-9f46-8b2b635e08e5"
      },
      "source": [
        "x=torch.rand(1,5)\r\n",
        "print(x)\r\n",
        "print(x.shape)\r\n",
        "t1 = torch.cat([x, x, x], dim=1) # concatenation of tensor along columns\r\n",
        "print(t1)\r\n",
        "print(t1.shape)\r\n",
        "t2 = torch.cat([x, x, x], dim=0) # concatenation of tensor along rows\r\n",
        "print(t2)\r\n",
        "print(t2.shape)"
      ],
      "execution_count": null,
      "outputs": [
        {
          "output_type": "stream",
          "text": [
            "tensor([[0.9737, 0.1033, 0.6398, 0.5075, 0.7857]])\n",
            "torch.Size([1, 5])\n",
            "tensor([[0.9737, 0.1033, 0.6398, 0.5075, 0.7857, 0.9737, 0.1033, 0.6398, 0.5075,\n",
            "         0.7857, 0.9737, 0.1033, 0.6398, 0.5075, 0.7857]])\n",
            "torch.Size([1, 15])\n",
            "tensor([[0.9737, 0.1033, 0.6398, 0.5075, 0.7857],\n",
            "        [0.9737, 0.1033, 0.6398, 0.5075, 0.7857],\n",
            "        [0.9737, 0.1033, 0.6398, 0.5075, 0.7857]])\n",
            "torch.Size([3, 5])\n"
          ],
          "name": "stdout"
        }
      ]
    },
    {
      "cell_type": "code",
      "metadata": {
        "colab": {
          "base_uri": "https://localhost:8080/"
        },
        "id": "mvz8sdy8YEjv",
        "outputId": "07860cb9-10a8-49df-ad8f-aaa5cf6c6eea"
      },
      "source": [
        "# movedim dimension along different dimensions specified\r\n",
        "x = torch.randn(3,2,1)\r\n",
        "print(x.shape)\r\n",
        "xnew=torch.movedim(x,1,0)\r\n",
        "print(xnew.shape)\r\n",
        "xnew1=torch.movedim(x,1,2)\r\n",
        "print(xnew1.shape)\r\n",
        "\r\n",
        "xnew2=torch.movedim(x, (1, 2), (0, 1))\r\n",
        "print(xnew2.shape)"
      ],
      "execution_count": null,
      "outputs": [
        {
          "output_type": "stream",
          "text": [
            "torch.Size([3, 2, 1])\n",
            "torch.Size([2, 3, 1])\n",
            "torch.Size([3, 1, 2])\n",
            "torch.Size([2, 1, 3])\n"
          ],
          "name": "stdout"
        }
      ]
    },
    {
      "cell_type": "code",
      "metadata": {
        "colab": {
          "base_uri": "https://localhost:8080/"
        },
        "id": "8t7eQawkZ-ND",
        "outputId": "a34b0f5e-f4ec-47b9-ae29-fb34ba0a13f0"
      },
      "source": [
        "x=torch.rand(1,12)\r\n",
        "print(x)\r\n",
        "print(x.shape)\r\n",
        "xreshape=torch.reshape(x,(3,4))\r\n",
        "print(xreshape)\r\n",
        "print(xreshape.shape)\r\n",
        "\r\n",
        "xreshape1=torch.reshape(x,(6,2))\r\n",
        "print(xreshape1)\r\n",
        "print(xreshape1.shape)\r\n",
        "\r\n",
        "xreshape2=torch.reshape(x,(-1,))\r\n",
        "print(xreshape2)\r\n",
        "print(xreshape2.shape)"
      ],
      "execution_count": null,
      "outputs": [
        {
          "output_type": "stream",
          "text": [
            "tensor([[0.5152, 0.0540, 0.6101, 0.9915, 0.7878, 0.8535, 0.7366, 0.4386, 0.0592,\n",
            "         0.4376, 0.5119, 0.3922]])\n",
            "torch.Size([1, 12])\n",
            "tensor([[0.5152, 0.0540, 0.6101, 0.9915],\n",
            "        [0.7878, 0.8535, 0.7366, 0.4386],\n",
            "        [0.0592, 0.4376, 0.5119, 0.3922]])\n",
            "torch.Size([3, 4])\n",
            "tensor([[0.5152, 0.0540],\n",
            "        [0.6101, 0.9915],\n",
            "        [0.7878, 0.8535],\n",
            "        [0.7366, 0.4386],\n",
            "        [0.0592, 0.4376],\n",
            "        [0.5119, 0.3922]])\n",
            "torch.Size([6, 2])\n",
            "tensor([0.5152, 0.0540, 0.6101, 0.9915, 0.7878, 0.8535, 0.7366, 0.4386, 0.0592,\n",
            "        0.4376, 0.5119, 0.3922])\n",
            "torch.Size([12])\n"
          ],
          "name": "stdout"
        }
      ]
    },
    {
      "cell_type": "code",
      "metadata": {
        "colab": {
          "base_uri": "https://localhost:8080/"
        },
        "id": "uA4QGtjNbKAZ",
        "outputId": "bafc8113-530b-4f5a-c703-d0eb1d8e1876"
      },
      "source": [
        "y=torch.tensor([[1,3,4],[4,5,6],[6,8,9],[17,18,23]])\r\n",
        "print(y.shape)\r\n",
        "y1=torch.reshape(y,(-1,))\r\n",
        "print(y1.shape)"
      ],
      "execution_count": null,
      "outputs": [
        {
          "output_type": "stream",
          "text": [
            "torch.Size([4, 3])\n",
            "torch.Size([12])\n"
          ],
          "name": "stdout"
        }
      ]
    },
    {
      "cell_type": "code",
      "metadata": {
        "colab": {
          "base_uri": "https://localhost:8080/"
        },
        "id": "bGEAQs2akMXf",
        "outputId": "df3e55cf-0d49-4066-8b15-5b7b48ea8a3d"
      },
      "source": [
        "# squeeze in pytorch to reduce diemsnion\r\n",
        "import torch\r\n",
        "x=torch.randn(1,10,20)\r\n",
        "print(x.shape)\r\n",
        "xseq=torch.squeeze(x)\r\n",
        "print(xseq.shape)"
      ],
      "execution_count": null,
      "outputs": [
        {
          "output_type": "stream",
          "text": [
            "torch.Size([1, 10, 20])\n",
            "torch.Size([10, 20])\n"
          ],
          "name": "stdout"
        }
      ]
    },
    {
      "cell_type": "code",
      "metadata": {
        "colab": {
          "base_uri": "https://localhost:8080/"
        },
        "id": "u_--mS6Ik6ke",
        "outputId": "85f36620-cfd6-4faf-cca4-667a67c68b4e"
      },
      "source": [
        "# unsqueeze in pytorch to increase diemsnion\r\n",
        "import torch\r\n",
        "x=torch.randn(1,10,20)\r\n",
        "print(x.shape)\r\n",
        "xuseq=torch.unsqueeze(x,dim=1)\r\n",
        "print(xuseq.shape)"
      ],
      "execution_count": null,
      "outputs": [
        {
          "output_type": "stream",
          "text": [
            "torch.Size([1, 10, 20])\n",
            "torch.Size([1, 1, 10, 20])\n"
          ],
          "name": "stdout"
        }
      ]
    },
    {
      "cell_type": "code",
      "metadata": {
        "colab": {
          "base_uri": "https://localhost:8080/"
        },
        "id": "0RUtSUmulK1S",
        "outputId": "873aa9ec-617e-48ff-e680-1abd33d37aa9"
      },
      "source": [
        "# stack two tensors\r\n",
        "t1=torch.rand(5)\r\n",
        "t2=torch.ones(5)\r\n",
        "ts=torch.stack((t1,t2))\r\n",
        "print(ts)\r\n",
        "print(ts.shape)"
      ],
      "execution_count": null,
      "outputs": [
        {
          "output_type": "stream",
          "text": [
            "tensor([[0.8965, 0.0918, 0.4821, 0.8499, 0.4759],\n",
            "        [1.0000, 1.0000, 1.0000, 1.0000, 1.0000]])\n",
            "torch.Size([2, 5])\n"
          ],
          "name": "stdout"
        }
      ]
    },
    {
      "cell_type": "code",
      "metadata": {
        "colab": {
          "base_uri": "https://localhost:8080/"
        },
        "id": "JCZzDDgoln_p",
        "outputId": "beda3416-ba60-474a-f412-a452f591b975"
      },
      "source": [
        "# stack two tensors in vertically\r\n",
        "t1=torch.rand(10)\r\n",
        "t2=torch.ones(10)\r\n",
        "tsv=torch.vstack((t1,t2))\r\n",
        "print(tsv)\r\n",
        "print(tsv.shape)"
      ],
      "execution_count": null,
      "outputs": [
        {
          "output_type": "stream",
          "text": [
            "tensor([[0.5035, 0.7534, 0.7513, 0.0312, 0.0818, 0.1972, 0.9045, 0.0037, 0.7011,\n",
            "         0.5736],\n",
            "        [1.0000, 1.0000, 1.0000, 1.0000, 1.0000, 1.0000, 1.0000, 1.0000, 1.0000,\n",
            "         1.0000]])\n",
            "torch.Size([2, 10])\n"
          ],
          "name": "stdout"
        }
      ]
    },
    {
      "cell_type": "code",
      "metadata": {
        "colab": {
          "base_uri": "https://localhost:8080/"
        },
        "id": "L_NrYbSPlvt-",
        "outputId": "edb32adc-73b7-4534-be39-2cbd5e243d59"
      },
      "source": [
        "# stack two  in horizontally\r\n",
        "t1=torch.rand(10)\r\n",
        "t2=torch.ones(10)\r\n",
        "tsh=torch.hstack((t1,t2))\r\n",
        "print(tsh)\r\n",
        "print(tsh.shape)"
      ],
      "execution_count": null,
      "outputs": [
        {
          "output_type": "stream",
          "text": [
            "tensor([0.0628, 0.7914, 0.1757, 0.0529, 0.8150, 0.6554, 0.0191, 0.8422, 0.0205,\n",
            "        0.1858, 1.0000, 1.0000, 1.0000, 1.0000, 1.0000, 1.0000, 1.0000, 1.0000,\n",
            "        1.0000, 1.0000])\n",
            "torch.Size([20])\n"
          ],
          "name": "stdout"
        }
      ]
    },
    {
      "cell_type": "code",
      "metadata": {
        "colab": {
          "base_uri": "https://localhost:8080/"
        },
        "id": "USKEy6yImA8P",
        "outputId": "ecb0353c-3c99-4fc2-ac49-7d47fa1c211c"
      },
      "source": [
        "# transpose diemsnion using different dimension\r\n",
        "z=torch.rand(3,5,10)\r\n",
        "print(z.shape)\r\n",
        "zt=torch.transpose(z,1,2)\r\n",
        "print(zt.shape)"
      ],
      "execution_count": null,
      "outputs": [
        {
          "output_type": "stream",
          "text": [
            "torch.Size([3, 5, 10])\n",
            "torch.Size([3, 10, 5])\n"
          ],
          "name": "stdout"
        }
      ]
    },
    {
      "cell_type": "code",
      "metadata": {
        "colab": {
          "base_uri": "https://localhost:8080/"
        },
        "id": "kIcF0DPHmujd",
        "outputId": "14b7f57a-03fa-4009-d269-0a2af540d90c"
      },
      "source": [
        "# transpose diemsnion using different dimension\r\n",
        "z=torch.rand(5,10)\r\n",
        "print(z.shape)\r\n",
        "zt=torch.t(z)\r\n",
        "print(zt.shape)"
      ],
      "execution_count": null,
      "outputs": [
        {
          "output_type": "stream",
          "text": [
            "torch.Size([5, 10])\n",
            "torch.Size([10, 5])\n"
          ],
          "name": "stdout"
        }
      ]
    },
    {
      "cell_type": "markdown",
      "metadata": {
        "id": "6InjIQbS_N6S"
      },
      "source": [
        "**Reduction Ops**\r\n",
        "\r\n",
        "**argmax**\r\n",
        "\r\n",
        "Returns the indices of the maximum value of all elements in the input tensor.\r\n",
        "\r\n",
        "**argmin**\r\n",
        "\r\n",
        "Returns the indices of the minimum value of all elements in the input tensor.\r\n",
        "\r\n",
        "**amax**\r\n",
        "\r\n",
        "Returns the maximum value of each slice of the input tensor in the given dimension(s) dim.\r\n",
        "\r\n",
        "**amin**\r\n",
        "\r\n",
        "Returns the minimum value of each slice of the input tensor in the given dimension(s) dim.\r\n",
        "\r\n",
        "**max**\r\n",
        "\r\n",
        "Returns the maximum value of all elements in the input tensor.\r\n",
        "\r\n",
        "**min**\r\n",
        "\r\n",
        "Returns the minimum value of all elements in the input tensor.\r\n",
        "\r\n",
        "**mean**\r\n",
        "\r\n",
        "Returns the mean value of all elements in the input tensor.\r\n",
        "\r\n",
        "**median**\r\n",
        "\r\n",
        "Returns the median value of all elements in the input tensor.\r\n",
        "\r\n",
        "**mode**\r\n",
        "\r\n",
        "Returns a namedtuple (values, indices) where values is the mode value of each row of the input tensor in the given dimension dim, i.e.\r\n",
        "\r\n",
        "**norm**\r\n",
        "\r\n",
        "Returns the matrix norm or vector norm of a given tensor.\r\n",
        "\r\n",
        "**prod**\r\n",
        "\r\n",
        "Returns the product of all elements in the input tensor.\r\n",
        "\r\n",
        "**std**\r\n",
        "\r\n",
        "Returns the standard-deviation of all elements in the input tensor.\r\n",
        "\r\n",
        "**std_mean**\r\n",
        "\r\n",
        "Returns the standard-deviation and mean of all elements in the input tensor.\r\n",
        "\r\n",
        "**sum**\r\n",
        "\r\n",
        "Returns the sum of all elements in the input tensor.\r\n",
        "\r\n",
        "**unique**\r\n",
        "\r\n",
        "Returns the unique elements of the input tensor.\r\n",
        "\r\n",
        "**var**\r\n",
        "\r\n",
        "Returns the variance of all elements in the input tensor.\r\n",
        "\r\n",
        "**var_mean**\r\n",
        "\r\n",
        "Returns the variance and mean of all elements in the input tensor.\r\n",
        "\r\n",
        "**count_nonzero**\r\n",
        "\r\n",
        "Counts the number of non-zero values in the tensor input along the given dim."
      ]
    },
    {
      "cell_type": "code",
      "metadata": {
        "id": "EZNWhB6VAtKK",
        "colab": {
          "base_uri": "https://localhost:8080/"
        },
        "outputId": "db0016d2-563a-4024-b21b-7195bce260b9"
      },
      "source": [
        "#argmax \r\n",
        "#Returns the indices of the maximum value of all elements in the input tensor.\r\n",
        "import torch\r\n",
        "t=torch.randn(3,4)\r\n",
        "print(t)\r\n",
        "targ=torch.argmax(t) # get the index of maximum value\r\n",
        "print(targ)"
      ],
      "execution_count": null,
      "outputs": [
        {
          "output_type": "stream",
          "text": [
            "tensor([[-0.3729,  0.1159, -0.1202,  1.6675],\n",
            "        [-1.2227,  0.0171, -0.0381, -0.2619],\n",
            "        [ 1.7625,  0.1828, -1.1025,  0.6088]])\n",
            "tensor(8)\n"
          ],
          "name": "stdout"
        }
      ]
    },
    {
      "cell_type": "code",
      "metadata": {
        "colab": {
          "base_uri": "https://localhost:8080/"
        },
        "id": "epX5TY-rulIT",
        "outputId": "0838a5d2-c976-4bfd-f58e-5f36f691253c"
      },
      "source": [
        "#argmin \r\n",
        "#Returns the indices of the maximum value of all elements in the input tensor.\r\n",
        "import torch\r\n",
        "t=torch.randn(3,4)\r\n",
        "print(t)\r\n",
        "targm=torch.argmin(t) # get the index of minimum value\r\n",
        "print(targm)"
      ],
      "execution_count": null,
      "outputs": [
        {
          "output_type": "stream",
          "text": [
            "tensor([[-1.1419,  1.2887,  0.3504, -1.8382],\n",
            "        [ 0.3498,  0.6506,  0.3072, -1.2504],\n",
            "        [ 1.1490,  1.8750,  0.8094,  0.1909]])\n",
            "tensor(3)\n"
          ],
          "name": "stdout"
        }
      ]
    },
    {
      "cell_type": "code",
      "metadata": {
        "colab": {
          "base_uri": "https://localhost:8080/"
        },
        "id": "cvEdZ2s6uvM_",
        "outputId": "53c207ad-c97a-48e6-aaf1-3239f91a34d5"
      },
      "source": [
        "#argmin \r\n",
        "#Returns the indices of the maximum value of all elements in the input tensor.\r\n",
        "import torch\r\n",
        "t=torch.randn(3,4)\r\n",
        "print(t)\r\n",
        "targmax=torch.max(t) # get the maximum value\r\n",
        "print(targmax)"
      ],
      "execution_count": null,
      "outputs": [
        {
          "output_type": "stream",
          "text": [
            "tensor([[-1.0373, -2.0982,  1.2370,  0.4352],\n",
            "        [-0.4686,  1.2956,  0.9767, -0.5589],\n",
            "        [-1.1462, -0.9271, -1.0541,  1.0327]])\n",
            "tensor(1.2956)\n"
          ],
          "name": "stdout"
        }
      ]
    },
    {
      "cell_type": "code",
      "metadata": {
        "colab": {
          "base_uri": "https://localhost:8080/"
        },
        "id": "iEGTsV8jvd81",
        "outputId": "48000067-5221-418b-9fc4-ad70d2b023cb"
      },
      "source": [
        "import torch\r\n",
        "t=torch.randn(3,4)\r\n",
        "print(t)\r\n",
        "targmax,indexmax=torch.max(t,dim=0) # get the maximum value and index along columns\r\n",
        "print(targmax)\r\n",
        "print(indexmax)"
      ],
      "execution_count": null,
      "outputs": [
        {
          "output_type": "stream",
          "text": [
            "tensor([[ 0.5087,  0.6886, -1.7691, -1.3141],\n",
            "        [ 0.0771,  0.7158,  0.6958, -0.7172],\n",
            "        [ 0.5942,  0.7958,  1.0333,  0.5869]])\n",
            "tensor([0.5942, 0.7958, 1.0333, 0.5869])\n",
            "tensor([2, 2, 2, 2])\n"
          ],
          "name": "stdout"
        }
      ]
    },
    {
      "cell_type": "code",
      "metadata": {
        "colab": {
          "base_uri": "https://localhost:8080/"
        },
        "id": "0hxX4aRZv1yM",
        "outputId": "613aab23-72b1-4db9-8eed-be04cd508ca4"
      },
      "source": [
        "t=torch.randn(3,4)\r\n",
        "print(t)\r\n",
        "targmax,indexmax=torch.max(t,dim=1) # get the maximum value and index along rows\r\n",
        "print(targmax)\r\n",
        "print(indexmax)"
      ],
      "execution_count": null,
      "outputs": [
        {
          "output_type": "stream",
          "text": [
            "tensor([[ 0.1326, -1.2795,  1.0979,  0.6574],\n",
            "        [-1.6141, -0.8489,  0.0714, -0.5087],\n",
            "        [-0.2730, -0.0967,  1.4936,  3.2443]])\n",
            "tensor([1.0979, 0.0714, 3.2443])\n",
            "tensor([2, 2, 3])\n"
          ],
          "name": "stdout"
        }
      ]
    },
    {
      "cell_type": "code",
      "metadata": {
        "colab": {
          "base_uri": "https://localhost:8080/"
        },
        "id": "ae6jhwhtwKkc",
        "outputId": "0437e2d9-b858-4ba1-e41e-292dc8cdf0d2"
      },
      "source": [
        "t=torch.randn(3,4)\r\n",
        "print(t)\r\n",
        "targmax=torch.amax(t,dim=1) # get the maximum value along rows\r\n",
        "print(targmax)"
      ],
      "execution_count": null,
      "outputs": [
        {
          "output_type": "stream",
          "text": [
            "tensor([[-0.9363,  0.8730,  1.2600, -0.2754],\n",
            "        [-1.7859,  0.7674,  0.6842,  0.4741],\n",
            "        [ 0.5843, -0.9659,  0.1574, -0.6792]])\n",
            "tensor([1.2600, 0.7674, 0.5843])\n"
          ],
          "name": "stdout"
        }
      ]
    },
    {
      "cell_type": "code",
      "metadata": {
        "colab": {
          "base_uri": "https://localhost:8080/"
        },
        "id": "iy1j_Ts-wvp1",
        "outputId": "26b4296b-2429-4779-9f99-3a4404278d1c"
      },
      "source": [
        "t=torch.randn(3,4)\r\n",
        "print(t)\r\n",
        "targmax=torch.amax(t,dim=0) # get the maximum value along columns\r\n",
        "print(targmax)"
      ],
      "execution_count": null,
      "outputs": [
        {
          "output_type": "stream",
          "text": [
            "tensor([[-1.7248,  2.2064, -0.0134, -1.1139],\n",
            "        [ 0.8638,  1.3190, -0.4403, -0.4196],\n",
            "        [-0.0990,  0.0231,  0.1307, -0.4616]])\n",
            "tensor([ 0.8638,  2.2064,  0.1307, -0.4196])\n"
          ],
          "name": "stdout"
        }
      ]
    },
    {
      "cell_type": "code",
      "metadata": {
        "colab": {
          "base_uri": "https://localhost:8080/"
        },
        "id": "-pCpX6EfwmvN",
        "outputId": "59f6815b-0af9-413e-fff3-1707ea25bc48"
      },
      "source": [
        "t=torch.randn(3,4)\r\n",
        "print(t)\r\n",
        "targmax=torch.amin(t,dim=1) # get the minimum value along rows\r\n",
        "print(targmax)"
      ],
      "execution_count": null,
      "outputs": [
        {
          "output_type": "stream",
          "text": [
            "tensor([[-0.9172,  0.6403, -0.4964,  1.6657],\n",
            "        [ 1.0856,  0.1106,  0.5485, -0.7406],\n",
            "        [-1.7060,  0.6125,  1.8470,  2.2846]])\n",
            "tensor([-0.9172, -0.7406, -1.7060])\n"
          ],
          "name": "stdout"
        }
      ]
    },
    {
      "cell_type": "code",
      "metadata": {
        "colab": {
          "base_uri": "https://localhost:8080/"
        },
        "id": "p9-LmSH9w2hS",
        "outputId": "aa20fdb0-119b-47c5-8955-2725cb1017e8"
      },
      "source": [
        "t=torch.randn(3,4)\r\n",
        "print(t)\r\n",
        "targmax=torch.amin(t,dim=0) # get the minimum value along columns\r\n",
        "print(targmax)"
      ],
      "execution_count": null,
      "outputs": [
        {
          "output_type": "stream",
          "text": [
            "tensor([[ 1.3067, -2.0033, -1.8034, -0.4414],\n",
            "        [ 0.3724,  1.3939,  0.8970, -1.4501],\n",
            "        [-1.1425,  1.4001,  0.2971,  0.3405]])\n",
            "tensor([-1.1425, -2.0033, -1.8034, -1.4501])\n"
          ],
          "name": "stdout"
        }
      ]
    },
    {
      "cell_type": "code",
      "metadata": {
        "colab": {
          "base_uri": "https://localhost:8080/"
        },
        "id": "wNjxfOXExFap",
        "outputId": "efd972d1-8fa8-47cb-f734-7f75cc836052"
      },
      "source": [
        "t=torch.randn(3,4)\r\n",
        "print(t)\r\n",
        "tmean=torch.randn(3,4).mean()\r\n",
        "tsum=torch.randn(3,4).sum()\r\n",
        "tstd=torch.randn(3,4).std()\r\n",
        "tmode=torch.randn(3,4).mode()\r\n",
        "tvar=torch.randn(3,4).var()\r\n",
        "tcount=torch.count_nonzero(t) # compute non zeros values\r\n",
        "tcountr=torch.count_nonzero(t,dim=1) # non zeros value along rows\r\n",
        "tcountc=torch.count_nonzero(t,dim=0) # non zeros values along cloumns\r\n",
        "tunque=torch.unique(t) # check unique values in torch tensor\r\n",
        "print(tmean)\r\n",
        "print(tsum)\r\n",
        "print(tstd)\r\n",
        "print(tmode)\r\n",
        "print(tvar)\r\n",
        "print(tcount)\r\n",
        "print(tcountr)\r\n",
        "print(tcountc)\r\n",
        "print(tunque)"
      ],
      "execution_count": null,
      "outputs": [
        {
          "output_type": "stream",
          "text": [
            "tensor([[ 1.2431,  0.8653, -0.3054,  0.9072],\n",
            "        [-1.8067, -1.2869,  1.1266,  0.0823],\n",
            "        [-1.6919,  1.2077,  0.5265, -1.2120]])\n",
            "tensor(-0.1930)\n",
            "tensor(-2.9284)\n",
            "tensor(0.7634)\n",
            "torch.return_types.mode(\n",
            "values=tensor([-0.3517, -1.0964, -1.4022]),\n",
            "indices=tensor([1, 3, 1]))\n",
            "tensor(1.1269)\n",
            "tensor(12)\n",
            "tensor([4, 4, 4])\n",
            "tensor([3, 3, 3, 3])\n",
            "tensor([-1.8067, -1.6919, -1.2869, -1.2120, -0.3054,  0.0823,  0.5265,  0.8653,\n",
            "         0.9072,  1.1266,  1.2077,  1.2431])\n"
          ],
          "name": "stdout"
        }
      ]
    },
    {
      "cell_type": "markdown",
      "metadata": {
        "id": "VBTCK3X0Bc6c"
      },
      "source": [
        "**Math operations**\r\n",
        "\r\n",
        "**Pointwise Ops**\r\n",
        "\r\n",
        "**abs**\r\n",
        "\r\n",
        "Computes the absolute value of each element in input.\r\n",
        "\r\n",
        "**absolute**\r\n",
        "\r\n",
        "Alias for torch.abs()\r\n",
        "\r\n",
        "**add**\r\n",
        "\r\n",
        "Adds the scalar other to each element of the input input and returns a new resulting tensor.\r\n",
        "\r\n",
        "**div**\r\n",
        "\r\n",
        "Divides each element of the input input by the corresponding element of other.\r\n",
        "divide\r\n",
        "\r\n",
        "Alias for torch.div().\r\n",
        "\r\n",
        "**mul**\r\n",
        "\r\n",
        "Multiplies each element of the input input with the scalar other and returns a new resulting tensor.\r\n",
        "\r\n",
        "multiply\r\n",
        "**bold text**\r\n",
        "Alias for torch.mul().\r\n",
        "\r\n",
        "**sub**\r\n",
        "\r\n",
        "Subtracts other, scaled by alpha, from input.\r\n",
        "\r\n",
        "**subtract**\r\n",
        "\r\n",
        "Alias for torch.sub().\r\n",
        "\r\n",
        "\r\n",
        "\r\n",
        "**clamp**\r\n",
        "\r\n",
        "Clamp all elements in input into the range [ min, max ] and return a resulting tensor:\r\n",
        "\r\n",
        "**clip**\r\n",
        "\r\n",
        "Alias for torch.clamp().\r\n",
        "\r\n",
        "**exp**\r\n",
        "\r\n",
        "Returns a new tensor with the exponential of the elements of the input tensor input.\r\n",
        "\r\n",
        "**ceil**\r\n",
        "\r\n",
        "Returns a new tensor with the ceil of the elements of input, the smallest integer greater than or equal to each element.\r\n",
        "\r\n",
        "**floor**\r\n",
        "\r\n",
        "Returns a new tensor with the floor of the elements of input, the largest integer less than or equal to each element.\r\n",
        "\r\n",
        "**pow**\r\n",
        "\r\n",
        "Takes the power of each element in input with exponent and returns a tensor with the result.\r\n",
        "\r\n",
        "**sqrt**\r\n",
        "\r\n",
        "Returns a new tensor with the square-root of the elements of input.\r\n",
        "\r\n",
        "**round**\r\n",
        "\r\n",
        "Returns a new tensor with each of the elements of input rounded to the closest integer.\r\n",
        "\r\n"
      ]
    },
    {
      "cell_type": "code",
      "metadata": {
        "id": "RapwxTa7DRYq",
        "colab": {
          "base_uri": "https://localhost:8080/"
        },
        "outputId": "80cf0696-cab7-46c8-e173-7b558c987e65"
      },
      "source": [
        "t=torch.randn(3,4)\r\n",
        "abst=torch.abs(t)\r\n",
        "print(abst)"
      ],
      "execution_count": null,
      "outputs": [
        {
          "output_type": "stream",
          "text": [
            "tensor([[0.8168, 1.4310, 1.8034, 1.3966],\n",
            "        [0.4173, 1.3947, 2.1197, 1.0831],\n",
            "        [0.3468, 0.1536, 1.3229, 0.0438]])\n"
          ],
          "name": "stdout"
        }
      ]
    },
    {
      "cell_type": "code",
      "metadata": {
        "colab": {
          "base_uri": "https://localhost:8080/"
        },
        "id": "7evUIxHQ1Ct6",
        "outputId": "a4d457c4-c7ac-45aa-9b2e-1c9083eac565"
      },
      "source": [
        "t=torch.randn(3,4)\r\n",
        "texp=torch.exp(t)\r\n",
        "tciel=torch.ceil(t)\r\n",
        "tfloor=torch.floor(t)\r\n",
        "print(texp)\r\n",
        "print(tciel)\r\n",
        "print(tfloor)"
      ],
      "execution_count": null,
      "outputs": [
        {
          "output_type": "stream",
          "text": [
            "tensor([[4.4054, 1.3841, 1.2024, 2.8324],\n",
            "        [0.6610, 0.6376, 0.4153, 0.6705],\n",
            "        [0.8619, 3.2818, 0.8822, 2.3641]])\n",
            "tensor([[2., 1., 1., 2.],\n",
            "        [-0., -0., -0., -0.],\n",
            "        [-0., 2., -0., 1.]])\n",
            "tensor([[ 1.,  0.,  0.,  1.],\n",
            "        [-1., -1., -1., -1.],\n",
            "        [-1.,  1., -1.,  0.]])\n"
          ],
          "name": "stdout"
        }
      ]
    },
    {
      "cell_type": "code",
      "metadata": {
        "colab": {
          "base_uri": "https://localhost:8080/"
        },
        "id": "A5_op2Sh0E1G",
        "outputId": "5c4f3ec2-920a-4c69-a30c-92c4ed4ba9ab"
      },
      "source": [
        "t1=torch.tensor([[1,3],[2,3],[5,6]])\r\n",
        "t2=torch.tensor([[3,1],[4,6],[2,3]])\r\n",
        "addt=torch.add(t1,t2)\r\n",
        "subt=torch.sub(t1,t2)\r\n",
        "divt=torch.div(t1,t2)\r\n",
        "mult=torch.mul(t1,t2)\r\n",
        "print(addt)\r\n",
        "print(subt)\r\n",
        "print(divt)\r\n",
        "print(mult)"
      ],
      "execution_count": null,
      "outputs": [
        {
          "output_type": "stream",
          "text": [
            "tensor([[4, 4],\n",
            "        [6, 9],\n",
            "        [7, 9]])\n",
            "tensor([[-2,  2],\n",
            "        [-2, -3],\n",
            "        [ 3,  3]])\n",
            "tensor([[0.3333, 3.0000],\n",
            "        [0.5000, 0.5000],\n",
            "        [2.5000, 2.0000]])\n",
            "tensor([[ 3,  3],\n",
            "        [ 8, 18],\n",
            "        [10, 18]])\n"
          ],
          "name": "stdout"
        }
      ]
    },
    {
      "cell_type": "markdown",
      "metadata": {
        "id": "KgOyxyDrDpy4"
      },
      "source": [
        "**Random sampling**\r\n",
        "\r\n",
        "seed\r\n",
        "**bold text**\r\n",
        "Sets the seed for generating random numbers to a non-deterministic random number.\r\n",
        "\r\n",
        "**manual_seed**\r\n",
        "\r\n",
        "Sets the seed for generating random numbers.\r\n",
        "\r\n",
        "**initial_seed**\r\n",
        "\r\n",
        "Returns the initial seed for generating random numbers as a Python long.\r\n",
        "\r\n",
        "**get_rng_state**\r\n",
        "\r\n",
        "Returns the random number generator state as a torch.ByteTensor.\r\n",
        "\r\n",
        "**set_rng_state**\r\n",
        "\r\n",
        "Sets the random number generator state.\r\n"
      ]
    },
    {
      "cell_type": "code",
      "metadata": {
        "id": "CR07xBklD0PD"
      },
      "source": [
        ""
      ],
      "execution_count": null,
      "outputs": []
    },
    {
      "cell_type": "markdown",
      "metadata": {
        "id": "tYlrkiUdD0vU"
      },
      "source": [
        "**torch.default_generator Returns the default CPU torch.Generator**\r\n",
        "\r\n",
        "**bernoulli**\r\n",
        "\r\n",
        "Draws binary random numbers (0 or 1) from a Bernoulli distribution.\r\n",
        "\r\n",
        "**multinomial**\r\n",
        "\r\n",
        "Returns a tensor where each row contains num_samples indices sampled from the multinomial probability distribution located in the corresponding row of tensor input.\r\n",
        "\r\n",
        "**normal**\r\n",
        "\r\n",
        "Returns a tensor of random numbers drawn from separate normal distributions whose mean and standard deviation are given.\r\n",
        "\r\n",
        "**poisson**\r\n",
        "\r\n",
        "Returns a tensor of the same size as input with each element sampled from a Poisson distribution with rate parameter given by the corresponding element in input i.e.,\r\n",
        "\r\n",
        "**rand**\r\n",
        "\r\n",
        "Returns a tensor filled with random numbers from a uniform distribution on the interval [0, 1)[0,1)\r\n",
        "\r\n",
        "**rand_like**\r\n",
        "\r\n",
        "Returns a tensor with the same size as input that is filled with random numbers from a uniform distribution on the interval [0, 1)[0,1) .\r\n",
        "\r\n",
        "**randint**\r\n",
        "\r\n",
        "Returns a tensor filled with random integers generated uniformly between low (inclusive) and high (exclusive).\r\n",
        "\r\n",
        "**randint_like**\r\n",
        "\r\n",
        "Returns a tensor with the same shape as Tensor input filled with random integers generated uniformly between low (inclusive) and high (exclusive).\r\n",
        "\r\n",
        "**randn**\r\n",
        "\r\n",
        "Returns a tensor filled with random numbers from a normal distribution with mean 0 and variance 1 (also called the standard normal distribution).\r\n",
        "\r\n",
        "**randn_like**\r\n",
        "\r\n",
        "Returns a tensor with the same size as input that is filled with random numbers from a normal distribution with mean 0 and variance 1.\r\n",
        "\r\n",
        "**randperm**\r\n",
        "\r\n",
        "Returns a random permutation of integers from 0 to n - 1.\r\n",
        "\r\n"
      ]
    },
    {
      "cell_type": "code",
      "metadata": {
        "colab": {
          "base_uri": "https://localhost:8080/"
        },
        "id": "W_nPDyiP2ew4",
        "outputId": "7ae0474c-77c4-4831-9327-2f386659a4bf"
      },
      "source": [
        "a=torch.ones(5,5)\r\n",
        "bt=torch.bernoulli(a)\r\n",
        "print(bt)\r\n",
        "a1 = torch.empty(3, 3).uniform_(0, 1)  # generate a uniform random \r\n",
        "bt1=torch.bernoulli(a1)\r\n",
        "print(bt1)"
      ],
      "execution_count": null,
      "outputs": [
        {
          "output_type": "stream",
          "text": [
            "tensor([[1., 1., 1., 1., 1.],\n",
            "        [1., 1., 1., 1., 1.],\n",
            "        [1., 1., 1., 1., 1.],\n",
            "        [1., 1., 1., 1., 1.],\n",
            "        [1., 1., 1., 1., 1.]])\n",
            "tensor([[0., 0., 0.],\n",
            "        [0., 0., 1.],\n",
            "        [0., 0., 1.]])\n"
          ],
          "name": "stdout"
        }
      ]
    },
    {
      "cell_type": "code",
      "metadata": {
        "colab": {
          "base_uri": "https://localhost:8080/"
        },
        "id": "gWumv-TL3NB1",
        "outputId": "5325f0fd-857c-4364-d040-009534c20b8e"
      },
      "source": [
        "a1 = torch.empty(3, 3).uniform_(0, 1)  # generate a uniform random \r\n",
        "bm1=torch.multinomial(a1,2)\r\n",
        "print(bm1)"
      ],
      "execution_count": null,
      "outputs": [
        {
          "output_type": "stream",
          "text": [
            "tensor([[1, 0],\n",
            "        [0, 1],\n",
            "        [2, 1]])\n"
          ],
          "name": "stdout"
        }
      ]
    },
    {
      "cell_type": "code",
      "metadata": {
        "colab": {
          "base_uri": "https://localhost:8080/"
        },
        "id": "gDxcu-3R6OIf",
        "outputId": "0b8abbf7-dfc9-4d35-88d9-d4c2a47bf7f3"
      },
      "source": [
        "import torch\r\n",
        "inpt=torch.rand(21,21)\r\n",
        "print(inpt.shape) #check shape\r\n",
        "print(inpt.size()) # check size\r\n",
        "print(inpt.ndimension()) # how many dimensions in torch tensor"
      ],
      "execution_count": null,
      "outputs": [
        {
          "output_type": "stream",
          "text": [
            "torch.Size([21, 21])\n",
            "torch.Size([21, 21])\n",
            "2\n"
          ],
          "name": "stdout"
        }
      ]
    },
    {
      "cell_type": "code",
      "metadata": {
        "colab": {
          "base_uri": "https://localhost:8080/"
        },
        "id": "9v0eLqxE7Qi8",
        "outputId": "52f30c27-6ebe-4d26-c9b9-9059edbe6737"
      },
      "source": [
        "import torch\r\n",
        "inpt=torch.randn(21,21)\r\n",
        "#print(inpt)\r\n",
        "print(inpt.shape) #check shape\r\n",
        "print(inpt.size()) # check size\r\n",
        "print(inpt.ndimension()) # how many dimensions in torch tensor"
      ],
      "execution_count": null,
      "outputs": [
        {
          "output_type": "stream",
          "text": [
            "torch.Size([21, 21])\n",
            "torch.Size([21, 21])\n",
            "2\n"
          ],
          "name": "stdout"
        }
      ]
    },
    {
      "cell_type": "code",
      "metadata": {
        "colab": {
          "base_uri": "https://localhost:8080/"
        },
        "id": "-yEW_W1w7ct2",
        "outputId": "45c6761c-bbcf-4b38-eef4-5220a7dfad23"
      },
      "source": [
        "import torch\r\n",
        "inpt=torch.empty(2,2) # can use empty for random function\r\n",
        "print(inpt)\r\n",
        "print(inpt.shape) #check shape\r\n",
        "print(inpt.size()) # check size\r\n",
        "print(inpt.ndimension()) # how many dimensions in torch tensor"
      ],
      "execution_count": null,
      "outputs": [
        {
          "output_type": "stream",
          "text": [
            "tensor([[5.3598e-36, 0.0000e+00],\n",
            "        [1.5975e-43, 1.3873e-43]])\n",
            "torch.Size([2, 2])\n",
            "torch.Size([2, 2])\n",
            "2\n"
          ],
          "name": "stdout"
        }
      ]
    },
    {
      "cell_type": "code",
      "metadata": {
        "id": "W7bJZlfoeP-J"
      },
      "source": [
        ""
      ],
      "execution_count": null,
      "outputs": []
    },
    {
      "cell_type": "code",
      "metadata": {
        "id": "7FOaDJRNeQBA"
      },
      "source": [
        ""
      ],
      "execution_count": null,
      "outputs": []
    },
    {
      "cell_type": "markdown",
      "metadata": {
        "id": "VTug2PqteQok"
      },
      "source": [
        "**TENSOR VIEWS**\r\n",
        "\r\n",
        "PyTorch allows a tensor to be a View of an existing tensor. \r\n",
        "\r\n",
        "View tensor shares the same underlying data with its base tensor. Supporting View avoids explicit data copy, \r\n",
        "\r\n",
        "thus allows us to do fast and **memory efficient reshaping, slicing and element-wise operations.**"
      ]
    },
    {
      "cell_type": "markdown",
      "metadata": {
        "id": "tblnzE8vepRZ"
      },
      "source": [
        "**For reference, here’s a full list of view ops in PyTorch:**\r\n",
        "https://pytorch.org/docs/stable/tensor_view.html\r\n",
        "\r\n",
        "Basic slicing and indexing op, e.g. tensor[0, 2:, 1:7:2] returns a view of base tensor, see note below.\r\n",
        "\r\n",
        "as_strided(), \r\n",
        "\r\n",
        "**detach()**\r\n",
        "\r\n",
        "diagonal()\r\n",
        "\r\n",
        "expand()\r\n",
        "\r\n",
        "expand_as()\r\n",
        "\r\n",
        "**movedim()**\r\n",
        "\r\n",
        "narrow()\r\n",
        "\r\n",
        "**permute()**\r\n",
        "\r\n",
        "select()\r\n",
        "\r\n",
        "**squeeze()**\r\n",
        "\r\n",
        "**transpose()** \r\n",
        "\r\n",
        "t()\r\n",
        "\r\n",
        "T\r\n",
        "\r\n",
        "real\r\n",
        "\r\n",
        "imag\r\n",
        "\r\n",
        "view_as_real()\r\n",
        "\r\n",
        "view_as_imag()\r\n",
        "\r\n",
        "unflatten()\r\n",
        "\r\n",
        "unfold()\r\n",
        "\r\n",
        "**unsqueeze()**\r\n",
        "\r\n",
        "**view()**\r\n",
        "\r\n",
        "view_as()\r\n",
        "\r\n",
        "unbind()\r\n",
        "\r\n",
        "split()\r\n",
        "\r\n",
        "split_with_sizes()\r\n",
        "\r\n",
        "chunk()\r\n",
        "\r\n",
        "indices() (sparse tensor only)\r\n",
        "\r\n",
        "values() (sparse tensor only) \r\n"
      ]
    },
    {
      "cell_type": "code",
      "metadata": {
        "id": "NkHnM7y0eQD7",
        "colab": {
          "base_uri": "https://localhost:8080/"
        },
        "outputId": "a1b1b216-b872-4808-edcd-7a16f69739f0"
      },
      "source": [
        "x = torch.tensor([[1], [2], [3]])\r\n",
        "t1=x.expand(3,3)\r\n",
        "print(t1)"
      ],
      "execution_count": null,
      "outputs": [
        {
          "output_type": "stream",
          "text": [
            "tensor([[1, 1, 1],\n",
            "        [2, 2, 2],\n",
            "        [3, 3, 3]])\n"
          ],
          "name": "stdout"
        }
      ]
    },
    {
      "cell_type": "code",
      "metadata": {
        "colab": {
          "base_uri": "https://localhost:8080/"
        },
        "id": "rkRIYPGOJ5v5",
        "outputId": "869ef2f7-ad96-4252-99a8-92a1c3393cbc"
      },
      "source": [
        "import torch\r\n",
        "x=torch.randn(4,4)\r\n",
        "y=x.view(16)\r\n",
        "print(y)\r\n",
        "print(y.shape)\r\n",
        "z=x.view(-1,8)\r\n",
        "print(z.shape)"
      ],
      "execution_count": 8,
      "outputs": [
        {
          "output_type": "stream",
          "text": [
            "tensor([-1.5730,  0.1533, -1.4589,  1.8699, -0.5129,  0.2044, -0.6718, -0.0992,\n",
            "         0.6227,  0.7371,  1.4240,  0.5871,  0.6675, -1.0378, -0.2390,  3.0997])\n",
            "torch.Size([16])\n",
            "torch.Size([2, 8])\n"
          ],
          "name": "stdout"
        }
      ]
    },
    {
      "cell_type": "code",
      "metadata": {
        "colab": {
          "base_uri": "https://localhost:8080/"
        },
        "id": "1-RqkwvgKxJY",
        "outputId": "7cde9909-7785-4a1a-e1c3-54259ceedcf3"
      },
      "source": [
        "a = torch.randn(1, 2, 3, 4)\r\n",
        "print(a.shape)\r\n",
        "b=a.transpose(1,2) # Swaps 2nd and 3rd dimension\r\n",
        "print(b.shape)\r\n",
        "c=b.view(1,3,2,4) # does not chnage tensor layeout in memory\r\n",
        "print(c.shape)\r\n",
        "print(torch.equal(b, c))"
      ],
      "execution_count": 11,
      "outputs": [
        {
          "output_type": "stream",
          "text": [
            "torch.Size([1, 2, 3, 4])\n",
            "torch.Size([1, 3, 2, 4])\n",
            "torch.Size([1, 3, 2, 4])\n",
            "True\n"
          ],
          "name": "stdout"
        }
      ]
    },
    {
      "cell_type": "code",
      "metadata": {
        "colab": {
          "base_uri": "https://localhost:8080/"
        },
        "id": "aPSye0ihLsRn",
        "outputId": "22f6260f-fb43-4906-ad63-d2e08705d57b"
      },
      "source": [
        "base_t=torch.tensor([[0,1],[2,3]])\r\n",
        "print(base_t.is_contiguous())\r\n",
        "t=base_t.transpose(0,1) #\r\n",
        "print(t.is_contiguous()) #View tensors might be non-contiguous.\r\n",
        "c = t.contiguous()\r\n",
        "print(c.is_contiguous())"
      ],
      "execution_count": 18,
      "outputs": [
        {
          "output_type": "stream",
          "text": [
            "True\n",
            "False\n",
            "True\n"
          ],
          "name": "stdout"
        }
      ]
    },
    {
      "cell_type": "code",
      "metadata": {
        "colab": {
          "base_uri": "https://localhost:8080/"
        },
        "id": "9jNogLFhMeD8",
        "outputId": "fe28e0df-eba9-4cb4-98d8-7c896c8094f2"
      },
      "source": [
        "base_t=torch.tensor([[0,1],[2,3],[5,4]])\r\n",
        "print(base_t.is_contiguous())\r\n",
        "t=base_t.view(-1,2) # two coulmns, all rows\r\n",
        "print(t)\r\n",
        "print(t.is_contiguous()) #View tensors is contiguous.\r\n",
        "#c = t.contiguous()\r\n",
        "#print(c.is_contiguous())\r\n",
        "t1=base_t.view(2,-1) # two rows, all columns\r\n",
        "print(t1.is_contiguous()) #View tensors is contiguous.\r\n",
        "print(t1)"
      ],
      "execution_count": 27,
      "outputs": [
        {
          "output_type": "stream",
          "text": [
            "True\n",
            "tensor([[0, 1],\n",
            "        [2, 3],\n",
            "        [5, 4]])\n",
            "True\n",
            "True\n",
            "tensor([[0, 1, 2],\n",
            "        [3, 5, 4]])\n"
          ],
          "name": "stdout"
        }
      ]
    },
    {
      "cell_type": "code",
      "metadata": {
        "colab": {
          "base_uri": "https://localhost:8080/"
        },
        "id": "cAT1BxIFObtQ",
        "outputId": "61e509f6-bb92-42cd-abbe-749639076713"
      },
      "source": [
        "x=torch.randn(5,4,3)\r\n",
        "print(x.is_contiguous())\r\n",
        "print(x.size())\r\n",
        "y=x.permute(2,0,1) # swap the diemsnion and memory is non-contiguous\r\n",
        "print(y.is_contiguous())\r\n",
        "print(y.size())\r\n",
        "y=x.permute(2,0,1) # swap the diemsnion \r\n",
        "y2=y.contiguous()\r\n",
        "print(y2.is_contiguous())"
      ],
      "execution_count": 34,
      "outputs": [
        {
          "output_type": "stream",
          "text": [
            "True\n",
            "torch.Size([5, 4, 3])\n",
            "False\n",
            "torch.Size([3, 5, 4])\n",
            "True\n"
          ],
          "name": "stdout"
        }
      ]
    }
  ]
}