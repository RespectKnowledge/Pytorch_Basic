{
  "nbformat": 4,
  "nbformat_minor": 0,
  "metadata": {
    "colab": {
      "name": "Logistic_Regression.ipynb",
      "provenance": [],
      "collapsed_sections": []
    },
    "kernelspec": {
      "name": "python3",
      "display_name": "Python 3"
    }
  },
  "cells": [
    {
      "cell_type": "code",
      "metadata": {
        "id": "i8Xz78b_DdoQ"
      },
      "source": [
        "# Logisitic Regression in pytorch\r\n",
        "import torch\r\n",
        "import torch.nn as nn\r\n",
        "import numpy as np\r\n",
        "from sklearn import datasets\r\n",
        "from sklearn.preprocessing import StandardScaler\r\n",
        "from sklearn.model_selection import train_test_split\r\n"
      ],
      "execution_count": 13,
      "outputs": []
    },
    {
      "cell_type": "code",
      "metadata": {
        "id": "dElcHKemWITt"
      },
      "source": [
        "# load dataset\r\n",
        "bc=datasets.load_breast_cancer()"
      ],
      "execution_count": 2,
      "outputs": []
    },
    {
      "cell_type": "code",
      "metadata": {
        "colab": {
          "base_uri": "https://localhost:8080/"
        },
        "id": "JD6Hy4EAWSai",
        "outputId": "74d12dff-45ac-4dd9-f2f6-fb8c980b6d3a"
      },
      "source": [
        "X,y=bc.data,bc.target\r\n",
        "n_samples,n_features=X.shape\r\n",
        "print(n_samples)\r\n",
        "print(n_features)\r\n",
        "print(y.shape)"
      ],
      "execution_count": 46,
      "outputs": [
        {
          "output_type": "stream",
          "text": [
            "569\n",
            "30\n",
            "(569,)\n"
          ],
          "name": "stdout"
        }
      ]
    },
    {
      "cell_type": "code",
      "metadata": {
        "colab": {
          "base_uri": "https://localhost:8080/"
        },
        "id": "s_cUDanLW7m0",
        "outputId": "2b7ed862-3345-4e82-957f-70934aaac477"
      },
      "source": [
        "X_train,X_test,y_train,y_test=train_test_split(X,y,test_size=0.2,random_state=1234)\r\n",
        "sc=StandardScaler()\r\n",
        "X_tarin=sc.fit_transform(X_train)\r\n",
        "X_test=sc.fit_transform(X_test)\r\n",
        "\r\n",
        "X_train=torch.from_numpy(X_train.astype(np.float32))\r\n",
        "X_test=torch.from_numpy(X_test.astype(np.float32))\r\n",
        "y_train=torch.from_numpy(y_train.astype(np.float32))\r\n",
        "y_test=torch.from_numpy(y_test.astype(np.float32))\r\n",
        "y_train1=y_train.view(y_train.shape[0],1)\r\n",
        "y_test1=y_test.view(y_test.shape[0],1)\r\n",
        "print(y_train1.shape)"
      ],
      "execution_count": 48,
      "outputs": [
        {
          "output_type": "stream",
          "text": [
            "torch.Size([455, 1])\n"
          ],
          "name": "stdout"
        }
      ]
    },
    {
      "cell_type": "code",
      "metadata": {
        "id": "MO-_jCqiay01"
      },
      "source": [
        "# define model\r\n",
        "import torch.nn.functional as F\r\n",
        "class losisticregression(nn.Module):\r\n",
        "  def __init__(self, n_features):\r\n",
        "    super(losisticregression,self).__init__()\r\n",
        "    self.l1=nn.Linear(n_features,1)\r\n",
        "\r\n",
        "  def forward(self,x):\r\n",
        "    x=F.relu(self.l1(x))\r\n",
        "    x=torch.sigmoid(x)\r\n",
        "    return x"
      ],
      "execution_count": 67,
      "outputs": []
    },
    {
      "cell_type": "code",
      "metadata": {
        "colab": {
          "base_uri": "https://localhost:8080/"
        },
        "id": "xFrLa-Zoe4BP",
        "outputId": "6d09e366-dc2f-48e5-bddd-87c87397a58f"
      },
      "source": [
        "model=losisticregression(n_features)\r\n",
        "print(model)"
      ],
      "execution_count": 68,
      "outputs": [
        {
          "output_type": "stream",
          "text": [
            "losisticregression(\n",
            "  (l1): Linear(in_features=30, out_features=1, bias=True)\n",
            ")\n"
          ],
          "name": "stdout"
        }
      ]
    },
    {
      "cell_type": "code",
      "metadata": {
        "colab": {
          "base_uri": "https://localhost:8080/"
        },
        "id": "uyNbM9HFfAP2",
        "outputId": "a64b198b-4ec0-475e-e56b-96f567d745b2"
      },
      "source": [
        "loss_f=nn.BCELoss()\r\n",
        "optimizer=torch.optim.SGD(model.parameters(),lr=0.01)\r\n",
        "n_iter=100\r\n",
        "for epoch in range(n_iter):\r\n",
        "  y_pred=model(X_train)\r\n",
        "  optimizer.zero_grad()\r\n",
        "  #print(y_pred.shape)\r\n",
        "  l=loss_f(y_pred,y_train1)\r\n",
        "  l.backward()\r\n",
        "  optimizer.step()\r\n",
        "  #optimizer.zero_grad()\r\n",
        "  if (epoch+1) % 10==0:\r\n",
        "    print(f\"epoch:{epoch+1}: loss:{l.item():.4f}\")\r\n",
        "with torch.no_grad():\r\n",
        "  y_predicted=model(X_test)\r\n",
        "  y_predicted_cs=y_predicted.round()\r\n",
        "  acc=y_predicted_cs.eq(y_test1).sum()/float(y_test.shape[0])\r\n",
        "  print(f\"accuracy:{acc:.4f}\")"
      ],
      "execution_count": 69,
      "outputs": [
        {
          "output_type": "stream",
          "text": [
            "epoch:10: loss:36.7033\n",
            "epoch:20: loss:36.7033\n",
            "epoch:30: loss:36.7033\n",
            "epoch:40: loss:36.7033\n",
            "epoch:50: loss:36.7033\n",
            "epoch:60: loss:36.7033\n",
            "epoch:70: loss:36.7033\n",
            "epoch:80: loss:36.7033\n",
            "epoch:90: loss:36.7033\n",
            "epoch:100: loss:36.7033\n",
            "accuracy:0.5351\n"
          ],
          "name": "stdout"
        }
      ]
    },
    {
      "cell_type": "code",
      "metadata": {
        "id": "XydH9_YzYUxt"
      },
      "source": [
        ""
      ],
      "execution_count": null,
      "outputs": []
    }
  ]
}