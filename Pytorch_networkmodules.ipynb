{
  "nbformat": 4,
  "nbformat_minor": 0,
  "metadata": {
    "colab": {
      "name": "Pytorch_networkmodules.ipynb",
      "provenance": [],
      "collapsed_sections": []
    },
    "kernelspec": {
      "name": "python3",
      "display_name": "Python 3"
    },
    "accelerator": "GPU"
  },
  "cells": [
    {
      "cell_type": "code",
      "metadata": {
        "colab": {
          "base_uri": "https://localhost:8080/"
        },
        "id": "qVcpOs6-m7DA",
        "outputId": "70d4c828-a58d-4354-d201-0120c46b87ca"
      },
      "source": [
        "from google.colab import drive\r\n",
        "drive.mount('/content/drive')"
      ],
      "execution_count": 1,
      "outputs": [
        {
          "output_type": "stream",
          "text": [
            "Mounted at /content/drive\n"
          ],
          "name": "stdout"
        }
      ]
    },
    {
      "cell_type": "code",
      "metadata": {
        "colab": {
          "base_uri": "https://localhost:8080/"
        },
        "id": "6-FT96B-nJvZ",
        "outputId": "058ff968-eb52-4d2c-8521-c9fd9a9985e2"
      },
      "source": [
        "cd /content/drive/MyDrive/"
      ],
      "execution_count": 2,
      "outputs": [
        {
          "output_type": "stream",
          "text": [
            "/content/drive/MyDrive\n"
          ],
          "name": "stdout"
        }
      ]
    },
    {
      "cell_type": "code",
      "metadata": {
        "id": "8IKFPp2zna-x"
      },
      "source": [
        "# Building seqeuntial modules of the network\r\n",
        "import torch\r\n",
        "import torch.nn as nn\r\n",
        "import torch.nn.functional as F\r\n",
        "\r\n",
        "import torchvision\r\n",
        "import torchvision.transforms as transforms\r\n",
        "\r\n",
        "import matplotlib.pyplot as plt\r\n",
        "import math\r\n",
        "\r\n",
        "from collections import OrderedDict\r\n",
        "\r\n",
        "torch.set_printoptions(linewidth=150)\r\n"
      ],
      "execution_count": 4,
      "outputs": []
    },
    {
      "cell_type": "code",
      "metadata": {
        "id": "n7YPfYu7ovkS"
      },
      "source": [
        "linear_regression_model = nn.Linear(in_features=5, out_features=2)  # Linear <=> Fully Connected in_features=colums, out_features=rows 2x5"
      ],
      "execution_count": null,
      "outputs": []
    },
    {
      "cell_type": "code",
      "metadata": {
        "colab": {
          "base_uri": "https://localhost:8080/"
        },
        "id": "xZ3u-HYXnUIZ",
        "outputId": "5376f42b-d16d-4b45-d7dc-96d0609ebdbb"
      },
      "source": [
        "#Creation and Usage\r\n",
        "#Instantiate a Linear module from the torch.nn library\r\n",
        "FC_layer=nn.Linear(in_features=5,out_features=2) # linear or fully connected layers\r\n",
        "print(FC_layer)"
      ],
      "execution_count": 5,
      "outputs": [
        {
          "output_type": "stream",
          "text": [
            "Linear(in_features=5, out_features=2, bias=True)\n"
          ],
          "name": "stdout"
        }
      ]
    },
    {
      "cell_type": "code",
      "metadata": {
        "colab": {
          "base_uri": "https://localhost:8080/"
        },
        "id": "d4O5Wv6jpFeo",
        "outputId": "5128998a-8d3d-4e19-8b82-55d471040625"
      },
      "source": [
        "# Parameters of a module are randomly initialised\r\n",
        "FC_layer.weight"
      ],
      "execution_count": 8,
      "outputs": [
        {
          "output_type": "execute_result",
          "data": {
            "text/plain": [
              "Parameter containing:\n",
              "tensor([[-0.2921, -0.1447, -0.0386,  0.2053,  0.1201],\n",
              "        [-0.0425,  0.2147,  0.3936, -0.1369,  0.1212]], requires_grad=True)"
            ]
          },
          "metadata": {
            "tags": []
          },
          "execution_count": 8
        }
      ]
    },
    {
      "cell_type": "code",
      "metadata": {
        "colab": {
          "base_uri": "https://localhost:8080/"
        },
        "id": "qWcm34O7pUGH",
        "outputId": "afd1062d-2396-4738-ee46-b931af731b2d"
      },
      "source": [
        "# shape of weight matrix\r\n",
        "FC_layer.weight.shape"
      ],
      "execution_count": 9,
      "outputs": [
        {
          "output_type": "execute_result",
          "data": {
            "text/plain": [
              "torch.Size([2, 5])"
            ]
          },
          "metadata": {
            "tags": []
          },
          "execution_count": 9
        }
      ]
    },
    {
      "cell_type": "code",
      "metadata": {
        "colab": {
          "base_uri": "https://localhost:8080/"
        },
        "id": "EMc3zGrFpr0l",
        "outputId": "d8613a3f-60c7-4c85-f967-57a895d73eac"
      },
      "source": [
        "# type\r\n",
        "type(FC_layer.weight)\r\n",
        "#A Parameter is a Tensor which is automatically added to the list of parameters when used within a model."
      ],
      "execution_count": 10,
      "outputs": [
        {
          "output_type": "execute_result",
          "data": {
            "text/plain": [
              "torch.nn.parameter.Parameter"
            ]
          },
          "metadata": {
            "tags": []
          },
          "execution_count": 10
        }
      ]
    },
    {
      "cell_type": "code",
      "metadata": {
        "colab": {
          "base_uri": "https://localhost:8080/"
        },
        "id": "BjNXY7MdqavJ",
        "outputId": "8ab79b1e-5080-4971-a6bb-a27562bc438c"
      },
      "source": [
        "dir(FC_layer)"
      ],
      "execution_count": 15,
      "outputs": [
        {
          "output_type": "execute_result",
          "data": {
            "text/plain": [
              "['T_destination',\n",
              " '__annotations__',\n",
              " '__call__',\n",
              " '__class__',\n",
              " '__constants__',\n",
              " '__delattr__',\n",
              " '__dict__',\n",
              " '__dir__',\n",
              " '__doc__',\n",
              " '__eq__',\n",
              " '__format__',\n",
              " '__ge__',\n",
              " '__getattr__',\n",
              " '__getattribute__',\n",
              " '__gt__',\n",
              " '__hash__',\n",
              " '__init__',\n",
              " '__init_subclass__',\n",
              " '__le__',\n",
              " '__lt__',\n",
              " '__module__',\n",
              " '__ne__',\n",
              " '__new__',\n",
              " '__reduce__',\n",
              " '__reduce_ex__',\n",
              " '__repr__',\n",
              " '__setattr__',\n",
              " '__setstate__',\n",
              " '__sizeof__',\n",
              " '__str__',\n",
              " '__subclasshook__',\n",
              " '__weakref__',\n",
              " '_apply',\n",
              " '_backward_hooks',\n",
              " '_buffers',\n",
              " '_call_impl',\n",
              " '_forward_hooks',\n",
              " '_forward_pre_hooks',\n",
              " '_get_name',\n",
              " '_load_from_state_dict',\n",
              " '_load_state_dict_pre_hooks',\n",
              " '_modules',\n",
              " '_named_members',\n",
              " '_non_persistent_buffers_set',\n",
              " '_parameters',\n",
              " '_register_load_state_dict_pre_hook',\n",
              " '_register_state_dict_hook',\n",
              " '_replicate_for_data_parallel',\n",
              " '_save_to_state_dict',\n",
              " '_slow_forward',\n",
              " '_state_dict_hooks',\n",
              " '_version',\n",
              " 'add_module',\n",
              " 'apply',\n",
              " 'bfloat16',\n",
              " 'bias',\n",
              " 'buffers',\n",
              " 'children',\n",
              " 'cpu',\n",
              " 'cuda',\n",
              " 'double',\n",
              " 'dump_patches',\n",
              " 'eval',\n",
              " 'extra_repr',\n",
              " 'float',\n",
              " 'forward',\n",
              " 'half',\n",
              " 'in_features',\n",
              " 'load_state_dict',\n",
              " 'modules',\n",
              " 'named_buffers',\n",
              " 'named_children',\n",
              " 'named_modules',\n",
              " 'named_parameters',\n",
              " 'out_features',\n",
              " 'parameters',\n",
              " 'register_backward_hook',\n",
              " 'register_buffer',\n",
              " 'register_forward_hook',\n",
              " 'register_forward_pre_hook',\n",
              " 'register_parameter',\n",
              " 'requires_grad_',\n",
              " 'reset_parameters',\n",
              " 'share_memory',\n",
              " 'state_dict',\n",
              " 'to',\n",
              " 'train',\n",
              " 'training',\n",
              " 'type',\n",
              " 'weight',\n",
              " 'zero_grad']"
            ]
          },
          "metadata": {
            "tags": []
          },
          "execution_count": 15
        }
      ]
    },
    {
      "cell_type": "code",
      "metadata": {
        "colab": {
          "base_uri": "https://localhost:8080/"
        },
        "id": "wWxanXHsp8ao",
        "outputId": "47dade74-1a2b-4448-8543-be430c4cb15c"
      },
      "source": [
        "# check all module parameters\r\n",
        "for name, tensor in FC_layer.named_parameters():\r\n",
        "  print(\"{:6s} :: {}\".format(name,tensor))"
      ],
      "execution_count": 14,
      "outputs": [
        {
          "output_type": "stream",
          "text": [
            "weight :: Parameter containing:\n",
            "tensor([[-0.2921, -0.1447, -0.0386,  0.2053,  0.1201],\n",
            "        [-0.0425,  0.2147,  0.3936, -0.1369,  0.1212]], requires_grad=True)\n",
            "bias   :: Parameter containing:\n",
            "tensor([0.0708, 0.0822], requires_grad=True)\n"
          ],
          "name": "stdout"
        }
      ]
    },
    {
      "cell_type": "code",
      "metadata": {
        "colab": {
          "base_uri": "https://localhost:8080/"
        },
        "id": "wmf5_33oqh_Q",
        "outputId": "64f9bfbf-43ce-4fd6-c25f-ca7333cfaae2"
      },
      "source": [
        "list(FC_layer.parameters())"
      ],
      "execution_count": 16,
      "outputs": [
        {
          "output_type": "execute_result",
          "data": {
            "text/plain": [
              "[Parameter containing:\n",
              " tensor([[-0.2921, -0.1447, -0.0386,  0.2053,  0.1201],\n",
              "         [-0.0425,  0.2147,  0.3936, -0.1369,  0.1212]], requires_grad=True),\n",
              " Parameter containing:\n",
              " tensor([0.0708, 0.0822], requires_grad=True)]"
            ]
          },
          "metadata": {
            "tags": []
          },
          "execution_count": 16
        }
      ]
    },
    {
      "cell_type": "code",
      "metadata": {
        "colab": {
          "base_uri": "https://localhost:8080/"
        },
        "id": "gRbkJtZKqr-3",
        "outputId": "1a4915a2-4db2-4f22-e21e-d3b4b6dbd156"
      },
      "source": [
        "print(\"Weight matrix: W----------\", list(FC_layer.parameters())[0])"
      ],
      "execution_count": 27,
      "outputs": [
        {
          "output_type": "stream",
          "text": [
            "Weight matrix: W---------- Parameter containing:\n",
            "tensor([[-0.2921, -0.1447, -0.0386,  0.2053,  0.1201],\n",
            "        [-0.0425,  0.2147,  0.3936, -0.1369,  0.1212]], requires_grad=True)\n"
          ],
          "name": "stdout"
        }
      ]
    },
    {
      "cell_type": "code",
      "metadata": {
        "colab": {
          "base_uri": "https://localhost:8080/"
        },
        "id": "pPjtH1X3rNdY",
        "outputId": "cb249468-1f1a-41a8-bcd9-391dac254e95"
      },
      "source": [
        "print(\"bias Vector: W------\", list(FC_layer.parameters())[1])"
      ],
      "execution_count": 26,
      "outputs": [
        {
          "output_type": "stream",
          "text": [
            "bias Vector: W------ Parameter containing:\n",
            "tensor([0.0708, 0.0822], requires_grad=True)\n"
          ],
          "name": "stdout"
        }
      ]
    },
    {
      "cell_type": "code",
      "metadata": {
        "id": "Z_Pdd_xFsOj-"
      },
      "source": [
        "# Pytorch Modules operate on batches. It allows to process multiple datapoints in parallel\r\n",
        "# All modules in torch.nn are written to produce outputs for a batch of multiple inputs at the same time.\r\n",
        "\r\n",
        "batch_size = 3\r\n",
        "feature_size = 5\r\n",
        "x = torch.randn(batch_size, feature_size) # batch of 3 samples with 5 features each\r\n",
        "\r\n",
        "print(x, \"\\n\\n\", x.shape)"
      ],
      "execution_count": null,
      "outputs": []
    },
    {
      "cell_type": "code",
      "metadata": {
        "colab": {
          "base_uri": "https://localhost:8080/"
        },
        "id": "sMZnz5sPsGEM",
        "outputId": "35908eab-2522-4436-e2bd-5a3c6d8caded"
      },
      "source": [
        "# testing our model using input tensor\r\n",
        "#Calling a module on an input Tensor\r\n",
        "# Pytorch Modules operate on batches. It allows to process multiple datapoints in parallel\r\n",
        "# All modules in torch.nn are written to produce outputs for a batch of multiple inputs at the same time\r\n",
        "batch=3\r\n",
        "feature_size=5\r\n",
        "x=torch.randn(batch,feature_size) # batch is 3 and number of features in each batch are 5\r\n",
        "print(x,'\\n\\n',x.shape)"
      ],
      "execution_count": 28,
      "outputs": [
        {
          "output_type": "stream",
          "text": [
            "tensor([[-0.2625,  1.0284, -1.7102, -0.1373,  1.0268],\n",
            "        [-0.3938,  0.2395,  0.7747, -0.1808,  1.2172],\n",
            "        [-0.5812,  1.2153,  0.8329, -1.1733,  1.1772]]) \n",
            "\n",
            " torch.Size([3, 5])\n"
          ],
          "name": "stdout"
        }
      ]
    },
    {
      "cell_type": "code",
      "metadata": {
        "id": "DjV7Hd_ks2Ow"
      },
      "source": [
        "# predict the model by passing the input\r\n",
        "predicted_y = FC_layer(x)  # Note, you do not call explicitely forward\r\n",
        "print(predicted_y, \"\\n\\n\", predicted_y.shape)"
      ],
      "execution_count": null,
      "outputs": []
    },
    {
      "cell_type": "code",
      "metadata": {
        "colab": {
          "base_uri": "https://localhost:8080/"
        },
        "id": "J912YoD4tBlh",
        "outputId": "f653a1ea-7693-4f62-cd62-e3bcd484c584"
      },
      "source": [
        "# predict the model by passing the input\r\n",
        "# please note that model does nit call explicitely the forward\r\n",
        "predict_y=FC_layer(x)\r\n",
        "print(predict_y,'\\n\\n',predict_y.shape)"
      ],
      "execution_count": 29,
      "outputs": [
        {
          "output_type": "stream",
          "text": [
            "tensor([[ 0.1598, -0.2157],\n",
            "        [ 0.2303,  0.6275],\n",
            "        [-0.0669,  0.9990]], grad_fn=<AddmmBackward>) \n",
            "\n",
            " torch.Size([3, 2])\n"
          ],
          "name": "stdout"
        }
      ]
    },
    {
      "cell_type": "markdown",
      "metadata": {
        "id": "CHA13Eq7t-1B"
      },
      "source": [
        "**Composing modules with torch.nn.Sequential**"
      ]
    },
    {
      "cell_type": "code",
      "metadata": {
        "colab": {
          "base_uri": "https://localhost:8080/"
        },
        "id": "pr2nvn8wt6-D",
        "outputId": "64240ea5-1fb0-42f1-9403-622974798d36"
      },
      "source": [
        "# create model with more than one layer you need to call Sequential module in order to construct the module\r\n",
        "model_Se=torch.nn.Sequential(torch.nn.Linear(10,5),\r\n",
        "                             torch.nn.ReLU(),\r\n",
        "                             torch.nn.Linear(5,2))\r\n",
        "print(model_Se)"
      ],
      "execution_count": 30,
      "outputs": [
        {
          "output_type": "stream",
          "text": [
            "Sequential(\n",
            "  (0): Linear(in_features=10, out_features=5, bias=True)\n",
            "  (1): ReLU()\n",
            "  (2): Linear(in_features=5, out_features=2, bias=True)\n",
            ")\n"
          ],
          "name": "stdout"
        }
      ]
    },
    {
      "cell_type": "code",
      "metadata": {
        "colab": {
          "base_uri": "https://localhost:8080/"
        },
        "id": "P2NPsLyXwB2G",
        "outputId": "4080aa82-e118-4f7d-9aeb-b0607a4498cd"
      },
      "source": [
        "# check all module parameters\r\n",
        "for name, tensor in model_Se.named_parameters():\r\n",
        "  print(\"{:6s} :: {}\".format(name,tensor))"
      ],
      "execution_count": 40,
      "outputs": [
        {
          "output_type": "stream",
          "text": [
            "0.weight :: Parameter containing:\n",
            "tensor([[ 0.3032,  0.1379, -0.1578,  0.2427, -0.0187, -0.1108,  0.1881, -0.0033, -0.1712,  0.1225],\n",
            "        [-0.1371, -0.2180, -0.0114, -0.0336,  0.2753, -0.0592,  0.0125,  0.0607,  0.1637,  0.1845],\n",
            "        [-0.1453, -0.2928, -0.2854, -0.0990, -0.1174,  0.1572, -0.0596, -0.1366, -0.1658, -0.1852],\n",
            "        [ 0.2594,  0.0170,  0.2149, -0.1464,  0.1914, -0.0888, -0.2942, -0.2958,  0.3089, -0.2167],\n",
            "        [-0.2407,  0.1749, -0.0986,  0.0878, -0.2719,  0.1038,  0.1281, -0.1711,  0.2746,  0.1509]], requires_grad=True)\n",
            "0.bias :: Parameter containing:\n",
            "tensor([-0.1143,  0.0344, -0.1815,  0.2258, -0.3012], requires_grad=True)\n",
            "2.weight :: Parameter containing:\n",
            "tensor([[-0.3607,  0.4178,  0.3310,  0.1413,  0.4271],\n",
            "        [-0.3792,  0.1631,  0.0703, -0.2714,  0.2967]], requires_grad=True)\n",
            "2.bias :: Parameter containing:\n",
            "tensor([-0.2935,  0.1030], requires_grad=True)\n"
          ],
          "name": "stdout"
        }
      ]
    },
    {
      "cell_type": "code",
      "metadata": {
        "colab": {
          "base_uri": "https://localhost:8080/"
        },
        "id": "62MCYwSBuk6C",
        "outputId": "22d4eb97-1c60-45ff-cfe5-99112c9e873e"
      },
      "source": [
        "print(\"layer1 weight: W1\", list(model_Se.parameters())[0],'\\n\\n',list(model_Se.parameters())[0].shape)"
      ],
      "execution_count": 35,
      "outputs": [
        {
          "output_type": "stream",
          "text": [
            "layer1 weight: W1 Parameter containing:\n",
            "tensor([[ 0.3032,  0.1379, -0.1578,  0.2427, -0.0187, -0.1108,  0.1881, -0.0033, -0.1712,  0.1225],\n",
            "        [-0.1371, -0.2180, -0.0114, -0.0336,  0.2753, -0.0592,  0.0125,  0.0607,  0.1637,  0.1845],\n",
            "        [-0.1453, -0.2928, -0.2854, -0.0990, -0.1174,  0.1572, -0.0596, -0.1366, -0.1658, -0.1852],\n",
            "        [ 0.2594,  0.0170,  0.2149, -0.1464,  0.1914, -0.0888, -0.2942, -0.2958,  0.3089, -0.2167],\n",
            "        [-0.2407,  0.1749, -0.0986,  0.0878, -0.2719,  0.1038,  0.1281, -0.1711,  0.2746,  0.1509]], requires_grad=True) \n",
            "\n",
            " torch.Size([5, 10])\n"
          ],
          "name": "stdout"
        }
      ]
    },
    {
      "cell_type": "code",
      "metadata": {
        "colab": {
          "base_uri": "https://localhost:8080/"
        },
        "id": "CV7sd4hBvUA6",
        "outputId": "2ba5cb66-8d3b-478f-936d-d35ccce5d1a0"
      },
      "source": [
        "print(\"layer1 Bais: b1\", list(model_Se.parameters())[1],'\\n\\n',list(model_Se.parameters())[1].shape)"
      ],
      "execution_count": 36,
      "outputs": [
        {
          "output_type": "stream",
          "text": [
            "layer1 Bais: b1 Parameter containing:\n",
            "tensor([-0.1143,  0.0344, -0.1815,  0.2258, -0.3012], requires_grad=True) \n",
            "\n",
            " torch.Size([5])\n"
          ],
          "name": "stdout"
        }
      ]
    },
    {
      "cell_type": "code",
      "metadata": {
        "colab": {
          "base_uri": "https://localhost:8080/"
        },
        "id": "D_UwCi47vcT9",
        "outputId": "fa457318-eb9a-4561-8fb2-5acfb804607a"
      },
      "source": [
        "print(\"layer2 weight: W2\", list(model_Se.parameters())[2],'\\n\\n',list(model_Se.parameters())[2].shape)"
      ],
      "execution_count": 38,
      "outputs": [
        {
          "output_type": "stream",
          "text": [
            "layer2 weight: W2 Parameter containing:\n",
            "tensor([[-0.3607,  0.4178,  0.3310,  0.1413,  0.4271],\n",
            "        [-0.3792,  0.1631,  0.0703, -0.2714,  0.2967]], requires_grad=True) \n",
            "\n",
            " torch.Size([2, 5])\n"
          ],
          "name": "stdout"
        }
      ]
    },
    {
      "cell_type": "code",
      "metadata": {
        "colab": {
          "base_uri": "https://localhost:8080/"
        },
        "id": "lMpY0RrTviPq",
        "outputId": "e1389a91-39eb-4b6a-a050-7ae9f6c95dd4"
      },
      "source": [
        "print(\"layer2 bias: b2\", list(model_Se.parameters())[3],'\\n\\n',list(model_Se.parameters())[3].shape)"
      ],
      "execution_count": 39,
      "outputs": [
        {
          "output_type": "stream",
          "text": [
            "layer2 bias: b2 Parameter containing:\n",
            "tensor([-0.2935,  0.1030], requires_grad=True) \n",
            "\n",
            " torch.Size([2])\n"
          ],
          "name": "stdout"
        }
      ]
    },
    {
      "cell_type": "code",
      "metadata": {
        "colab": {
          "base_uri": "https://localhost:8080/"
        },
        "id": "3bnf8-KBwXKU",
        "outputId": "1b1eaeec-8137-4167-98d0-88c3fa4aa66e"
      },
      "source": [
        "x = torch.rand(5, 10)   # the first dimension is reserved for the 'batch_size'\r\n",
        "print(x,'\\n\\n',x.shape)"
      ],
      "execution_count": 41,
      "outputs": [
        {
          "output_type": "stream",
          "text": [
            "tensor([[0.3715, 0.6171, 0.2972, 0.5623, 0.1428, 0.5729, 0.5608, 0.2745, 0.5644, 0.2411],\n",
            "        [0.1538, 0.0830, 0.7820, 0.7782, 0.5272, 0.7269, 0.9030, 0.3738, 0.8695, 0.6880],\n",
            "        [0.4501, 0.1457, 0.5583, 0.0305, 0.3618, 0.2661, 0.3220, 0.2477, 0.4339, 0.3975],\n",
            "        [0.6372, 0.2485, 0.5399, 0.0325, 0.0568, 0.9038, 0.2371, 0.3033, 0.0415, 0.3999],\n",
            "        [0.6909, 0.8005, 0.3387, 0.8803, 0.1240, 0.7859, 0.7289, 0.2110, 0.2104, 0.1672]]) \n",
            "\n",
            " torch.Size([5, 10])\n"
          ],
          "name": "stdout"
        }
      ]
    },
    {
      "cell_type": "code",
      "metadata": {
        "colab": {
          "base_uri": "https://localhost:8080/"
        },
        "id": "1qPT-r7_xNpD",
        "outputId": "d01aad96-39c3-489a-fbb4-86a8d4b8b90c"
      },
      "source": [
        "# test model prediction\r\n",
        "prediction_model=model_Se(x)\r\n",
        "print(\"model prediction:\",prediction_model,'\\n\\n', prediction_model.shape)"
      ],
      "execution_count": 43,
      "outputs": [
        {
          "output_type": "stream",
          "text": [
            "model prediction: tensor([[-0.3220,  0.0031],\n",
            "        [-0.1347,  0.1266],\n",
            "        [-0.1634,  0.0277],\n",
            "        [-0.2719,  0.0401],\n",
            "        [-0.4271, -0.0662]], grad_fn=<AddmmBackward>) \n",
            "\n",
            " torch.Size([5, 2])\n"
          ],
          "name": "stdout"
        }
      ]
    },
    {
      "cell_type": "markdown",
      "metadata": {
        "id": "Qd_HD7_sxmcf"
      },
      "source": [
        "**There are three ways to build models in sequentially:**\r\n",
        "\r\n",
        "**First method:**\r\n"
      ]
    },
    {
      "cell_type": "code",
      "metadata": {
        "id": "HJhT8tQ5yOTg"
      },
      "source": [
        "torch.manual_seed(50)\r\n",
        "# First method is starightforward and simple \r\n",
        "Sequentialfirst=nn.Sequential(nn.Conv2d(in_channels=3,out_channels=5,kernel_size=3), #3x100x100=98x98\r\n",
        "                              nn.ReLU(),\r\n",
        "                              nn.MaxPool2d(kernel_size=2,stride=2), #49x49\r\n",
        "                              nn.Conv2d(in_channels=5,out_channels=10,kernel_size=4),#46x46\r\n",
        "                              nn.ReLU(),\r\n",
        "                              nn.MaxPool2d(kernel_size=2,stride=2), #23x23\r\n",
        "                              nn.Conv2d(in_channels=10,out_channels=10,kernel_size=3), #21x21\r\n",
        "                              nn.ReLU(),\r\n",
        "                              nn.MaxPool2d(kernel_size=3,stride=3), #7x7\r\n",
        "                              nn.Flatten(start_dim=1),\r\n",
        "                              nn.ReLU(),\r\n",
        "                              nn.Linear(in_features=10*7*7,out_features=60),\r\n",
        "                              nn.ReLU(),\r\n",
        "                              nn.Linear(in_features=60,out_features=10))"
      ],
      "execution_count": 48,
      "outputs": []
    },
    {
      "cell_type": "code",
      "metadata": {
        "colab": {
          "base_uri": "https://localhost:8080/"
        },
        "id": "-yrtSYqo0V0b",
        "outputId": "cb3e6f69-3def-4832-f973-9e1154ec1604"
      },
      "source": [
        "print(Sequentialfirst)"
      ],
      "execution_count": 49,
      "outputs": [
        {
          "output_type": "stream",
          "text": [
            "Sequential(\n",
            "  (0): Conv2d(3, 5, kernel_size=(3, 3), stride=(1, 1))\n",
            "  (1): ReLU()\n",
            "  (2): MaxPool2d(kernel_size=2, stride=2, padding=0, dilation=1, ceil_mode=False)\n",
            "  (3): Conv2d(5, 10, kernel_size=(4, 4), stride=(1, 1))\n",
            "  (4): ReLU()\n",
            "  (5): MaxPool2d(kernel_size=2, stride=2, padding=0, dilation=1, ceil_mode=False)\n",
            "  (6): Conv2d(10, 10, kernel_size=(3, 3), stride=(1, 1))\n",
            "  (7): ReLU()\n",
            "  (8): MaxPool2d(kernel_size=3, stride=3, padding=0, dilation=1, ceil_mode=False)\n",
            "  (9): Flatten(start_dim=1, end_dim=-1)\n",
            "  (10): ReLU()\n",
            "  (11): Linear(in_features=490, out_features=60, bias=True)\n",
            "  (12): ReLU()\n",
            "  (13): Linear(in_features=60, out_features=10, bias=True)\n",
            ")\n"
          ],
          "name": "stdout"
        }
      ]
    },
    {
      "cell_type": "code",
      "metadata": {
        "colab": {
          "base_uri": "https://localhost:8080/"
        },
        "id": "4VXVrGDI0a18",
        "outputId": "0f5da06f-009d-40f0-ef41-c9b9861e6263"
      },
      "source": [
        "# input tensor module for testing our model\r\n",
        "x=torch.randn((5,3,100,100))\r\n",
        "out=Sequentialfirst(x)\r\n",
        "print(\"print output prediction\",out,'\\n\\n',out.shape)"
      ],
      "execution_count": 52,
      "outputs": [
        {
          "output_type": "stream",
          "text": [
            "print output prediction tensor([[ 0.1395, -0.0426, -0.0218, -0.1908, -0.1048, -0.0873,  0.1465,  0.0050, -0.0887,  0.1354],\n",
            "        [ 0.1261, -0.0473, -0.0340, -0.1824, -0.0943, -0.0894,  0.1433,  0.0170, -0.0986,  0.1418],\n",
            "        [ 0.1351, -0.0404, -0.0253, -0.1787, -0.0917, -0.0905,  0.1416,  0.0204, -0.0900,  0.1416],\n",
            "        [ 0.1240, -0.0481, -0.0369, -0.1893, -0.0785, -0.0976,  0.1374,  0.0088, -0.0861,  0.1483],\n",
            "        [ 0.1280, -0.0398, -0.0292, -0.1829, -0.0824, -0.0886,  0.1304,  0.0166, -0.0961,  0.1432]], grad_fn=<AddmmBackward>) \n",
            "\n",
            " torch.Size([5, 10])\n"
          ],
          "name": "stdout"
        }
      ]
    },
    {
      "cell_type": "code",
      "metadata": {
        "colab": {
          "base_uri": "https://localhost:8080/"
        },
        "id": "64U4hJ4m1MjU",
        "outputId": "fa43a70f-748a-4f32-93d2-cb4ec42bf691"
      },
      "source": [
        "# second method to construct sequential model\r\n",
        "network2=nn.Sequential()\r\n",
        "network2.add_module('c1',nn.Conv2d(in_channels=3,out_channels=5,kernel_size=3))\r\n",
        "network2.add_module('act1',nn.ReLU())\r\n",
        "network2.add_module('maxpool1',nn.MaxPool2d(kernel_size=2,stride=2))\r\n",
        "network2.add_module('c2',nn.Conv2d(in_channels=5,out_channels=10,kernel_size=4))\r\n",
        "network2.add_module('act2',nn.ReLU())\r\n",
        "network2.add_module('maxpool2',nn.MaxPool2d(kernel_size=2,stride=2))\r\n",
        "network2.add_module('c3',nn.Conv2d(in_channels=10,out_channels=10,kernel_size=3))\r\n",
        "network2.add_module('act3',nn.ReLU())\r\n",
        "network2.add_module('maxpool3',nn.MaxPool2d(kernel_size=3,stride=3))\r\n",
        "network2.add_module('flatten',nn.Flatten(start_dim=1))\r\n",
        "network2.add_module('act4',nn.ReLU())\r\n",
        "network2.add_module('Linear1',nn.Linear(in_features=10*7*7,out_features=60))\r\n",
        "network2.add_module('act5',nn.ReLU())\r\n",
        "network2.add_module('Linear2',nn.Linear(in_features=60,out_features=10))\r\n",
        "print(network2)\r\n"
      ],
      "execution_count": 60,
      "outputs": [
        {
          "output_type": "stream",
          "text": [
            "Sequential(\n",
            "  (c1): Conv2d(3, 5, kernel_size=(3, 3), stride=(1, 1))\n",
            "  (act1): ReLU()\n",
            "  (maxpool1): MaxPool2d(kernel_size=2, stride=2, padding=0, dilation=1, ceil_mode=False)\n",
            "  (c2): Conv2d(5, 10, kernel_size=(4, 4), stride=(1, 1))\n",
            "  (act2): ReLU()\n",
            "  (maxpool2): MaxPool2d(kernel_size=2, stride=2, padding=0, dilation=1, ceil_mode=False)\n",
            "  (c3): Conv2d(10, 10, kernel_size=(3, 3), stride=(1, 1))\n",
            "  (act3): ReLU()\n",
            "  (maxpool3): MaxPool2d(kernel_size=3, stride=3, padding=0, dilation=1, ceil_mode=False)\n",
            "  (flatten): Flatten(start_dim=1, end_dim=-1)\n",
            "  (act4): ReLU()\n",
            "  (Linear1): Linear(in_features=490, out_features=60, bias=True)\n",
            "  (act5): ReLU()\n",
            "  (Linear2): Linear(in_features=60, out_features=10, bias=True)\n",
            ")\n"
          ],
          "name": "stdout"
        }
      ]
    },
    {
      "cell_type": "code",
      "metadata": {
        "colab": {
          "base_uri": "https://localhost:8080/"
        },
        "id": "FVOzHF4G31ci",
        "outputId": "56129f0b-89f2-4ac3-b4a0-156984f18fe0"
      },
      "source": [
        "# input tensor module for testing our model\r\n",
        "x=torch.randn((5,3,100,100))\r\n",
        "out=network2(x)\r\n",
        "print(\"print output prediction\",out,'\\n\\n',out.shape)"
      ],
      "execution_count": 61,
      "outputs": [
        {
          "output_type": "stream",
          "text": [
            "print output prediction tensor([[ 0.0005, -0.0778, -0.2369,  0.1233, -0.0161, -0.0700, -0.1477, -0.1387, -0.1692, -0.0811],\n",
            "        [ 0.0097, -0.0944, -0.2299,  0.1215, -0.0102, -0.0715, -0.1421, -0.1507, -0.1728, -0.0704],\n",
            "        [ 0.0121, -0.0732, -0.2339,  0.1195, -0.0244, -0.0412, -0.1456, -0.1666, -0.1733, -0.0549],\n",
            "        [ 0.0142, -0.0522, -0.2380,  0.1211, -0.0041, -0.0596, -0.1382, -0.1526, -0.1735, -0.0733],\n",
            "        [-0.0024, -0.0722, -0.2369,  0.1221,  0.0160, -0.0620, -0.1516, -0.1496, -0.1648, -0.0766]], grad_fn=<AddmmBackward>) \n",
            "\n",
            " torch.Size([5, 10])\n"
          ],
          "name": "stdout"
        }
      ]
    },
    {
      "cell_type": "code",
      "metadata": {
        "colab": {
          "base_uri": "https://localhost:8080/"
        },
        "id": "vscgjRDR4B4h",
        "outputId": "c98efd4a-559c-48fd-b75b-ab7349f550ec"
      },
      "source": [
        "# Method 3\r\n",
        "networks3_layers = OrderedDict([\r\n",
        "    ('c1',nn.Conv2d(in_channels=3,out_channels=5,kernel_size=3))\r\n",
        "   ,('act1',nn.ReLU())\r\n",
        "   ,('maxpool1',nn.MaxPool2d(kernel_size=2,stride=2))\r\n",
        "   ,('c2',nn.Conv2d(in_channels=5,out_channels=10,kernel_size=4)),\r\n",
        "   ('act2',nn.ReLU()),\r\n",
        "   ('maxpool2',nn.MaxPool2d(kernel_size=2,stride=2)),\r\n",
        "   ('c3',nn.Conv2d(in_channels=10,out_channels=10,kernel_size=3)),\r\n",
        "   ('act3',nn.ReLU()),\r\n",
        "   ('maxpool3',nn.MaxPool2d(kernel_size=3,stride=3)),\r\n",
        "   ('flatten',nn.Flatten(start_dim=1)),\r\n",
        "   ('act4',nn.ReLU()),\r\n",
        "   ('Linear1',nn.Linear(in_features=10*7*7,out_features=60)),\r\n",
        "   ('act5',nn.ReLU()),\r\n",
        "   ('Linear2',nn.Linear(in_features=60,out_features=10))\r\n",
        "])\r\n",
        "\r\n",
        "network3 = nn.Sequential(networks3_layers)\r\n",
        "print(network3)\r\n"
      ],
      "execution_count": 65,
      "outputs": [
        {
          "output_type": "stream",
          "text": [
            "Sequential(\n",
            "  (c1): Conv2d(3, 5, kernel_size=(3, 3), stride=(1, 1))\n",
            "  (act1): ReLU()\n",
            "  (maxpool1): MaxPool2d(kernel_size=2, stride=2, padding=0, dilation=1, ceil_mode=False)\n",
            "  (c2): Conv2d(5, 10, kernel_size=(4, 4), stride=(1, 1))\n",
            "  (act2): ReLU()\n",
            "  (maxpool2): MaxPool2d(kernel_size=2, stride=2, padding=0, dilation=1, ceil_mode=False)\n",
            "  (c3): Conv2d(10, 10, kernel_size=(3, 3), stride=(1, 1))\n",
            "  (act3): ReLU()\n",
            "  (maxpool3): MaxPool2d(kernel_size=3, stride=3, padding=0, dilation=1, ceil_mode=False)\n",
            "  (flatten): Flatten(start_dim=1, end_dim=-1)\n",
            "  (act4): ReLU()\n",
            "  (Linear1): Linear(in_features=490, out_features=60, bias=True)\n",
            "  (act5): ReLU()\n",
            "  (Linear2): Linear(in_features=60, out_features=10, bias=True)\n",
            ")\n"
          ],
          "name": "stdout"
        }
      ]
    },
    {
      "cell_type": "code",
      "metadata": {
        "colab": {
          "base_uri": "https://localhost:8080/"
        },
        "id": "wCufVao75YVf",
        "outputId": "21d89f0f-fafe-4965-cb3a-fb26959ad346"
      },
      "source": [
        "# input tensor module for testing our model\r\n",
        "x=torch.randn((5,3,100,100))\r\n",
        "out=network3(x)\r\n",
        "print(\"print output prediction\",out,'\\n\\n',out.shape)"
      ],
      "execution_count": 66,
      "outputs": [
        {
          "output_type": "stream",
          "text": [
            "print output prediction tensor([[-0.0876,  0.0998, -0.0502, -0.0477,  0.0093, -0.0766, -0.0519, -0.0143, -0.0529,  0.0811],\n",
            "        [-0.0721,  0.0983, -0.0410, -0.0573,  0.0035, -0.0721, -0.0417, -0.0100, -0.0501,  0.0736],\n",
            "        [-0.0839,  0.0947, -0.0201, -0.0443,  0.0028, -0.0859, -0.0419,  0.0096, -0.0358,  0.0897],\n",
            "        [-0.0716,  0.0858, -0.0266, -0.0530,  0.0012, -0.0785, -0.0422, -0.0178, -0.0173,  0.0908],\n",
            "        [-0.0848,  0.1014, -0.0332, -0.0463,  0.0045, -0.0721, -0.0303, -0.0037, -0.0262,  0.0736]], grad_fn=<AddmmBackward>) \n",
            "\n",
            " torch.Size([5, 10])\n"
          ],
          "name": "stdout"
        }
      ]
    },
    {
      "cell_type": "code",
      "metadata": {
        "colab": {
          "base_uri": "https://localhost:8080/"
        },
        "id": "3y8OI2gN8ieX",
        "outputId": "01bf9ab3-e51f-4810-ea3b-74ff9572c225"
      },
      "source": [
        "import torch.nn.functional as F\r\n",
        "class definemodel(nn.Module):\r\n",
        "  def __init__(self):\r\n",
        "    super().__init__()\r\n",
        "\r\n",
        "    self.C1=nn.Conv2d(3,5,3)\r\n",
        "    self.C2=nn.Conv2d(5,10,4)\r\n",
        "    self.C3=nn.Conv2d(10,10,3)\r\n",
        "    self.linear1=nn.Linear(in_features=10*7*7,out_features=60)\r\n",
        "    self.linear2=nn.Linear(in_features=60,out_features=10)\r\n",
        "  \r\n",
        "  def forward(self,x):\r\n",
        "    x=F.relu(self.C1(x))\r\n",
        "    x=F.max_pool2d(x,kernel_size=2,stride=2)\r\n",
        "    x=F.relu(self.C2(x))\r\n",
        "    x=F.max_pool2d(x,kernel_size=2,stride=2)\r\n",
        "    x=F.relu(self.C3(x))\r\n",
        "    x=F.max_pool2d(x,kernel_size=3,stride=3)\r\n",
        "    x=x.flatten(start_dim=1)\r\n",
        "    x=F.relu(self.linear1(x))\r\n",
        "    x=F.relu(self.linear2(x))\r\n",
        "    \r\n",
        "    return x\r\n",
        "\r\n",
        "model3=definemodel()\r\n",
        "print(model3)"
      ],
      "execution_count": 73,
      "outputs": [
        {
          "output_type": "stream",
          "text": [
            "definemodel(\n",
            "  (C1): Conv2d(3, 5, kernel_size=(3, 3), stride=(1, 1))\n",
            "  (C2): Conv2d(5, 10, kernel_size=(4, 4), stride=(1, 1))\n",
            "  (C3): Conv2d(10, 10, kernel_size=(3, 3), stride=(1, 1))\n",
            "  (linear1): Linear(in_features=490, out_features=60, bias=True)\n",
            "  (linear2): Linear(in_features=60, out_features=10, bias=True)\n",
            ")\n"
          ],
          "name": "stdout"
        }
      ]
    },
    {
      "cell_type": "code",
      "metadata": {
        "colab": {
          "base_uri": "https://localhost:8080/"
        },
        "id": "KPy_L9OZ8mBU",
        "outputId": "8513be5a-c6d4-4ede-c047-dabe53876adc"
      },
      "source": [
        "# input tensor module for testing our model\r\n",
        "x=torch.randn((5,3,100,100))\r\n",
        "out=model3(x)\r\n",
        "print(\"print output prediction\",out,'\\n\\n',out.shape)"
      ],
      "execution_count": 74,
      "outputs": [
        {
          "output_type": "stream",
          "text": [
            "print output prediction tensor([[0.0000, 0.1041, 0.0000, 0.1432, 0.1448, 0.0000, 0.1102, 0.0000, 0.0000, 0.0764],\n",
            "        [0.0000, 0.0906, 0.0000, 0.1302, 0.1365, 0.0000, 0.1134, 0.0000, 0.0000, 0.0678],\n",
            "        [0.0000, 0.1052, 0.0000, 0.1418, 0.1447, 0.0000, 0.1121, 0.0000, 0.0054, 0.0873],\n",
            "        [0.0000, 0.0973, 0.0000, 0.1525, 0.1477, 0.0000, 0.1092, 0.0000, 0.0061, 0.0738],\n",
            "        [0.0000, 0.0910, 0.0000, 0.1443, 0.1393, 0.0000, 0.1084, 0.0000, 0.0088, 0.0791]], grad_fn=<ReluBackward0>) \n",
            "\n",
            " torch.Size([5, 10])\n"
          ],
          "name": "stdout"
        }
      ]
    },
    {
      "cell_type": "markdown",
      "metadata": {
        "id": "FhmeOkCxtiCK"
      },
      "source": [
        "**Building Custom module**"
      ]
    },
    {
      "cell_type": "code",
      "metadata": {
        "id": "-aqct6I3tuWV"
      },
      "source": [
        "# simple fully connected model\r\n",
        "import torch.nn.functional as F\r\n",
        "\r\n",
        "class MyNeuralNetwork(nn.Module):\r\n",
        "    def __init__(self, input_size, hidden_size,hidden_size1, num_classes):\r\n",
        "        super(MyNeuralNetwork, self).__init__()\r\n",
        "        \r\n",
        "        self.linear_1 = nn.Linear(input_size, hidden_size)\r\n",
        "        self.linear_2 = nn.Linear(hidden_size, hidden_size1)\r\n",
        "        self.linear_3 = nn.Linear(hidden_size1, num_classes)\r\n",
        "    \r\n",
        "    def forward(self, x):\r\n",
        "        out = F.relu(self.linear_1(x))\r\n",
        "        out=F.relu(self.linear_2(out))\r\n",
        "        out = self.linear_3(out)\r\n",
        "        return out"
      ],
      "execution_count": 84,
      "outputs": []
    },
    {
      "cell_type": "code",
      "metadata": {
        "colab": {
          "base_uri": "https://localhost:8080/"
        },
        "id": "KFwTq0Y4t5C6",
        "outputId": "9bc26a3d-9eec-421d-a86c-de92697cf3c7"
      },
      "source": [
        "model = MyNeuralNetwork(input_size=10, hidden_size=5,hidden_size1=15,  num_classes=2)\r\n",
        "print(model)"
      ],
      "execution_count": 85,
      "outputs": [
        {
          "output_type": "stream",
          "text": [
            "MyNeuralNetwork(\n",
            "  (linear_1): Linear(in_features=10, out_features=5, bias=True)\n",
            "  (linear_2): Linear(in_features=5, out_features=15, bias=True)\n",
            "  (linear_3): Linear(in_features=15, out_features=2, bias=True)\n",
            ")\n"
          ],
          "name": "stdout"
        }
      ]
    },
    {
      "cell_type": "code",
      "metadata": {
        "colab": {
          "base_uri": "https://localhost:8080/"
        },
        "id": "XQ82-BST-VGB",
        "outputId": "1892a174-9566-4dc3-d7af-6a38650a4f97"
      },
      "source": [
        "x=torch.randn(5,10)\r\n",
        "output=model(x)\r\n",
        "print(output.shape)"
      ],
      "execution_count": 86,
      "outputs": [
        {
          "output_type": "stream",
          "text": [
            "torch.Size([5, 2])\n"
          ],
          "name": "stdout"
        }
      ]
    }
  ]
}